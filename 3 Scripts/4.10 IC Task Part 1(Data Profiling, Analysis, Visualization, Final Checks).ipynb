{
 "cells": [
  {
   "cell_type": "markdown",
   "id": "ffc9ede1",
   "metadata": {},
   "source": [
    "# Table of Contents\n",
    "1) Import Libraries and Data\n",
    "\n",
    "2) Remove PII (Personally Identifiable Information)\n",
    "\n",
    "3) Create Region column flag for dataframe and investigate spending differences across Regions\n",
    "\n",
    "4) Remove low activity users\n",
    "\n",
    "5) Create customer profiles\n",
    "\n",
    "6) Create visualizations for customer profile distributions\n",
    "\n",
    "7) Find descriptive statistics for customer profiles based on usage frequency and expenditure\n",
    "\n",
    "8/9) Compare customer profiles across regions and departments and provide visualizations\n",
    "\n",
    "10) Analysis of departments and loyalty\n",
    "\n",
    "11) Export visualizations and dataframe"
   ]
  },
  {
   "cell_type": "code",
   "execution_count": 1,
   "id": "f7218c2c",
   "metadata": {},
   "outputs": [],
   "source": [
    "#import libraries\n",
    "import pandas as pd\n",
    "import numpy as np\n",
    "import os\n",
    "import seaborn as se\n",
    "import matplotlib as mp\n",
    "import scipy as sc"
   ]
  },
  {
   "cell_type": "code",
   "execution_count": 2,
   "id": "c57205e6",
   "metadata": {},
   "outputs": [],
   "source": [
    "#define path\n",
    "path = r'C:\\Users\\Owner\\Documents\\Career Foundry\\Tasks\\Data Immersion Tasks\\Instacart Project'"
   ]
  },
  {
   "cell_type": "code",
   "execution_count": 3,
   "id": "ce054cfd",
   "metadata": {},
   "outputs": [],
   "source": [
    "#import customer/orders/products data as df_cust_prod_ord\n",
    "df_cust_prod_ord = pd.read_pickle(os.path.join(path, '2 Data', 'prepared data', 'final_orders_products_customers.pkl'))"
   ]
  },
  {
   "cell_type": "code",
   "execution_count": 4,
   "id": "039e4a01",
   "metadata": {},
   "outputs": [
    {
     "data": {
      "text/plain": [
       "(32435059, 33)"
      ]
     },
     "execution_count": 4,
     "metadata": {},
     "output_type": "execute_result"
    }
   ],
   "source": [
    "#check shape of dataframe\n",
    "df_cust_prod_ord.shape"
   ]
  },
  {
   "cell_type": "code",
   "execution_count": 5,
   "id": "55d181bc",
   "metadata": {},
   "outputs": [],
   "source": [
    "#import department data as df_dept\n",
    "df_dept = pd.read_csv(os.path.join(path, '2 Data', 'prepared data', 'departments_wrangled.csv'))"
   ]
  },
  {
   "cell_type": "markdown",
   "id": "9d2418b6",
   "metadata": {},
   "source": [
    "## 2)\n",
    "Consider any security implications that might exist for this new data. You’ll need to address any PII data in the data before continuing your analysis."
   ]
  },
  {
   "cell_type": "code",
   "execution_count": 6,
   "id": "27a291cc",
   "metadata": {},
   "outputs": [
    {
     "data": {
      "text/html": [
       "<div>\n",
       "<style scoped>\n",
       "    .dataframe tbody tr th:only-of-type {\n",
       "        vertical-align: middle;\n",
       "    }\n",
       "\n",
       "    .dataframe tbody tr th {\n",
       "        vertical-align: top;\n",
       "    }\n",
       "\n",
       "    .dataframe thead th {\n",
       "        text-align: right;\n",
       "    }\n",
       "</style>\n",
       "<table border=\"1\" class=\"dataframe\">\n",
       "  <thead>\n",
       "    <tr style=\"text-align: right;\">\n",
       "      <th></th>\n",
       "      <th>order_id</th>\n",
       "      <th>user_id</th>\n",
       "      <th>order_number</th>\n",
       "      <th>orders_day_of_week</th>\n",
       "      <th>order_hour_of_day</th>\n",
       "      <th>days_since_prior_order</th>\n",
       "      <th>product_id</th>\n",
       "      <th>add_to_cart_order</th>\n",
       "      <th>reordered</th>\n",
       "      <th>product_name</th>\n",
       "      <th>aisle_id</th>\n",
       "      <th>department_id</th>\n",
       "      <th>prices</th>\n",
       "      <th>price_range</th>\n",
       "      <th>busiest_day</th>\n",
       "      <th>busiest_2_days</th>\n",
       "      <th>busiest_period_of_day</th>\n",
       "      <th>max_order</th>\n",
       "      <th>loyalty_flag</th>\n",
       "      <th>avg_user_price</th>\n",
       "      <th>spend_flag</th>\n",
       "      <th>median_days_since_order</th>\n",
       "      <th>frequency_flag</th>\n",
       "      <th>first_name</th>\n",
       "      <th>last_name</th>\n",
       "      <th>Gender</th>\n",
       "      <th>STATE</th>\n",
       "      <th>Age</th>\n",
       "      <th>date_joined</th>\n",
       "      <th>num_of_dependants</th>\n",
       "      <th>fam_status</th>\n",
       "      <th>income</th>\n",
       "      <th>_merge</th>\n",
       "    </tr>\n",
       "  </thead>\n",
       "  <tbody>\n",
       "    <tr>\n",
       "      <th>0</th>\n",
       "      <td>2539329.0</td>\n",
       "      <td>1.0</td>\n",
       "      <td>1.0</td>\n",
       "      <td>2.0</td>\n",
       "      <td>8.0</td>\n",
       "      <td>NaN</td>\n",
       "      <td>196</td>\n",
       "      <td>1.0</td>\n",
       "      <td>0.0</td>\n",
       "      <td>Soda</td>\n",
       "      <td>77.0</td>\n",
       "      <td>7.0</td>\n",
       "      <td>9.0</td>\n",
       "      <td>Mid-range product</td>\n",
       "      <td>Regularly busy</td>\n",
       "      <td>Regularly busy</td>\n",
       "      <td>Average orders</td>\n",
       "      <td>10.0</td>\n",
       "      <td>New Customer</td>\n",
       "      <td>6.367797</td>\n",
       "      <td>Low Spender</td>\n",
       "      <td>20.5</td>\n",
       "      <td>Non-frequent customer</td>\n",
       "      <td>Linda</td>\n",
       "      <td>Nguyen</td>\n",
       "      <td>Female</td>\n",
       "      <td>Alabama</td>\n",
       "      <td>31.0</td>\n",
       "      <td>2/17/2019</td>\n",
       "      <td>3.0</td>\n",
       "      <td>married</td>\n",
       "      <td>40423.0</td>\n",
       "      <td>both</td>\n",
       "    </tr>\n",
       "    <tr>\n",
       "      <th>1</th>\n",
       "      <td>2398795.0</td>\n",
       "      <td>1.0</td>\n",
       "      <td>2.0</td>\n",
       "      <td>3.0</td>\n",
       "      <td>7.0</td>\n",
       "      <td>15.0</td>\n",
       "      <td>196</td>\n",
       "      <td>1.0</td>\n",
       "      <td>1.0</td>\n",
       "      <td>Soda</td>\n",
       "      <td>77.0</td>\n",
       "      <td>7.0</td>\n",
       "      <td>9.0</td>\n",
       "      <td>Mid-range product</td>\n",
       "      <td>Regularly busy</td>\n",
       "      <td>Least busy</td>\n",
       "      <td>Average orders</td>\n",
       "      <td>10.0</td>\n",
       "      <td>New Customer</td>\n",
       "      <td>6.367797</td>\n",
       "      <td>Low Spender</td>\n",
       "      <td>20.5</td>\n",
       "      <td>Non-frequent customer</td>\n",
       "      <td>Linda</td>\n",
       "      <td>Nguyen</td>\n",
       "      <td>Female</td>\n",
       "      <td>Alabama</td>\n",
       "      <td>31.0</td>\n",
       "      <td>2/17/2019</td>\n",
       "      <td>3.0</td>\n",
       "      <td>married</td>\n",
       "      <td>40423.0</td>\n",
       "      <td>both</td>\n",
       "    </tr>\n",
       "    <tr>\n",
       "      <th>2</th>\n",
       "      <td>473747.0</td>\n",
       "      <td>1.0</td>\n",
       "      <td>3.0</td>\n",
       "      <td>3.0</td>\n",
       "      <td>12.0</td>\n",
       "      <td>21.0</td>\n",
       "      <td>196</td>\n",
       "      <td>1.0</td>\n",
       "      <td>1.0</td>\n",
       "      <td>Soda</td>\n",
       "      <td>77.0</td>\n",
       "      <td>7.0</td>\n",
       "      <td>9.0</td>\n",
       "      <td>Mid-range product</td>\n",
       "      <td>Regularly busy</td>\n",
       "      <td>Least busy</td>\n",
       "      <td>Most orders</td>\n",
       "      <td>10.0</td>\n",
       "      <td>New Customer</td>\n",
       "      <td>6.367797</td>\n",
       "      <td>Low Spender</td>\n",
       "      <td>20.5</td>\n",
       "      <td>Non-frequent customer</td>\n",
       "      <td>Linda</td>\n",
       "      <td>Nguyen</td>\n",
       "      <td>Female</td>\n",
       "      <td>Alabama</td>\n",
       "      <td>31.0</td>\n",
       "      <td>2/17/2019</td>\n",
       "      <td>3.0</td>\n",
       "      <td>married</td>\n",
       "      <td>40423.0</td>\n",
       "      <td>both</td>\n",
       "    </tr>\n",
       "    <tr>\n",
       "      <th>3</th>\n",
       "      <td>2254736.0</td>\n",
       "      <td>1.0</td>\n",
       "      <td>4.0</td>\n",
       "      <td>4.0</td>\n",
       "      <td>7.0</td>\n",
       "      <td>29.0</td>\n",
       "      <td>196</td>\n",
       "      <td>1.0</td>\n",
       "      <td>1.0</td>\n",
       "      <td>Soda</td>\n",
       "      <td>77.0</td>\n",
       "      <td>7.0</td>\n",
       "      <td>9.0</td>\n",
       "      <td>Mid-range product</td>\n",
       "      <td>Least busy</td>\n",
       "      <td>Least busy</td>\n",
       "      <td>Average orders</td>\n",
       "      <td>10.0</td>\n",
       "      <td>New Customer</td>\n",
       "      <td>6.367797</td>\n",
       "      <td>Low Spender</td>\n",
       "      <td>20.5</td>\n",
       "      <td>Non-frequent customer</td>\n",
       "      <td>Linda</td>\n",
       "      <td>Nguyen</td>\n",
       "      <td>Female</td>\n",
       "      <td>Alabama</td>\n",
       "      <td>31.0</td>\n",
       "      <td>2/17/2019</td>\n",
       "      <td>3.0</td>\n",
       "      <td>married</td>\n",
       "      <td>40423.0</td>\n",
       "      <td>both</td>\n",
       "    </tr>\n",
       "    <tr>\n",
       "      <th>4</th>\n",
       "      <td>431534.0</td>\n",
       "      <td>1.0</td>\n",
       "      <td>5.0</td>\n",
       "      <td>4.0</td>\n",
       "      <td>15.0</td>\n",
       "      <td>28.0</td>\n",
       "      <td>196</td>\n",
       "      <td>1.0</td>\n",
       "      <td>1.0</td>\n",
       "      <td>Soda</td>\n",
       "      <td>77.0</td>\n",
       "      <td>7.0</td>\n",
       "      <td>9.0</td>\n",
       "      <td>Mid-range product</td>\n",
       "      <td>Least busy</td>\n",
       "      <td>Least busy</td>\n",
       "      <td>Most orders</td>\n",
       "      <td>10.0</td>\n",
       "      <td>New Customer</td>\n",
       "      <td>6.367797</td>\n",
       "      <td>Low Spender</td>\n",
       "      <td>20.5</td>\n",
       "      <td>Non-frequent customer</td>\n",
       "      <td>Linda</td>\n",
       "      <td>Nguyen</td>\n",
       "      <td>Female</td>\n",
       "      <td>Alabama</td>\n",
       "      <td>31.0</td>\n",
       "      <td>2/17/2019</td>\n",
       "      <td>3.0</td>\n",
       "      <td>married</td>\n",
       "      <td>40423.0</td>\n",
       "      <td>both</td>\n",
       "    </tr>\n",
       "  </tbody>\n",
       "</table>\n",
       "</div>"
      ],
      "text/plain": [
       "    order_id  user_id  order_number  orders_day_of_week  order_hour_of_day  \\\n",
       "0  2539329.0      1.0           1.0                 2.0                8.0   \n",
       "1  2398795.0      1.0           2.0                 3.0                7.0   \n",
       "2   473747.0      1.0           3.0                 3.0               12.0   \n",
       "3  2254736.0      1.0           4.0                 4.0                7.0   \n",
       "4   431534.0      1.0           5.0                 4.0               15.0   \n",
       "\n",
       "   days_since_prior_order  product_id  add_to_cart_order  reordered  \\\n",
       "0                     NaN         196                1.0        0.0   \n",
       "1                    15.0         196                1.0        1.0   \n",
       "2                    21.0         196                1.0        1.0   \n",
       "3                    29.0         196                1.0        1.0   \n",
       "4                    28.0         196                1.0        1.0   \n",
       "\n",
       "  product_name  aisle_id  department_id  prices        price_range  \\\n",
       "0         Soda      77.0            7.0     9.0  Mid-range product   \n",
       "1         Soda      77.0            7.0     9.0  Mid-range product   \n",
       "2         Soda      77.0            7.0     9.0  Mid-range product   \n",
       "3         Soda      77.0            7.0     9.0  Mid-range product   \n",
       "4         Soda      77.0            7.0     9.0  Mid-range product   \n",
       "\n",
       "      busiest_day  busiest_2_days busiest_period_of_day  max_order  \\\n",
       "0  Regularly busy  Regularly busy        Average orders       10.0   \n",
       "1  Regularly busy      Least busy        Average orders       10.0   \n",
       "2  Regularly busy      Least busy           Most orders       10.0   \n",
       "3      Least busy      Least busy        Average orders       10.0   \n",
       "4      Least busy      Least busy           Most orders       10.0   \n",
       "\n",
       "   loyalty_flag  avg_user_price   spend_flag  median_days_since_order  \\\n",
       "0  New Customer        6.367797  Low Spender                     20.5   \n",
       "1  New Customer        6.367797  Low Spender                     20.5   \n",
       "2  New Customer        6.367797  Low Spender                     20.5   \n",
       "3  New Customer        6.367797  Low Spender                     20.5   \n",
       "4  New Customer        6.367797  Low Spender                     20.5   \n",
       "\n",
       "          frequency_flag first_name last_name  Gender    STATE   Age  \\\n",
       "0  Non-frequent customer      Linda    Nguyen  Female  Alabama  31.0   \n",
       "1  Non-frequent customer      Linda    Nguyen  Female  Alabama  31.0   \n",
       "2  Non-frequent customer      Linda    Nguyen  Female  Alabama  31.0   \n",
       "3  Non-frequent customer      Linda    Nguyen  Female  Alabama  31.0   \n",
       "4  Non-frequent customer      Linda    Nguyen  Female  Alabama  31.0   \n",
       "\n",
       "  date_joined  num_of_dependants fam_status   income _merge  \n",
       "0   2/17/2019                3.0    married  40423.0   both  \n",
       "1   2/17/2019                3.0    married  40423.0   both  \n",
       "2   2/17/2019                3.0    married  40423.0   both  \n",
       "3   2/17/2019                3.0    married  40423.0   both  \n",
       "4   2/17/2019                3.0    married  40423.0   both  "
      ]
     },
     "execution_count": 6,
     "metadata": {},
     "output_type": "execute_result"
    }
   ],
   "source": [
    "#review the headers of df_cust_prod_ord to check for any PII\n",
    "pd.set_option('display.max_columns', None)\n",
    "df_cust_prod_ord.head()"
   ]
  },
  {
   "cell_type": "code",
   "execution_count": 7,
   "id": "a8880d50",
   "metadata": {},
   "outputs": [],
   "source": [
    "#remove the first name and last name columns to remove PII information. the user_id column can bring this information back if needed in future\n",
    "df_cust_prod_ord = df_cust_prod_ord.drop(columns =['first_name','last_name'])"
   ]
  },
  {
   "cell_type": "code",
   "execution_count": 8,
   "id": "58fcee50",
   "metadata": {},
   "outputs": [
    {
     "data": {
      "text/html": [
       "<div>\n",
       "<style scoped>\n",
       "    .dataframe tbody tr th:only-of-type {\n",
       "        vertical-align: middle;\n",
       "    }\n",
       "\n",
       "    .dataframe tbody tr th {\n",
       "        vertical-align: top;\n",
       "    }\n",
       "\n",
       "    .dataframe thead th {\n",
       "        text-align: right;\n",
       "    }\n",
       "</style>\n",
       "<table border=\"1\" class=\"dataframe\">\n",
       "  <thead>\n",
       "    <tr style=\"text-align: right;\">\n",
       "      <th></th>\n",
       "      <th>order_id</th>\n",
       "      <th>user_id</th>\n",
       "      <th>order_number</th>\n",
       "      <th>orders_day_of_week</th>\n",
       "      <th>order_hour_of_day</th>\n",
       "      <th>days_since_prior_order</th>\n",
       "      <th>product_id</th>\n",
       "      <th>add_to_cart_order</th>\n",
       "      <th>reordered</th>\n",
       "      <th>product_name</th>\n",
       "      <th>aisle_id</th>\n",
       "      <th>department_id</th>\n",
       "      <th>prices</th>\n",
       "      <th>price_range</th>\n",
       "      <th>busiest_day</th>\n",
       "      <th>busiest_2_days</th>\n",
       "      <th>busiest_period_of_day</th>\n",
       "      <th>max_order</th>\n",
       "      <th>loyalty_flag</th>\n",
       "      <th>avg_user_price</th>\n",
       "      <th>spend_flag</th>\n",
       "      <th>median_days_since_order</th>\n",
       "      <th>frequency_flag</th>\n",
       "      <th>Gender</th>\n",
       "      <th>STATE</th>\n",
       "      <th>Age</th>\n",
       "      <th>date_joined</th>\n",
       "      <th>num_of_dependants</th>\n",
       "      <th>fam_status</th>\n",
       "      <th>income</th>\n",
       "      <th>_merge</th>\n",
       "    </tr>\n",
       "  </thead>\n",
       "  <tbody>\n",
       "    <tr>\n",
       "      <th>0</th>\n",
       "      <td>2539329.0</td>\n",
       "      <td>1.0</td>\n",
       "      <td>1.0</td>\n",
       "      <td>2.0</td>\n",
       "      <td>8.0</td>\n",
       "      <td>NaN</td>\n",
       "      <td>196</td>\n",
       "      <td>1.0</td>\n",
       "      <td>0.0</td>\n",
       "      <td>Soda</td>\n",
       "      <td>77.0</td>\n",
       "      <td>7.0</td>\n",
       "      <td>9.0</td>\n",
       "      <td>Mid-range product</td>\n",
       "      <td>Regularly busy</td>\n",
       "      <td>Regularly busy</td>\n",
       "      <td>Average orders</td>\n",
       "      <td>10.0</td>\n",
       "      <td>New Customer</td>\n",
       "      <td>6.367797</td>\n",
       "      <td>Low Spender</td>\n",
       "      <td>20.5</td>\n",
       "      <td>Non-frequent customer</td>\n",
       "      <td>Female</td>\n",
       "      <td>Alabama</td>\n",
       "      <td>31.0</td>\n",
       "      <td>2/17/2019</td>\n",
       "      <td>3.0</td>\n",
       "      <td>married</td>\n",
       "      <td>40423.0</td>\n",
       "      <td>both</td>\n",
       "    </tr>\n",
       "    <tr>\n",
       "      <th>1</th>\n",
       "      <td>2398795.0</td>\n",
       "      <td>1.0</td>\n",
       "      <td>2.0</td>\n",
       "      <td>3.0</td>\n",
       "      <td>7.0</td>\n",
       "      <td>15.0</td>\n",
       "      <td>196</td>\n",
       "      <td>1.0</td>\n",
       "      <td>1.0</td>\n",
       "      <td>Soda</td>\n",
       "      <td>77.0</td>\n",
       "      <td>7.0</td>\n",
       "      <td>9.0</td>\n",
       "      <td>Mid-range product</td>\n",
       "      <td>Regularly busy</td>\n",
       "      <td>Least busy</td>\n",
       "      <td>Average orders</td>\n",
       "      <td>10.0</td>\n",
       "      <td>New Customer</td>\n",
       "      <td>6.367797</td>\n",
       "      <td>Low Spender</td>\n",
       "      <td>20.5</td>\n",
       "      <td>Non-frequent customer</td>\n",
       "      <td>Female</td>\n",
       "      <td>Alabama</td>\n",
       "      <td>31.0</td>\n",
       "      <td>2/17/2019</td>\n",
       "      <td>3.0</td>\n",
       "      <td>married</td>\n",
       "      <td>40423.0</td>\n",
       "      <td>both</td>\n",
       "    </tr>\n",
       "    <tr>\n",
       "      <th>2</th>\n",
       "      <td>473747.0</td>\n",
       "      <td>1.0</td>\n",
       "      <td>3.0</td>\n",
       "      <td>3.0</td>\n",
       "      <td>12.0</td>\n",
       "      <td>21.0</td>\n",
       "      <td>196</td>\n",
       "      <td>1.0</td>\n",
       "      <td>1.0</td>\n",
       "      <td>Soda</td>\n",
       "      <td>77.0</td>\n",
       "      <td>7.0</td>\n",
       "      <td>9.0</td>\n",
       "      <td>Mid-range product</td>\n",
       "      <td>Regularly busy</td>\n",
       "      <td>Least busy</td>\n",
       "      <td>Most orders</td>\n",
       "      <td>10.0</td>\n",
       "      <td>New Customer</td>\n",
       "      <td>6.367797</td>\n",
       "      <td>Low Spender</td>\n",
       "      <td>20.5</td>\n",
       "      <td>Non-frequent customer</td>\n",
       "      <td>Female</td>\n",
       "      <td>Alabama</td>\n",
       "      <td>31.0</td>\n",
       "      <td>2/17/2019</td>\n",
       "      <td>3.0</td>\n",
       "      <td>married</td>\n",
       "      <td>40423.0</td>\n",
       "      <td>both</td>\n",
       "    </tr>\n",
       "    <tr>\n",
       "      <th>3</th>\n",
       "      <td>2254736.0</td>\n",
       "      <td>1.0</td>\n",
       "      <td>4.0</td>\n",
       "      <td>4.0</td>\n",
       "      <td>7.0</td>\n",
       "      <td>29.0</td>\n",
       "      <td>196</td>\n",
       "      <td>1.0</td>\n",
       "      <td>1.0</td>\n",
       "      <td>Soda</td>\n",
       "      <td>77.0</td>\n",
       "      <td>7.0</td>\n",
       "      <td>9.0</td>\n",
       "      <td>Mid-range product</td>\n",
       "      <td>Least busy</td>\n",
       "      <td>Least busy</td>\n",
       "      <td>Average orders</td>\n",
       "      <td>10.0</td>\n",
       "      <td>New Customer</td>\n",
       "      <td>6.367797</td>\n",
       "      <td>Low Spender</td>\n",
       "      <td>20.5</td>\n",
       "      <td>Non-frequent customer</td>\n",
       "      <td>Female</td>\n",
       "      <td>Alabama</td>\n",
       "      <td>31.0</td>\n",
       "      <td>2/17/2019</td>\n",
       "      <td>3.0</td>\n",
       "      <td>married</td>\n",
       "      <td>40423.0</td>\n",
       "      <td>both</td>\n",
       "    </tr>\n",
       "    <tr>\n",
       "      <th>4</th>\n",
       "      <td>431534.0</td>\n",
       "      <td>1.0</td>\n",
       "      <td>5.0</td>\n",
       "      <td>4.0</td>\n",
       "      <td>15.0</td>\n",
       "      <td>28.0</td>\n",
       "      <td>196</td>\n",
       "      <td>1.0</td>\n",
       "      <td>1.0</td>\n",
       "      <td>Soda</td>\n",
       "      <td>77.0</td>\n",
       "      <td>7.0</td>\n",
       "      <td>9.0</td>\n",
       "      <td>Mid-range product</td>\n",
       "      <td>Least busy</td>\n",
       "      <td>Least busy</td>\n",
       "      <td>Most orders</td>\n",
       "      <td>10.0</td>\n",
       "      <td>New Customer</td>\n",
       "      <td>6.367797</td>\n",
       "      <td>Low Spender</td>\n",
       "      <td>20.5</td>\n",
       "      <td>Non-frequent customer</td>\n",
       "      <td>Female</td>\n",
       "      <td>Alabama</td>\n",
       "      <td>31.0</td>\n",
       "      <td>2/17/2019</td>\n",
       "      <td>3.0</td>\n",
       "      <td>married</td>\n",
       "      <td>40423.0</td>\n",
       "      <td>both</td>\n",
       "    </tr>\n",
       "  </tbody>\n",
       "</table>\n",
       "</div>"
      ],
      "text/plain": [
       "    order_id  user_id  order_number  orders_day_of_week  order_hour_of_day  \\\n",
       "0  2539329.0      1.0           1.0                 2.0                8.0   \n",
       "1  2398795.0      1.0           2.0                 3.0                7.0   \n",
       "2   473747.0      1.0           3.0                 3.0               12.0   \n",
       "3  2254736.0      1.0           4.0                 4.0                7.0   \n",
       "4   431534.0      1.0           5.0                 4.0               15.0   \n",
       "\n",
       "   days_since_prior_order  product_id  add_to_cart_order  reordered  \\\n",
       "0                     NaN         196                1.0        0.0   \n",
       "1                    15.0         196                1.0        1.0   \n",
       "2                    21.0         196                1.0        1.0   \n",
       "3                    29.0         196                1.0        1.0   \n",
       "4                    28.0         196                1.0        1.0   \n",
       "\n",
       "  product_name  aisle_id  department_id  prices        price_range  \\\n",
       "0         Soda      77.0            7.0     9.0  Mid-range product   \n",
       "1         Soda      77.0            7.0     9.0  Mid-range product   \n",
       "2         Soda      77.0            7.0     9.0  Mid-range product   \n",
       "3         Soda      77.0            7.0     9.0  Mid-range product   \n",
       "4         Soda      77.0            7.0     9.0  Mid-range product   \n",
       "\n",
       "      busiest_day  busiest_2_days busiest_period_of_day  max_order  \\\n",
       "0  Regularly busy  Regularly busy        Average orders       10.0   \n",
       "1  Regularly busy      Least busy        Average orders       10.0   \n",
       "2  Regularly busy      Least busy           Most orders       10.0   \n",
       "3      Least busy      Least busy        Average orders       10.0   \n",
       "4      Least busy      Least busy           Most orders       10.0   \n",
       "\n",
       "   loyalty_flag  avg_user_price   spend_flag  median_days_since_order  \\\n",
       "0  New Customer        6.367797  Low Spender                     20.5   \n",
       "1  New Customer        6.367797  Low Spender                     20.5   \n",
       "2  New Customer        6.367797  Low Spender                     20.5   \n",
       "3  New Customer        6.367797  Low Spender                     20.5   \n",
       "4  New Customer        6.367797  Low Spender                     20.5   \n",
       "\n",
       "          frequency_flag  Gender    STATE   Age date_joined  \\\n",
       "0  Non-frequent customer  Female  Alabama  31.0   2/17/2019   \n",
       "1  Non-frequent customer  Female  Alabama  31.0   2/17/2019   \n",
       "2  Non-frequent customer  Female  Alabama  31.0   2/17/2019   \n",
       "3  Non-frequent customer  Female  Alabama  31.0   2/17/2019   \n",
       "4  Non-frequent customer  Female  Alabama  31.0   2/17/2019   \n",
       "\n",
       "   num_of_dependants fam_status   income _merge  \n",
       "0                3.0    married  40423.0   both  \n",
       "1                3.0    married  40423.0   both  \n",
       "2                3.0    married  40423.0   both  \n",
       "3                3.0    married  40423.0   both  \n",
       "4                3.0    married  40423.0   both  "
      ]
     },
     "execution_count": 8,
     "metadata": {},
     "output_type": "execute_result"
    }
   ],
   "source": [
    "#recheck column headers\n",
    "pd.set_option('display.max_columns', None)\n",
    "df_cust_prod_ord.head()"
   ]
  },
  {
   "cell_type": "markdown",
   "id": "c427d4fe",
   "metadata": {},
   "source": [
    "## 3)\n",
    "The Instacart officers are interested in comparing customer behavior in different geographic areas. Create a regional segmentation of the data. You’ll need to create a “Region” column based on the “State” column from your customers data set.\n",
    "\n",
    "1) Split States into Northeast, Midwest, South, and West regions\n",
    "\n",
    "2) Determine whether there’s a difference in spending habits between the different U.S. regions."
   ]
  },
  {
   "cell_type": "markdown",
   "id": "24b1245a",
   "metadata": {},
   "source": [
    "#### Create Region Flag"
   ]
  },
  {
   "cell_type": "code",
   "execution_count": 9,
   "id": "21034b41",
   "metadata": {},
   "outputs": [],
   "source": [
    "#create a for loop that makes a result list of which region the state is in\n",
    "region_list = []\n",
    "\n",
    "for value in df_cust_prod_ord['STATE']:\n",
    "    if value in ['Maine','New Hampshire','Vermont', 'Massachusetts', 'Rhode Island', 'Connecticut', 'New York', 'Pennsylvania', 'New Jersey']:\n",
    "        region_list.append('Northeast')\n",
    "    elif value in ['Wisconsin','Michigan','Illinois','Indiana','Ohio','North Dakota','South Dakota','Nebraska','Kansas','Minnesota','Iowa','Missouri']:\n",
    "        region_list.append('Midwest')\n",
    "    elif value in ['Delaware','Maryland','District of Columbia','Virginia','West Virginia','North Carolina','South Carolina','Georgia','Florida','Kentucky','Tennessee','Mississippi','Alabama','Oklahoma','Texas','Arkansas','Louisiana']:\n",
    "        region_list.append('South')\n",
    "    elif value in ['Idaho','Montana','Wyoming','Nevada','Utah','Colorado','Arizona','New Mexico', 'Alaska','Washington','Oregon','California','Hawaii']:\n",
    "        region_list.append('West')\n",
    "    else:\n",
    "        region_list.append('No Region')\n",
    "    "
   ]
  },
  {
   "cell_type": "code",
   "execution_count": 10,
   "id": "8b10744c",
   "metadata": {},
   "outputs": [],
   "source": [
    "#add the regional data from region_list to the df_cust_prod_ord data in the new Region column\n",
    "df_cust_prod_ord['Region']= region_list"
   ]
  },
  {
   "cell_type": "code",
   "execution_count": 11,
   "id": "f8995579",
   "metadata": {},
   "outputs": [
    {
     "data": {
      "text/plain": [
       "South        10801982\n",
       "West          8300617\n",
       "Midwest       7604016\n",
       "Northeast     5728444\n",
       "Name: Region, dtype: int64"
      ]
     },
     "execution_count": 11,
     "metadata": {},
     "output_type": "execute_result"
    }
   ],
   "source": [
    "#do a count to check for any No Region values\n",
    "df_cust_prod_ord['Region'].value_counts(dropna = False)"
   ]
  },
  {
   "cell_type": "code",
   "execution_count": 12,
   "id": "dae729fa",
   "metadata": {},
   "outputs": [
    {
     "data": {
      "text/html": [
       "<div>\n",
       "<style scoped>\n",
       "    .dataframe tbody tr th:only-of-type {\n",
       "        vertical-align: middle;\n",
       "    }\n",
       "\n",
       "    .dataframe tbody tr th {\n",
       "        vertical-align: top;\n",
       "    }\n",
       "\n",
       "    .dataframe thead th {\n",
       "        text-align: right;\n",
       "    }\n",
       "</style>\n",
       "<table border=\"1\" class=\"dataframe\">\n",
       "  <thead>\n",
       "    <tr style=\"text-align: right;\">\n",
       "      <th></th>\n",
       "      <th>order_id</th>\n",
       "      <th>user_id</th>\n",
       "      <th>order_number</th>\n",
       "      <th>orders_day_of_week</th>\n",
       "      <th>order_hour_of_day</th>\n",
       "      <th>days_since_prior_order</th>\n",
       "      <th>product_id</th>\n",
       "      <th>add_to_cart_order</th>\n",
       "      <th>reordered</th>\n",
       "      <th>product_name</th>\n",
       "      <th>aisle_id</th>\n",
       "      <th>department_id</th>\n",
       "      <th>prices</th>\n",
       "      <th>price_range</th>\n",
       "      <th>busiest_day</th>\n",
       "      <th>busiest_2_days</th>\n",
       "      <th>busiest_period_of_day</th>\n",
       "      <th>max_order</th>\n",
       "      <th>loyalty_flag</th>\n",
       "      <th>avg_user_price</th>\n",
       "      <th>spend_flag</th>\n",
       "      <th>median_days_since_order</th>\n",
       "      <th>frequency_flag</th>\n",
       "      <th>Gender</th>\n",
       "      <th>STATE</th>\n",
       "      <th>Age</th>\n",
       "      <th>date_joined</th>\n",
       "      <th>num_of_dependants</th>\n",
       "      <th>fam_status</th>\n",
       "      <th>income</th>\n",
       "      <th>_merge</th>\n",
       "      <th>Region</th>\n",
       "    </tr>\n",
       "  </thead>\n",
       "  <tbody>\n",
       "    <tr>\n",
       "      <th>0</th>\n",
       "      <td>2539329.0</td>\n",
       "      <td>1.0</td>\n",
       "      <td>1.0</td>\n",
       "      <td>2.0</td>\n",
       "      <td>8.0</td>\n",
       "      <td>NaN</td>\n",
       "      <td>196</td>\n",
       "      <td>1.0</td>\n",
       "      <td>0.0</td>\n",
       "      <td>Soda</td>\n",
       "      <td>77.0</td>\n",
       "      <td>7.0</td>\n",
       "      <td>9.0</td>\n",
       "      <td>Mid-range product</td>\n",
       "      <td>Regularly busy</td>\n",
       "      <td>Regularly busy</td>\n",
       "      <td>Average orders</td>\n",
       "      <td>10.0</td>\n",
       "      <td>New Customer</td>\n",
       "      <td>6.367797</td>\n",
       "      <td>Low Spender</td>\n",
       "      <td>20.5</td>\n",
       "      <td>Non-frequent customer</td>\n",
       "      <td>Female</td>\n",
       "      <td>Alabama</td>\n",
       "      <td>31.0</td>\n",
       "      <td>2/17/2019</td>\n",
       "      <td>3.0</td>\n",
       "      <td>married</td>\n",
       "      <td>40423.0</td>\n",
       "      <td>both</td>\n",
       "      <td>South</td>\n",
       "    </tr>\n",
       "    <tr>\n",
       "      <th>1</th>\n",
       "      <td>2398795.0</td>\n",
       "      <td>1.0</td>\n",
       "      <td>2.0</td>\n",
       "      <td>3.0</td>\n",
       "      <td>7.0</td>\n",
       "      <td>15.0</td>\n",
       "      <td>196</td>\n",
       "      <td>1.0</td>\n",
       "      <td>1.0</td>\n",
       "      <td>Soda</td>\n",
       "      <td>77.0</td>\n",
       "      <td>7.0</td>\n",
       "      <td>9.0</td>\n",
       "      <td>Mid-range product</td>\n",
       "      <td>Regularly busy</td>\n",
       "      <td>Least busy</td>\n",
       "      <td>Average orders</td>\n",
       "      <td>10.0</td>\n",
       "      <td>New Customer</td>\n",
       "      <td>6.367797</td>\n",
       "      <td>Low Spender</td>\n",
       "      <td>20.5</td>\n",
       "      <td>Non-frequent customer</td>\n",
       "      <td>Female</td>\n",
       "      <td>Alabama</td>\n",
       "      <td>31.0</td>\n",
       "      <td>2/17/2019</td>\n",
       "      <td>3.0</td>\n",
       "      <td>married</td>\n",
       "      <td>40423.0</td>\n",
       "      <td>both</td>\n",
       "      <td>South</td>\n",
       "    </tr>\n",
       "    <tr>\n",
       "      <th>2</th>\n",
       "      <td>473747.0</td>\n",
       "      <td>1.0</td>\n",
       "      <td>3.0</td>\n",
       "      <td>3.0</td>\n",
       "      <td>12.0</td>\n",
       "      <td>21.0</td>\n",
       "      <td>196</td>\n",
       "      <td>1.0</td>\n",
       "      <td>1.0</td>\n",
       "      <td>Soda</td>\n",
       "      <td>77.0</td>\n",
       "      <td>7.0</td>\n",
       "      <td>9.0</td>\n",
       "      <td>Mid-range product</td>\n",
       "      <td>Regularly busy</td>\n",
       "      <td>Least busy</td>\n",
       "      <td>Most orders</td>\n",
       "      <td>10.0</td>\n",
       "      <td>New Customer</td>\n",
       "      <td>6.367797</td>\n",
       "      <td>Low Spender</td>\n",
       "      <td>20.5</td>\n",
       "      <td>Non-frequent customer</td>\n",
       "      <td>Female</td>\n",
       "      <td>Alabama</td>\n",
       "      <td>31.0</td>\n",
       "      <td>2/17/2019</td>\n",
       "      <td>3.0</td>\n",
       "      <td>married</td>\n",
       "      <td>40423.0</td>\n",
       "      <td>both</td>\n",
       "      <td>South</td>\n",
       "    </tr>\n",
       "    <tr>\n",
       "      <th>3</th>\n",
       "      <td>2254736.0</td>\n",
       "      <td>1.0</td>\n",
       "      <td>4.0</td>\n",
       "      <td>4.0</td>\n",
       "      <td>7.0</td>\n",
       "      <td>29.0</td>\n",
       "      <td>196</td>\n",
       "      <td>1.0</td>\n",
       "      <td>1.0</td>\n",
       "      <td>Soda</td>\n",
       "      <td>77.0</td>\n",
       "      <td>7.0</td>\n",
       "      <td>9.0</td>\n",
       "      <td>Mid-range product</td>\n",
       "      <td>Least busy</td>\n",
       "      <td>Least busy</td>\n",
       "      <td>Average orders</td>\n",
       "      <td>10.0</td>\n",
       "      <td>New Customer</td>\n",
       "      <td>6.367797</td>\n",
       "      <td>Low Spender</td>\n",
       "      <td>20.5</td>\n",
       "      <td>Non-frequent customer</td>\n",
       "      <td>Female</td>\n",
       "      <td>Alabama</td>\n",
       "      <td>31.0</td>\n",
       "      <td>2/17/2019</td>\n",
       "      <td>3.0</td>\n",
       "      <td>married</td>\n",
       "      <td>40423.0</td>\n",
       "      <td>both</td>\n",
       "      <td>South</td>\n",
       "    </tr>\n",
       "    <tr>\n",
       "      <th>4</th>\n",
       "      <td>431534.0</td>\n",
       "      <td>1.0</td>\n",
       "      <td>5.0</td>\n",
       "      <td>4.0</td>\n",
       "      <td>15.0</td>\n",
       "      <td>28.0</td>\n",
       "      <td>196</td>\n",
       "      <td>1.0</td>\n",
       "      <td>1.0</td>\n",
       "      <td>Soda</td>\n",
       "      <td>77.0</td>\n",
       "      <td>7.0</td>\n",
       "      <td>9.0</td>\n",
       "      <td>Mid-range product</td>\n",
       "      <td>Least busy</td>\n",
       "      <td>Least busy</td>\n",
       "      <td>Most orders</td>\n",
       "      <td>10.0</td>\n",
       "      <td>New Customer</td>\n",
       "      <td>6.367797</td>\n",
       "      <td>Low Spender</td>\n",
       "      <td>20.5</td>\n",
       "      <td>Non-frequent customer</td>\n",
       "      <td>Female</td>\n",
       "      <td>Alabama</td>\n",
       "      <td>31.0</td>\n",
       "      <td>2/17/2019</td>\n",
       "      <td>3.0</td>\n",
       "      <td>married</td>\n",
       "      <td>40423.0</td>\n",
       "      <td>both</td>\n",
       "      <td>South</td>\n",
       "    </tr>\n",
       "  </tbody>\n",
       "</table>\n",
       "</div>"
      ],
      "text/plain": [
       "    order_id  user_id  order_number  orders_day_of_week  order_hour_of_day  \\\n",
       "0  2539329.0      1.0           1.0                 2.0                8.0   \n",
       "1  2398795.0      1.0           2.0                 3.0                7.0   \n",
       "2   473747.0      1.0           3.0                 3.0               12.0   \n",
       "3  2254736.0      1.0           4.0                 4.0                7.0   \n",
       "4   431534.0      1.0           5.0                 4.0               15.0   \n",
       "\n",
       "   days_since_prior_order  product_id  add_to_cart_order  reordered  \\\n",
       "0                     NaN         196                1.0        0.0   \n",
       "1                    15.0         196                1.0        1.0   \n",
       "2                    21.0         196                1.0        1.0   \n",
       "3                    29.0         196                1.0        1.0   \n",
       "4                    28.0         196                1.0        1.0   \n",
       "\n",
       "  product_name  aisle_id  department_id  prices        price_range  \\\n",
       "0         Soda      77.0            7.0     9.0  Mid-range product   \n",
       "1         Soda      77.0            7.0     9.0  Mid-range product   \n",
       "2         Soda      77.0            7.0     9.0  Mid-range product   \n",
       "3         Soda      77.0            7.0     9.0  Mid-range product   \n",
       "4         Soda      77.0            7.0     9.0  Mid-range product   \n",
       "\n",
       "      busiest_day  busiest_2_days busiest_period_of_day  max_order  \\\n",
       "0  Regularly busy  Regularly busy        Average orders       10.0   \n",
       "1  Regularly busy      Least busy        Average orders       10.0   \n",
       "2  Regularly busy      Least busy           Most orders       10.0   \n",
       "3      Least busy      Least busy        Average orders       10.0   \n",
       "4      Least busy      Least busy           Most orders       10.0   \n",
       "\n",
       "   loyalty_flag  avg_user_price   spend_flag  median_days_since_order  \\\n",
       "0  New Customer        6.367797  Low Spender                     20.5   \n",
       "1  New Customer        6.367797  Low Spender                     20.5   \n",
       "2  New Customer        6.367797  Low Spender                     20.5   \n",
       "3  New Customer        6.367797  Low Spender                     20.5   \n",
       "4  New Customer        6.367797  Low Spender                     20.5   \n",
       "\n",
       "          frequency_flag  Gender    STATE   Age date_joined  \\\n",
       "0  Non-frequent customer  Female  Alabama  31.0   2/17/2019   \n",
       "1  Non-frequent customer  Female  Alabama  31.0   2/17/2019   \n",
       "2  Non-frequent customer  Female  Alabama  31.0   2/17/2019   \n",
       "3  Non-frequent customer  Female  Alabama  31.0   2/17/2019   \n",
       "4  Non-frequent customer  Female  Alabama  31.0   2/17/2019   \n",
       "\n",
       "   num_of_dependants fam_status   income _merge Region  \n",
       "0                3.0    married  40423.0   both  South  \n",
       "1                3.0    married  40423.0   both  South  \n",
       "2                3.0    married  40423.0   both  South  \n",
       "3                3.0    married  40423.0   both  South  \n",
       "4                3.0    married  40423.0   both  South  "
      ]
     },
     "execution_count": 12,
     "metadata": {},
     "output_type": "execute_result"
    }
   ],
   "source": [
    "#check the heads again to make sure data looks right\n",
    "pd.set_option('display.max_columns', None)\n",
    "df_cust_prod_ord.head()"
   ]
  },
  {
   "cell_type": "markdown",
   "id": "86da09b6",
   "metadata": {},
   "source": [
    "#### Investigate spend by Region"
   ]
  },
  {
   "cell_type": "code",
   "execution_count": 13,
   "id": "1bfa7019",
   "metadata": {},
   "outputs": [
    {
     "data": {
      "text/plain": [
       "Region     spend_flag  \n",
       "Midwest    High Spender      156055\n",
       "           Low Spender      7447961\n",
       "Northeast  High Spender      108269\n",
       "           Low Spender      5620175\n",
       "South      High Spender      209824\n",
       "           Low Spender     10592158\n",
       "West       High Spender      160402\n",
       "           Low Spender      8140215\n",
       "Name: spend_flag, dtype: int64"
      ]
     },
     "execution_count": 13,
     "metadata": {},
     "output_type": "execute_result"
    }
   ],
   "source": [
    "#group by columns region and spend_flag and provide counts for spend_flag values\n",
    "df_cust_prod_ord.groupby(['Region','spend_flag'])['spend_flag'].count()"
   ]
  },
  {
   "cell_type": "code",
   "execution_count": 14,
   "id": "17a74595",
   "metadata": {},
   "outputs": [],
   "source": [
    "#create crosstab of region and spend_flag\n",
    "crosstab = pd.crosstab(df_cust_prod_ord['Region'],df_cust_prod_ord['spend_flag'], dropna = False)"
   ]
  },
  {
   "cell_type": "code",
   "execution_count": 15,
   "id": "b977d3ce",
   "metadata": {},
   "outputs": [
    {
     "data": {
      "text/html": [
       "<div>\n",
       "<style scoped>\n",
       "    .dataframe tbody tr th:only-of-type {\n",
       "        vertical-align: middle;\n",
       "    }\n",
       "\n",
       "    .dataframe tbody tr th {\n",
       "        vertical-align: top;\n",
       "    }\n",
       "\n",
       "    .dataframe thead th {\n",
       "        text-align: right;\n",
       "    }\n",
       "</style>\n",
       "<table border=\"1\" class=\"dataframe\">\n",
       "  <thead>\n",
       "    <tr style=\"text-align: right;\">\n",
       "      <th>spend_flag</th>\n",
       "      <th>High Spender</th>\n",
       "      <th>Low Spender</th>\n",
       "    </tr>\n",
       "    <tr>\n",
       "      <th>Region</th>\n",
       "      <th></th>\n",
       "      <th></th>\n",
       "    </tr>\n",
       "  </thead>\n",
       "  <tbody>\n",
       "    <tr>\n",
       "      <th>Midwest</th>\n",
       "      <td>156055</td>\n",
       "      <td>7447961</td>\n",
       "    </tr>\n",
       "    <tr>\n",
       "      <th>Northeast</th>\n",
       "      <td>108269</td>\n",
       "      <td>5620175</td>\n",
       "    </tr>\n",
       "    <tr>\n",
       "      <th>South</th>\n",
       "      <td>209824</td>\n",
       "      <td>10592158</td>\n",
       "    </tr>\n",
       "    <tr>\n",
       "      <th>West</th>\n",
       "      <td>160402</td>\n",
       "      <td>8140215</td>\n",
       "    </tr>\n",
       "  </tbody>\n",
       "</table>\n",
       "</div>"
      ],
      "text/plain": [
       "spend_flag  High Spender  Low Spender\n",
       "Region                               \n",
       "Midwest           156055      7447961\n",
       "Northeast         108269      5620175\n",
       "South             209824     10592158\n",
       "West              160402      8140215"
      ]
     },
     "execution_count": 15,
     "metadata": {},
     "output_type": "execute_result"
    }
   ],
   "source": [
    "#print crosstab\n",
    "crosstab"
   ]
  },
  {
   "cell_type": "code",
   "execution_count": 16,
   "id": "33f4e217",
   "metadata": {},
   "outputs": [
    {
     "data": {
      "image/png": "[encoded data removed]",
      "text/plain": [
       "<Figure size 432x288 with 1 Axes>"
      ]
     },
     "metadata": {
      "needs_background": "light"
     },
     "output_type": "display_data"
    }
   ],
   "source": [
    "#plot high and low spenders count across region\n",
    "stacked_bar_region_spenders = crosstab.plot.bar(stacked=True)"
   ]
  },
  {
   "cell_type": "markdown",
   "id": "484f62c7",
   "metadata": {},
   "source": [
    "Across all orders, each region has around 50 low spender orders for every high spender order. Midwest (47.7), South (50.5), West (50.7), Northeast (51.9). Found in excel.\n",
    "\n",
    "The Midwest has the most frequent high spend orders.(47.7)\n",
    "\n",
    "The Northeast has the least frequent high spend orders (51.9), the least total high spend orders, and the least total overall orders.\n",
    "\n",
    "The South region has the most total high spend orders (209824), the most overall orders (10801982), and the second lowest ratio of low to high spend orders (50.5)."
   ]
  },
  {
   "cell_type": "markdown",
   "id": "4879159c",
   "metadata": {},
   "source": [
    "## 4)\n",
    "The Instacart CFO isn’t interested in customers who don’t generate much revenue for the app. Create an exclusion flag for low-activity customers (customers with less than 5 orders) and exclude them from the data. Make sure you export this sample."
   ]
  },
  {
   "cell_type": "markdown",
   "id": "b6f8d517",
   "metadata": {},
   "source": [
    "### Identify and export sample of low order users"
   ]
  },
  {
   "cell_type": "code",
   "execution_count": 17,
   "id": "ed341785",
   "metadata": {},
   "outputs": [],
   "source": [
    "#max_order has highest order number. find user ids where this is less than 5\n",
    "df_low_orders = df_cust_prod_ord[df_cust_prod_ord['max_order']< 5]"
   ]
  },
  {
   "cell_type": "code",
   "execution_count": 18,
   "id": "2ba19799",
   "metadata": {},
   "outputs": [],
   "source": [
    "#export df_low_orders as excluded_data_of_less_than_5total_orders.pkl\n",
    "df_low_orders.to_pickle(os.path.join(path,'2 Data', 'prepared data', 'excluded_data_of_less_than_5total_orders.pkl'))"
   ]
  },
  {
   "cell_type": "markdown",
   "id": "aa1339e3",
   "metadata": {},
   "source": [
    "### Flag users by activity and remove low users"
   ]
  },
  {
   "cell_type": "code",
   "execution_count": 19,
   "id": "0b5922e0",
   "metadata": {},
   "outputs": [],
   "source": [
    "#create flag for low activity customers\n",
    "df_cust_prod_ord.loc[df_cust_prod_ord['max_order'] <5, 'user_activity'] = 'Low'"
   ]
  },
  {
   "cell_type": "code",
   "execution_count": 20,
   "id": "bdbae45f",
   "metadata": {},
   "outputs": [],
   "source": [
    "df_cust_prod_ord.loc[df_cust_prod_ord['max_order'] >=5, 'user_activity'] = 'High'"
   ]
  },
  {
   "cell_type": "code",
   "execution_count": 21,
   "id": "b7080547",
   "metadata": {},
   "outputs": [],
   "source": [
    "#exclude low activity customers from df_cust_prod_ord\n",
    "df_cust_prod_ord = df_cust_prod_ord[df_cust_prod_ord['user_activity']=='High']"
   ]
  },
  {
   "cell_type": "code",
   "execution_count": 22,
   "id": "49dbcc85",
   "metadata": {},
   "outputs": [
    {
     "data": {
      "text/plain": [
       "(30993489, 33)"
      ]
     },
     "execution_count": 22,
     "metadata": {},
     "output_type": "execute_result"
    }
   ],
   "source": [
    "#check shape of df_cust_prod_ord\n",
    "df_cust_prod_ord.shape"
   ]
  },
  {
   "cell_type": "code",
   "execution_count": 23,
   "id": "6e88f764",
   "metadata": {},
   "outputs": [
    {
     "data": {
      "text/plain": [
       "(1441570, 32)"
      ]
     },
     "execution_count": 23,
     "metadata": {},
     "output_type": "execute_result"
    }
   ],
   "source": [
    "#check shape of df_low_orders\n",
    "df_low_orders.shape"
   ]
  },
  {
   "cell_type": "code",
   "execution_count": 24,
   "id": "7a5a9ef7",
   "metadata": {},
   "outputs": [
    {
     "data": {
      "text/plain": [
       "30993489"
      ]
     },
     "execution_count": 24,
     "metadata": {},
     "output_type": "execute_result"
    }
   ],
   "source": [
    "# subtract rows of df_low_orders from original df_cust_prod_ord to ensure it matches new total\n",
    "32435059-1441570"
   ]
  },
  {
   "cell_type": "markdown",
   "id": "15f1118c",
   "metadata": {},
   "source": [
    "## 5)\n",
    "The marketing and business strategy units at Instacart want to create more-relevant marketing strategies for different products and are, thus, curious about customer profiling in their database. Create a profiling variable based on age, income, certain goods in the “department_id” column, and number of dependents. You might also use the “orders_day_of_the_week” and “order_hour_of_day” columns if you can think of a way they would impact customer profiles. (Hint: As an example, try thinking of what characteristics would lead you to the profile “Single adult” or “Young parent.”)"
   ]
  },
  {
   "cell_type": "markdown",
   "id": "09a500aa",
   "metadata": {},
   "source": [
    "Investigate the columns to look for ways to break them up into groups."
   ]
  },
  {
   "cell_type": "code",
   "execution_count": 25,
   "id": "a591fd96",
   "metadata": {
    "scrolled": true
   },
   "outputs": [
    {
     "data": {
      "text/html": [
       "<div>\n",
       "<style scoped>\n",
       "    .dataframe tbody tr th:only-of-type {\n",
       "        vertical-align: middle;\n",
       "    }\n",
       "\n",
       "    .dataframe tbody tr th {\n",
       "        vertical-align: top;\n",
       "    }\n",
       "\n",
       "    .dataframe thead th {\n",
       "        text-align: right;\n",
       "    }\n",
       "</style>\n",
       "<table border=\"1\" class=\"dataframe\">\n",
       "  <thead>\n",
       "    <tr style=\"text-align: right;\">\n",
       "      <th></th>\n",
       "      <th>order_id</th>\n",
       "      <th>user_id</th>\n",
       "      <th>order_number</th>\n",
       "      <th>orders_day_of_week</th>\n",
       "      <th>order_hour_of_day</th>\n",
       "      <th>days_since_prior_order</th>\n",
       "      <th>product_id</th>\n",
       "      <th>add_to_cart_order</th>\n",
       "      <th>reordered</th>\n",
       "      <th>product_name</th>\n",
       "      <th>aisle_id</th>\n",
       "      <th>department_id</th>\n",
       "      <th>prices</th>\n",
       "      <th>price_range</th>\n",
       "      <th>busiest_day</th>\n",
       "      <th>busiest_2_days</th>\n",
       "      <th>busiest_period_of_day</th>\n",
       "      <th>max_order</th>\n",
       "      <th>loyalty_flag</th>\n",
       "      <th>avg_user_price</th>\n",
       "      <th>spend_flag</th>\n",
       "      <th>median_days_since_order</th>\n",
       "      <th>frequency_flag</th>\n",
       "      <th>Gender</th>\n",
       "      <th>STATE</th>\n",
       "      <th>Age</th>\n",
       "      <th>date_joined</th>\n",
       "      <th>num_of_dependants</th>\n",
       "      <th>fam_status</th>\n",
       "      <th>income</th>\n",
       "      <th>_merge</th>\n",
       "      <th>Region</th>\n",
       "      <th>user_activity</th>\n",
       "    </tr>\n",
       "  </thead>\n",
       "  <tbody>\n",
       "    <tr>\n",
       "      <th>0</th>\n",
       "      <td>2539329.0</td>\n",
       "      <td>1.0</td>\n",
       "      <td>1.0</td>\n",
       "      <td>2.0</td>\n",
       "      <td>8.0</td>\n",
       "      <td>NaN</td>\n",
       "      <td>196</td>\n",
       "      <td>1.0</td>\n",
       "      <td>0.0</td>\n",
       "      <td>Soda</td>\n",
       "      <td>77.0</td>\n",
       "      <td>7.0</td>\n",
       "      <td>9.0</td>\n",
       "      <td>Mid-range product</td>\n",
       "      <td>Regularly busy</td>\n",
       "      <td>Regularly busy</td>\n",
       "      <td>Average orders</td>\n",
       "      <td>10.0</td>\n",
       "      <td>New Customer</td>\n",
       "      <td>6.367797</td>\n",
       "      <td>Low Spender</td>\n",
       "      <td>20.5</td>\n",
       "      <td>Non-frequent customer</td>\n",
       "      <td>Female</td>\n",
       "      <td>Alabama</td>\n",
       "      <td>31.0</td>\n",
       "      <td>2/17/2019</td>\n",
       "      <td>3.0</td>\n",
       "      <td>married</td>\n",
       "      <td>40423.0</td>\n",
       "      <td>both</td>\n",
       "      <td>South</td>\n",
       "      <td>High</td>\n",
       "    </tr>\n",
       "    <tr>\n",
       "      <th>1</th>\n",
       "      <td>2398795.0</td>\n",
       "      <td>1.0</td>\n",
       "      <td>2.0</td>\n",
       "      <td>3.0</td>\n",
       "      <td>7.0</td>\n",
       "      <td>15.0</td>\n",
       "      <td>196</td>\n",
       "      <td>1.0</td>\n",
       "      <td>1.0</td>\n",
       "      <td>Soda</td>\n",
       "      <td>77.0</td>\n",
       "      <td>7.0</td>\n",
       "      <td>9.0</td>\n",
       "      <td>Mid-range product</td>\n",
       "      <td>Regularly busy</td>\n",
       "      <td>Least busy</td>\n",
       "      <td>Average orders</td>\n",
       "      <td>10.0</td>\n",
       "      <td>New Customer</td>\n",
       "      <td>6.367797</td>\n",
       "      <td>Low Spender</td>\n",
       "      <td>20.5</td>\n",
       "      <td>Non-frequent customer</td>\n",
       "      <td>Female</td>\n",
       "      <td>Alabama</td>\n",
       "      <td>31.0</td>\n",
       "      <td>2/17/2019</td>\n",
       "      <td>3.0</td>\n",
       "      <td>married</td>\n",
       "      <td>40423.0</td>\n",
       "      <td>both</td>\n",
       "      <td>South</td>\n",
       "      <td>High</td>\n",
       "    </tr>\n",
       "    <tr>\n",
       "      <th>2</th>\n",
       "      <td>473747.0</td>\n",
       "      <td>1.0</td>\n",
       "      <td>3.0</td>\n",
       "      <td>3.0</td>\n",
       "      <td>12.0</td>\n",
       "      <td>21.0</td>\n",
       "      <td>196</td>\n",
       "      <td>1.0</td>\n",
       "      <td>1.0</td>\n",
       "      <td>Soda</td>\n",
       "      <td>77.0</td>\n",
       "      <td>7.0</td>\n",
       "      <td>9.0</td>\n",
       "      <td>Mid-range product</td>\n",
       "      <td>Regularly busy</td>\n",
       "      <td>Least busy</td>\n",
       "      <td>Most orders</td>\n",
       "      <td>10.0</td>\n",
       "      <td>New Customer</td>\n",
       "      <td>6.367797</td>\n",
       "      <td>Low Spender</td>\n",
       "      <td>20.5</td>\n",
       "      <td>Non-frequent customer</td>\n",
       "      <td>Female</td>\n",
       "      <td>Alabama</td>\n",
       "      <td>31.0</td>\n",
       "      <td>2/17/2019</td>\n",
       "      <td>3.0</td>\n",
       "      <td>married</td>\n",
       "      <td>40423.0</td>\n",
       "      <td>both</td>\n",
       "      <td>South</td>\n",
       "      <td>High</td>\n",
       "    </tr>\n",
       "    <tr>\n",
       "      <th>3</th>\n",
       "      <td>2254736.0</td>\n",
       "      <td>1.0</td>\n",
       "      <td>4.0</td>\n",
       "      <td>4.0</td>\n",
       "      <td>7.0</td>\n",
       "      <td>29.0</td>\n",
       "      <td>196</td>\n",
       "      <td>1.0</td>\n",
       "      <td>1.0</td>\n",
       "      <td>Soda</td>\n",
       "      <td>77.0</td>\n",
       "      <td>7.0</td>\n",
       "      <td>9.0</td>\n",
       "      <td>Mid-range product</td>\n",
       "      <td>Least busy</td>\n",
       "      <td>Least busy</td>\n",
       "      <td>Average orders</td>\n",
       "      <td>10.0</td>\n",
       "      <td>New Customer</td>\n",
       "      <td>6.367797</td>\n",
       "      <td>Low Spender</td>\n",
       "      <td>20.5</td>\n",
       "      <td>Non-frequent customer</td>\n",
       "      <td>Female</td>\n",
       "      <td>Alabama</td>\n",
       "      <td>31.0</td>\n",
       "      <td>2/17/2019</td>\n",
       "      <td>3.0</td>\n",
       "      <td>married</td>\n",
       "      <td>40423.0</td>\n",
       "      <td>both</td>\n",
       "      <td>South</td>\n",
       "      <td>High</td>\n",
       "    </tr>\n",
       "    <tr>\n",
       "      <th>4</th>\n",
       "      <td>431534.0</td>\n",
       "      <td>1.0</td>\n",
       "      <td>5.0</td>\n",
       "      <td>4.0</td>\n",
       "      <td>15.0</td>\n",
       "      <td>28.0</td>\n",
       "      <td>196</td>\n",
       "      <td>1.0</td>\n",
       "      <td>1.0</td>\n",
       "      <td>Soda</td>\n",
       "      <td>77.0</td>\n",
       "      <td>7.0</td>\n",
       "      <td>9.0</td>\n",
       "      <td>Mid-range product</td>\n",
       "      <td>Least busy</td>\n",
       "      <td>Least busy</td>\n",
       "      <td>Most orders</td>\n",
       "      <td>10.0</td>\n",
       "      <td>New Customer</td>\n",
       "      <td>6.367797</td>\n",
       "      <td>Low Spender</td>\n",
       "      <td>20.5</td>\n",
       "      <td>Non-frequent customer</td>\n",
       "      <td>Female</td>\n",
       "      <td>Alabama</td>\n",
       "      <td>31.0</td>\n",
       "      <td>2/17/2019</td>\n",
       "      <td>3.0</td>\n",
       "      <td>married</td>\n",
       "      <td>40423.0</td>\n",
       "      <td>both</td>\n",
       "      <td>South</td>\n",
       "      <td>High</td>\n",
       "    </tr>\n",
       "  </tbody>\n",
       "</table>\n",
       "</div>"
      ],
      "text/plain": [
       "    order_id  user_id  order_number  orders_day_of_week  order_hour_of_day  \\\n",
       "0  2539329.0      1.0           1.0                 2.0                8.0   \n",
       "1  2398795.0      1.0           2.0                 3.0                7.0   \n",
       "2   473747.0      1.0           3.0                 3.0               12.0   \n",
       "3  2254736.0      1.0           4.0                 4.0                7.0   \n",
       "4   431534.0      1.0           5.0                 4.0               15.0   \n",
       "\n",
       "   days_since_prior_order  product_id  add_to_cart_order  reordered  \\\n",
       "0                     NaN         196                1.0        0.0   \n",
       "1                    15.0         196                1.0        1.0   \n",
       "2                    21.0         196                1.0        1.0   \n",
       "3                    29.0         196                1.0        1.0   \n",
       "4                    28.0         196                1.0        1.0   \n",
       "\n",
       "  product_name  aisle_id  department_id  prices        price_range  \\\n",
       "0         Soda      77.0            7.0     9.0  Mid-range product   \n",
       "1         Soda      77.0            7.0     9.0  Mid-range product   \n",
       "2         Soda      77.0            7.0     9.0  Mid-range product   \n",
       "3         Soda      77.0            7.0     9.0  Mid-range product   \n",
       "4         Soda      77.0            7.0     9.0  Mid-range product   \n",
       "\n",
       "      busiest_day  busiest_2_days busiest_period_of_day  max_order  \\\n",
       "0  Regularly busy  Regularly busy        Average orders       10.0   \n",
       "1  Regularly busy      Least busy        Average orders       10.0   \n",
       "2  Regularly busy      Least busy           Most orders       10.0   \n",
       "3      Least busy      Least busy        Average orders       10.0   \n",
       "4      Least busy      Least busy           Most orders       10.0   \n",
       "\n",
       "   loyalty_flag  avg_user_price   spend_flag  median_days_since_order  \\\n",
       "0  New Customer        6.367797  Low Spender                     20.5   \n",
       "1  New Customer        6.367797  Low Spender                     20.5   \n",
       "2  New Customer        6.367797  Low Spender                     20.5   \n",
       "3  New Customer        6.367797  Low Spender                     20.5   \n",
       "4  New Customer        6.367797  Low Spender                     20.5   \n",
       "\n",
       "          frequency_flag  Gender    STATE   Age date_joined  \\\n",
       "0  Non-frequent customer  Female  Alabama  31.0   2/17/2019   \n",
       "1  Non-frequent customer  Female  Alabama  31.0   2/17/2019   \n",
       "2  Non-frequent customer  Female  Alabama  31.0   2/17/2019   \n",
       "3  Non-frequent customer  Female  Alabama  31.0   2/17/2019   \n",
       "4  Non-frequent customer  Female  Alabama  31.0   2/17/2019   \n",
       "\n",
       "   num_of_dependants fam_status   income _merge Region user_activity  \n",
       "0                3.0    married  40423.0   both  South          High  \n",
       "1                3.0    married  40423.0   both  South          High  \n",
       "2                3.0    married  40423.0   both  South          High  \n",
       "3                3.0    married  40423.0   both  South          High  \n",
       "4                3.0    married  40423.0   both  South          High  "
      ]
     },
     "execution_count": 25,
     "metadata": {},
     "output_type": "execute_result"
    }
   ],
   "source": [
    "#relook at column headers\n",
    "pd.set_option('display.max_columns', None)\n",
    "df_cust_prod_ord.head()"
   ]
  },
  {
   "cell_type": "code",
   "execution_count": 26,
   "id": "9f779010",
   "metadata": {},
   "outputs": [
    {
     "data": {
      "text/html": [
       "<div>\n",
       "<style scoped>\n",
       "    .dataframe tbody tr th:only-of-type {\n",
       "        vertical-align: middle;\n",
       "    }\n",
       "\n",
       "    .dataframe tbody tr th {\n",
       "        vertical-align: top;\n",
       "    }\n",
       "\n",
       "    .dataframe thead th {\n",
       "        text-align: right;\n",
       "    }\n",
       "</style>\n",
       "<table border=\"1\" class=\"dataframe\">\n",
       "  <thead>\n",
       "    <tr style=\"text-align: right;\">\n",
       "      <th></th>\n",
       "      <th>Unnamed: 0</th>\n",
       "      <th>department</th>\n",
       "    </tr>\n",
       "  </thead>\n",
       "  <tbody>\n",
       "    <tr>\n",
       "      <th>0</th>\n",
       "      <td>1</td>\n",
       "      <td>frozen</td>\n",
       "    </tr>\n",
       "    <tr>\n",
       "      <th>1</th>\n",
       "      <td>2</td>\n",
       "      <td>other</td>\n",
       "    </tr>\n",
       "    <tr>\n",
       "      <th>2</th>\n",
       "      <td>3</td>\n",
       "      <td>bakery</td>\n",
       "    </tr>\n",
       "    <tr>\n",
       "      <th>3</th>\n",
       "      <td>4</td>\n",
       "      <td>produce</td>\n",
       "    </tr>\n",
       "    <tr>\n",
       "      <th>4</th>\n",
       "      <td>5</td>\n",
       "      <td>alcohol</td>\n",
       "    </tr>\n",
       "    <tr>\n",
       "      <th>5</th>\n",
       "      <td>6</td>\n",
       "      <td>international</td>\n",
       "    </tr>\n",
       "    <tr>\n",
       "      <th>6</th>\n",
       "      <td>7</td>\n",
       "      <td>beverages</td>\n",
       "    </tr>\n",
       "    <tr>\n",
       "      <th>7</th>\n",
       "      <td>8</td>\n",
       "      <td>pets</td>\n",
       "    </tr>\n",
       "    <tr>\n",
       "      <th>8</th>\n",
       "      <td>9</td>\n",
       "      <td>dry goods pasta</td>\n",
       "    </tr>\n",
       "    <tr>\n",
       "      <th>9</th>\n",
       "      <td>10</td>\n",
       "      <td>bulk</td>\n",
       "    </tr>\n",
       "    <tr>\n",
       "      <th>10</th>\n",
       "      <td>11</td>\n",
       "      <td>personal care</td>\n",
       "    </tr>\n",
       "    <tr>\n",
       "      <th>11</th>\n",
       "      <td>12</td>\n",
       "      <td>meat seafood</td>\n",
       "    </tr>\n",
       "    <tr>\n",
       "      <th>12</th>\n",
       "      <td>13</td>\n",
       "      <td>pantry</td>\n",
       "    </tr>\n",
       "    <tr>\n",
       "      <th>13</th>\n",
       "      <td>14</td>\n",
       "      <td>breakfast</td>\n",
       "    </tr>\n",
       "    <tr>\n",
       "      <th>14</th>\n",
       "      <td>15</td>\n",
       "      <td>canned goods</td>\n",
       "    </tr>\n",
       "    <tr>\n",
       "      <th>15</th>\n",
       "      <td>16</td>\n",
       "      <td>dairy eggs</td>\n",
       "    </tr>\n",
       "    <tr>\n",
       "      <th>16</th>\n",
       "      <td>17</td>\n",
       "      <td>household</td>\n",
       "    </tr>\n",
       "    <tr>\n",
       "      <th>17</th>\n",
       "      <td>18</td>\n",
       "      <td>babies</td>\n",
       "    </tr>\n",
       "    <tr>\n",
       "      <th>18</th>\n",
       "      <td>19</td>\n",
       "      <td>snacks</td>\n",
       "    </tr>\n",
       "    <tr>\n",
       "      <th>19</th>\n",
       "      <td>20</td>\n",
       "      <td>deli</td>\n",
       "    </tr>\n",
       "    <tr>\n",
       "      <th>20</th>\n",
       "      <td>21</td>\n",
       "      <td>missing</td>\n",
       "    </tr>\n",
       "  </tbody>\n",
       "</table>\n",
       "</div>"
      ],
      "text/plain": [
       "    Unnamed: 0       department\n",
       "0            1           frozen\n",
       "1            2            other\n",
       "2            3           bakery\n",
       "3            4          produce\n",
       "4            5          alcohol\n",
       "5            6    international\n",
       "6            7        beverages\n",
       "7            8             pets\n",
       "8            9  dry goods pasta\n",
       "9           10             bulk\n",
       "10          11    personal care\n",
       "11          12     meat seafood\n",
       "12          13           pantry\n",
       "13          14        breakfast\n",
       "14          15     canned goods\n",
       "15          16       dairy eggs\n",
       "16          17        household\n",
       "17          18           babies\n",
       "18          19           snacks\n",
       "19          20             deli\n",
       "20          21          missing"
      ]
     },
     "execution_count": 26,
     "metadata": {},
     "output_type": "execute_result"
    }
   ],
   "source": [
    "# view department data for reference\n",
    "df_dept"
   ]
  },
  {
   "cell_type": "code",
   "execution_count": 27,
   "id": "dd8d6e7c",
   "metadata": {},
   "outputs": [
    {
     "data": {
      "text/plain": [
       "count    3.099349e+07\n",
       "mean     4.946786e+01\n",
       "std      1.848521e+01\n",
       "min      1.800000e+01\n",
       "25%      3.300000e+01\n",
       "50%      4.900000e+01\n",
       "75%      6.500000e+01\n",
       "max      8.100000e+01\n",
       "Name: Age, dtype: float64"
      ]
     },
     "execution_count": 27,
     "metadata": {},
     "output_type": "execute_result"
    }
   ],
   "source": [
    "#find the descriptive stats values for age\n",
    "df_cust_prod_ord['Age'].describe()"
   ]
  },
  {
   "cell_type": "code",
   "execution_count": 28,
   "id": "508cf593",
   "metadata": {},
   "outputs": [
    {
     "data": {
      "text/plain": [
       "<AxesSubplot:ylabel='Frequency'>"
      ]
     },
     "execution_count": 28,
     "metadata": {},
     "output_type": "execute_result"
    },
    {
     "data": {
      "image/png": "[encoded data removed]",
      "text/plain": [
       "<Figure size 432x288 with 1 Axes>"
      ]
     },
     "metadata": {
      "needs_background": "light"
     },
     "output_type": "display_data"
    }
   ],
   "source": [
    "#view histogram for age\n",
    "df_cust_prod_ord['Age'].plot.hist(bins = 30)"
   ]
  },
  {
   "cell_type": "code",
   "execution_count": 29,
   "id": "5c3efe27",
   "metadata": {
    "scrolled": true
   },
   "outputs": [
    {
     "data": {
      "image/png": "[encoded data removed]",
      "text/plain": [
       "<Figure size 432x288 with 1 Axes>"
      ]
     },
     "metadata": {
      "needs_background": "light"
     },
     "output_type": "display_data"
    }
   ],
   "source": [
    "#view histogram for income\n",
    "income_histo = df_cust_prod_ord['income'].plot.hist(bins = 1000)"
   ]
  },
  {
   "cell_type": "code",
   "execution_count": 30,
   "id": "f07fe5ae",
   "metadata": {
    "scrolled": true
   },
   "outputs": [
    {
     "data": {
      "text/plain": [
       "count    3.099349e+07\n",
       "mean     9.967349e+04\n",
       "std      4.313999e+04\n",
       "min      2.590300e+04\n",
       "25%      6.728900e+04\n",
       "50%      9.676500e+04\n",
       "75%      1.281010e+05\n",
       "max      5.939010e+05\n",
       "Name: income, dtype: float64"
      ]
     },
     "execution_count": 30,
     "metadata": {},
     "output_type": "execute_result"
    }
   ],
   "source": [
    "#find the descritive stat values for income\n",
    "df_cust_prod_ord['income'].describe()"
   ]
  },
  {
   "cell_type": "markdown",
   "id": "4c4279b6",
   "metadata": {},
   "source": [
    "variable flags for age, income, department_id, and number of dependants will be broken up by:\n",
    "\n",
    "age -18 to 40, 40 to 60, 60 to 80\n",
    "\n",
    "num_of_dependants is 0 for single shopper or not 0 for family shopper\n",
    "\n",
    "department_id is perishable vs longer lasting foods: \n",
    "Perishable Food - 3(bakery), 4(produce), 12(meat seafood), 16 (dairy eggs), 20 (deli)\n",
    "Long Lasting - 1(frozen), 9(dry goods pasta), 15(canned goods)\n",
    "\n",
    "income will be low medium and high as 25-75, 75-125, over 125"
   ]
  },
  {
   "cell_type": "markdown",
   "id": "8c47ebec",
   "metadata": {},
   "source": [
    "### Age Variable"
   ]
  },
  {
   "cell_type": "code",
   "execution_count": 31,
   "id": "54cc172d",
   "metadata": {},
   "outputs": [],
   "source": [
    "#following 3 lines will create age flags in new column age_group\n",
    "df_cust_prod_ord.loc[df_cust_prod_ord['Age'] <=40, 'age_group'] = \"Young\""
   ]
  },
  {
   "cell_type": "code",
   "execution_count": 32,
   "id": "067b8b36",
   "metadata": {},
   "outputs": [],
   "source": [
    "df_cust_prod_ord.loc[(df_cust_prod_ord['Age'] >40) & (df_cust_prod_ord['Age'] <=60), 'age_group'] = \"Middle Age\""
   ]
  },
  {
   "cell_type": "code",
   "execution_count": 33,
   "id": "e900bb3d",
   "metadata": {},
   "outputs": [],
   "source": [
    "df_cust_prod_ord.loc[df_cust_prod_ord['Age'] >60, 'age_group'] = \"Older\""
   ]
  },
  {
   "cell_type": "code",
   "execution_count": 34,
   "id": "c87eb593",
   "metadata": {},
   "outputs": [
    {
     "data": {
      "text/plain": [
       "Young         11158798\n",
       "Older         10121834\n",
       "Middle Age     9712857\n",
       "Name: age_group, dtype: int64"
      ]
     },
     "execution_count": 34,
     "metadata": {},
     "output_type": "execute_result"
    }
   ],
   "source": [
    "#check counts for age\n",
    "df_cust_prod_ord['age_group'].value_counts(dropna=False)"
   ]
  },
  {
   "cell_type": "markdown",
   "id": "b49854ca",
   "metadata": {},
   "source": [
    "### Number of Dependants Variable"
   ]
  },
  {
   "cell_type": "code",
   "execution_count": 35,
   "id": "1aa492ca",
   "metadata": {},
   "outputs": [],
   "source": [
    "#following 2 lines will define if order is for single shopper or family shopper in column shopper_fam_type\n",
    "df_cust_prod_ord.loc[df_cust_prod_ord['num_of_dependants'] ==0, 'shopper_fam_type'] = \"Single Shopper\""
   ]
  },
  {
   "cell_type": "code",
   "execution_count": 36,
   "id": "0b08dc16",
   "metadata": {},
   "outputs": [],
   "source": [
    "df_cust_prod_ord.loc[df_cust_prod_ord['num_of_dependants'] >0, 'shopper_fam_type'] = \"Family Shopper\""
   ]
  },
  {
   "cell_type": "code",
   "execution_count": 37,
   "id": "9d50a86c",
   "metadata": {},
   "outputs": [
    {
     "data": {
      "text/plain": [
       "Family Shopper    23246306\n",
       "Single Shopper     7747183\n",
       "Name: shopper_fam_type, dtype: int64"
      ]
     },
     "execution_count": 37,
     "metadata": {},
     "output_type": "execute_result"
    }
   ],
   "source": [
    "#check counts for shopper type\n",
    "df_cust_prod_ord['shopper_fam_type'].value_counts(dropna=False)"
   ]
  },
  {
   "cell_type": "markdown",
   "id": "29dee085",
   "metadata": {},
   "source": [
    "### department_id Variable"
   ]
  },
  {
   "cell_type": "code",
   "execution_count": 38,
   "id": "f0c0783c",
   "metadata": {},
   "outputs": [],
   "source": [
    "#for loop will label depratment_id as perishable or long lasting\n",
    "food_life = []\n",
    "\n",
    "p=[3,4,12,16,20]\n",
    "np=[1,9,15]\n",
    "\n",
    "for value in df_cust_prod_ord['department_id']:\n",
    "    if value in p:\n",
    "        food_life.append('Perishable')\n",
    "    elif value in np:\n",
    "        food_life.append('Long Lasting')\n",
    "    else:\n",
    "        food_life.append('Not Defined')"
   ]
  },
  {
   "cell_type": "code",
   "execution_count": 39,
   "id": "baa3e274",
   "metadata": {},
   "outputs": [],
   "source": [
    "#in new column food_shelf_life_type add results from ifood_life list\n",
    "df_cust_prod_ord['food_shelf_life_type'] = food_life"
   ]
  },
  {
   "cell_type": "code",
   "execution_count": 40,
   "id": "8a3d0835",
   "metadata": {},
   "outputs": [
    {
     "data": {
      "text/plain": [
       "Perishable      17055902\n",
       "Not Defined      9981645\n",
       "Long Lasting     3955942\n",
       "Name: food_shelf_life_type, dtype: int64"
      ]
     },
     "execution_count": 40,
     "metadata": {},
     "output_type": "execute_result"
    }
   ],
   "source": [
    "#check counts for food_shelf_life_type\n",
    "df_cust_prod_ord['food_shelf_life_type'].value_counts(dropna = False)"
   ]
  },
  {
   "cell_type": "markdown",
   "id": "140457de",
   "metadata": {},
   "source": [
    "### Income Variable"
   ]
  },
  {
   "cell_type": "code",
   "execution_count": 41,
   "id": "e162e112",
   "metadata": {},
   "outputs": [],
   "source": [
    "#following 3 lines will set flags for low medium and high income as 25-75, 75-125, over 125"
   ]
  },
  {
   "cell_type": "code",
   "execution_count": 42,
   "id": "dcc08226",
   "metadata": {},
   "outputs": [],
   "source": [
    "df_cust_prod_ord.loc[df_cust_prod_ord['income'] <= 75000, 'income_bracket'] = \"25-75k\""
   ]
  },
  {
   "cell_type": "code",
   "execution_count": 43,
   "id": "86e6d8cb",
   "metadata": {},
   "outputs": [],
   "source": [
    "df_cust_prod_ord.loc[(df_cust_prod_ord['income'] > 75000) & (df_cust_prod_ord['income'] <= 125000), 'income_bracket'] = \"75-125k\""
   ]
  },
  {
   "cell_type": "code",
   "execution_count": 44,
   "id": "d5b0068f",
   "metadata": {},
   "outputs": [],
   "source": [
    "df_cust_prod_ord.loc[df_cust_prod_ord['income'] > 125000, 'income_bracket'] = \"125k plus\""
   ]
  },
  {
   "cell_type": "code",
   "execution_count": 45,
   "id": "abfb1d79",
   "metadata": {},
   "outputs": [
    {
     "data": {
      "text/plain": [
       "75-125k      12791346\n",
       "25-75k        9916661\n",
       "125k plus     8285482\n",
       "Name: income_bracket, dtype: int64"
      ]
     },
     "execution_count": 45,
     "metadata": {},
     "output_type": "execute_result"
    }
   ],
   "source": [
    "#check counts for income bracket\n",
    "df_cust_prod_ord['income_bracket'].value_counts(dropna = False)"
   ]
  },
  {
   "cell_type": "markdown",
   "id": "c410fdb0",
   "metadata": {},
   "source": [
    "## 6)\n",
    "Create an appropriate visualization to show the distribution of profiles."
   ]
  },
  {
   "cell_type": "code",
   "execution_count": 46,
   "id": "02cae601",
   "metadata": {},
   "outputs": [
    {
     "data": {
      "image/png": "[encoded data removed]",
      "text/plain": [
       "<Figure size 432x288 with 1 Axes>"
      ]
     },
     "metadata": {
      "needs_background": "light"
     },
     "output_type": "display_data"
    }
   ],
   "source": [
    "#create visualization for age group variable\n",
    "age_bar = df_cust_prod_ord['age_group'].value_counts().plot.bar()"
   ]
  },
  {
   "cell_type": "code",
   "execution_count": 47,
   "id": "a69a504c",
   "metadata": {},
   "outputs": [
    {
     "data": {
      "image/png": "[encoded data removed]",
      "text/plain": [
       "<Figure size 432x288 with 1 Axes>"
      ]
     },
     "metadata": {
      "needs_background": "light"
     },
     "output_type": "display_data"
    }
   ],
   "source": [
    "#create visualization for number of dependants variable\n",
    "shopper_type_bar = df_cust_prod_ord['shopper_fam_type'].value_counts().plot.bar()"
   ]
  },
  {
   "cell_type": "code",
   "execution_count": 48,
   "id": "c88caef0",
   "metadata": {},
   "outputs": [
    {
     "data": {
      "image/png": "[encoded data removed]",
      "text/plain": [
       "<Figure size 432x288 with 1 Axes>"
      ]
     },
     "metadata": {
      "needs_background": "light"
     },
     "output_type": "display_data"
    }
   ],
   "source": [
    "#create visualization for department id variable\n",
    "food_shelf_life_bar = df_cust_prod_ord['food_shelf_life_type'].value_counts().plot.bar()"
   ]
  },
  {
   "cell_type": "code",
   "execution_count": 49,
   "id": "2b300a6f",
   "metadata": {},
   "outputs": [
    {
     "data": {
      "image/png": "[encoded data removed]",
      "text/plain": [
       "<Figure size 432x288 with 1 Axes>"
      ]
     },
     "metadata": {
      "needs_background": "light"
     },
     "output_type": "display_data"
    }
   ],
   "source": [
    "#create visualization for income variable\n",
    "income_bar = df_cust_prod_ord['income_bracket'].value_counts().plot.bar()"
   ]
  },
  {
   "cell_type": "markdown",
   "id": "fcaf2609",
   "metadata": {},
   "source": [
    "## 7)\n",
    "Aggregate the max, mean, and min variables on a customer-profile level for usage frequency and expenditure."
   ]
  },
  {
   "cell_type": "markdown",
   "id": "8b46e9f3",
   "metadata": {},
   "source": [
    "### Age Variable"
   ]
  },
  {
   "cell_type": "code",
   "execution_count": 50,
   "id": "2875980d",
   "metadata": {},
   "outputs": [
    {
     "data": {
      "text/html": [
       "<div>\n",
       "<style scoped>\n",
       "    .dataframe tbody tr th:only-of-type {\n",
       "        vertical-align: middle;\n",
       "    }\n",
       "\n",
       "    .dataframe tbody tr th {\n",
       "        vertical-align: top;\n",
       "    }\n",
       "\n",
       "    .dataframe thead tr th {\n",
       "        text-align: left;\n",
       "    }\n",
       "\n",
       "    .dataframe thead tr:last-of-type th {\n",
       "        text-align: right;\n",
       "    }\n",
       "</style>\n",
       "<table border=\"1\" class=\"dataframe\">\n",
       "  <thead>\n",
       "    <tr>\n",
       "      <th></th>\n",
       "      <th colspan=\"3\" halign=\"left\">days_since_prior_order</th>\n",
       "    </tr>\n",
       "    <tr>\n",
       "      <th></th>\n",
       "      <th>min</th>\n",
       "      <th>max</th>\n",
       "      <th>mean</th>\n",
       "    </tr>\n",
       "    <tr>\n",
       "      <th>age_group</th>\n",
       "      <th></th>\n",
       "      <th></th>\n",
       "      <th></th>\n",
       "    </tr>\n",
       "  </thead>\n",
       "  <tbody>\n",
       "    <tr>\n",
       "      <th>Middle Age</th>\n",
       "      <td>0.0</td>\n",
       "      <td>30.0</td>\n",
       "      <td>10.826170</td>\n",
       "    </tr>\n",
       "    <tr>\n",
       "      <th>Older</th>\n",
       "      <td>0.0</td>\n",
       "      <td>30.0</td>\n",
       "      <td>10.792163</td>\n",
       "    </tr>\n",
       "    <tr>\n",
       "      <th>Young</th>\n",
       "      <td>0.0</td>\n",
       "      <td>30.0</td>\n",
       "      <td>10.813125</td>\n",
       "    </tr>\n",
       "  </tbody>\n",
       "</table>\n",
       "</div>"
      ],
      "text/plain": [
       "           days_since_prior_order                 \n",
       "                              min   max       mean\n",
       "age_group                                         \n",
       "Middle Age                    0.0  30.0  10.826170\n",
       "Older                         0.0  30.0  10.792163\n",
       "Young                         0.0  30.0  10.813125"
      ]
     },
     "execution_count": 50,
     "metadata": {},
     "output_type": "execute_result"
    }
   ],
   "source": [
    "#group by age_group column and aggreagte  min, max, and mean for days_since_prior_order to get usage frequency\n",
    "df_cust_prod_ord.groupby('age_group').agg({'days_since_prior_order':['min','max','mean']})"
   ]
  },
  {
   "cell_type": "code",
   "execution_count": 51,
   "id": "33cc4ba0",
   "metadata": {},
   "outputs": [
    {
     "data": {
      "text/html": [
       "<div>\n",
       "<style scoped>\n",
       "    .dataframe tbody tr th:only-of-type {\n",
       "        vertical-align: middle;\n",
       "    }\n",
       "\n",
       "    .dataframe tbody tr th {\n",
       "        vertical-align: top;\n",
       "    }\n",
       "\n",
       "    .dataframe thead tr th {\n",
       "        text-align: left;\n",
       "    }\n",
       "\n",
       "    .dataframe thead tr:last-of-type th {\n",
       "        text-align: right;\n",
       "    }\n",
       "</style>\n",
       "<table border=\"1\" class=\"dataframe\">\n",
       "  <thead>\n",
       "    <tr>\n",
       "      <th></th>\n",
       "      <th colspan=\"3\" halign=\"left\">days_since_prior_order</th>\n",
       "    </tr>\n",
       "    <tr>\n",
       "      <th></th>\n",
       "      <th>min</th>\n",
       "      <th>max</th>\n",
       "      <th>mean</th>\n",
       "    </tr>\n",
       "    <tr>\n",
       "      <th>age_group</th>\n",
       "      <th></th>\n",
       "      <th></th>\n",
       "      <th></th>\n",
       "    </tr>\n",
       "  </thead>\n",
       "  <tbody>\n",
       "    <tr>\n",
       "      <th>Middle Age</th>\n",
       "      <td>0.0</td>\n",
       "      <td>30.0</td>\n",
       "      <td>10.826170</td>\n",
       "    </tr>\n",
       "    <tr>\n",
       "      <th>Older</th>\n",
       "      <td>0.0</td>\n",
       "      <td>30.0</td>\n",
       "      <td>10.792163</td>\n",
       "    </tr>\n",
       "    <tr>\n",
       "      <th>Young</th>\n",
       "      <td>0.0</td>\n",
       "      <td>30.0</td>\n",
       "      <td>10.813125</td>\n",
       "    </tr>\n",
       "  </tbody>\n",
       "</table>\n",
       "</div>"
      ],
      "text/plain": [
       "           days_since_prior_order                 \n",
       "                              min   max       mean\n",
       "age_group                                         \n",
       "Middle Age                    0.0  30.0  10.826170\n",
       "Older                         0.0  30.0  10.792163\n",
       "Young                         0.0  30.0  10.813125"
      ]
     },
     "execution_count": 51,
     "metadata": {},
     "output_type": "execute_result"
    }
   ],
   "source": [
    "df_cust_prod_ord.groupby('age_group').agg({'days_since_prior_order':['min','max','mean']})"
   ]
  },
  {
   "cell_type": "markdown",
   "id": "48c65bb1",
   "metadata": {},
   "source": [
    "Average frequency of use very even among age groups"
   ]
  },
  {
   "cell_type": "code",
   "execution_count": 52,
   "id": "9af73b40",
   "metadata": {},
   "outputs": [
    {
     "data": {
      "text/html": [
       "<div>\n",
       "<style scoped>\n",
       "    .dataframe tbody tr th:only-of-type {\n",
       "        vertical-align: middle;\n",
       "    }\n",
       "\n",
       "    .dataframe tbody tr th {\n",
       "        vertical-align: top;\n",
       "    }\n",
       "\n",
       "    .dataframe thead tr th {\n",
       "        text-align: left;\n",
       "    }\n",
       "\n",
       "    .dataframe thead tr:last-of-type th {\n",
       "        text-align: right;\n",
       "    }\n",
       "</style>\n",
       "<table border=\"1\" class=\"dataframe\">\n",
       "  <thead>\n",
       "    <tr>\n",
       "      <th></th>\n",
       "      <th colspan=\"3\" halign=\"left\">prices</th>\n",
       "    </tr>\n",
       "    <tr>\n",
       "      <th></th>\n",
       "      <th>min</th>\n",
       "      <th>max</th>\n",
       "      <th>mean</th>\n",
       "    </tr>\n",
       "    <tr>\n",
       "      <th>age_group</th>\n",
       "      <th></th>\n",
       "      <th></th>\n",
       "      <th></th>\n",
       "    </tr>\n",
       "  </thead>\n",
       "  <tbody>\n",
       "    <tr>\n",
       "      <th>Middle Age</th>\n",
       "      <td>1.0</td>\n",
       "      <td>25.0</td>\n",
       "      <td>7.790580</td>\n",
       "    </tr>\n",
       "    <tr>\n",
       "      <th>Older</th>\n",
       "      <td>1.0</td>\n",
       "      <td>25.0</td>\n",
       "      <td>7.796144</td>\n",
       "    </tr>\n",
       "    <tr>\n",
       "      <th>Young</th>\n",
       "      <td>1.0</td>\n",
       "      <td>25.0</td>\n",
       "      <td>7.785561</td>\n",
       "    </tr>\n",
       "  </tbody>\n",
       "</table>\n",
       "</div>"
      ],
      "text/plain": [
       "           prices                \n",
       "              min   max      mean\n",
       "age_group                        \n",
       "Middle Age    1.0  25.0  7.790580\n",
       "Older         1.0  25.0  7.796144\n",
       "Young         1.0  25.0  7.785561"
      ]
     },
     "execution_count": 52,
     "metadata": {},
     "output_type": "execute_result"
    }
   ],
   "source": [
    "#group by age_group column and aggreagte  min, max, and mean for prices to get expenditure\n",
    "df_cust_prod_ord.groupby('age_group').agg({'prices':['min','max','mean']})"
   ]
  },
  {
   "cell_type": "markdown",
   "id": "c440b14f",
   "metadata": {},
   "source": [
    "Average Prices for orders very even among age groups"
   ]
  },
  {
   "cell_type": "markdown",
   "id": "6ca877ee",
   "metadata": {},
   "source": [
    "### Number of Dependants Variable"
   ]
  },
  {
   "cell_type": "code",
   "execution_count": 53,
   "id": "104394b2",
   "metadata": {},
   "outputs": [
    {
     "data": {
      "text/html": [
       "<div>\n",
       "<style scoped>\n",
       "    .dataframe tbody tr th:only-of-type {\n",
       "        vertical-align: middle;\n",
       "    }\n",
       "\n",
       "    .dataframe tbody tr th {\n",
       "        vertical-align: top;\n",
       "    }\n",
       "\n",
       "    .dataframe thead tr th {\n",
       "        text-align: left;\n",
       "    }\n",
       "\n",
       "    .dataframe thead tr:last-of-type th {\n",
       "        text-align: right;\n",
       "    }\n",
       "</style>\n",
       "<table border=\"1\" class=\"dataframe\">\n",
       "  <thead>\n",
       "    <tr>\n",
       "      <th></th>\n",
       "      <th colspan=\"3\" halign=\"left\">days_since_prior_order</th>\n",
       "    </tr>\n",
       "    <tr>\n",
       "      <th></th>\n",
       "      <th>min</th>\n",
       "      <th>max</th>\n",
       "      <th>mean</th>\n",
       "    </tr>\n",
       "    <tr>\n",
       "      <th>shopper_fam_type</th>\n",
       "      <th></th>\n",
       "      <th></th>\n",
       "      <th></th>\n",
       "    </tr>\n",
       "  </thead>\n",
       "  <tbody>\n",
       "    <tr>\n",
       "      <th>Family Shopper</th>\n",
       "      <td>0.0</td>\n",
       "      <td>30.0</td>\n",
       "      <td>10.816574</td>\n",
       "    </tr>\n",
       "    <tr>\n",
       "      <th>Single Shopper</th>\n",
       "      <td>0.0</td>\n",
       "      <td>30.0</td>\n",
       "      <td>10.791750</td>\n",
       "    </tr>\n",
       "  </tbody>\n",
       "</table>\n",
       "</div>"
      ],
      "text/plain": [
       "                 days_since_prior_order                 \n",
       "                                    min   max       mean\n",
       "shopper_fam_type                                        \n",
       "Family Shopper                      0.0  30.0  10.816574\n",
       "Single Shopper                      0.0  30.0  10.791750"
      ]
     },
     "execution_count": 53,
     "metadata": {},
     "output_type": "execute_result"
    }
   ],
   "source": [
    "#group by shopper_fam_type column and aggreagte  min, max, and mean for days_since_prior_order to get usage frequency\n",
    "df_cust_prod_ord.groupby('shopper_fam_type').agg({'days_since_prior_order':['min','max','mean']})"
   ]
  },
  {
   "cell_type": "markdown",
   "id": "47ee7344",
   "metadata": {},
   "source": [
    "Average frequency of use very even for family and single shoppers"
   ]
  },
  {
   "cell_type": "code",
   "execution_count": 54,
   "id": "5fd6be90",
   "metadata": {},
   "outputs": [
    {
     "data": {
      "text/html": [
       "<div>\n",
       "<style scoped>\n",
       "    .dataframe tbody tr th:only-of-type {\n",
       "        vertical-align: middle;\n",
       "    }\n",
       "\n",
       "    .dataframe tbody tr th {\n",
       "        vertical-align: top;\n",
       "    }\n",
       "\n",
       "    .dataframe thead tr th {\n",
       "        text-align: left;\n",
       "    }\n",
       "\n",
       "    .dataframe thead tr:last-of-type th {\n",
       "        text-align: right;\n",
       "    }\n",
       "</style>\n",
       "<table border=\"1\" class=\"dataframe\">\n",
       "  <thead>\n",
       "    <tr>\n",
       "      <th></th>\n",
       "      <th colspan=\"3\" halign=\"left\">prices</th>\n",
       "    </tr>\n",
       "    <tr>\n",
       "      <th></th>\n",
       "      <th>min</th>\n",
       "      <th>max</th>\n",
       "      <th>mean</th>\n",
       "    </tr>\n",
       "    <tr>\n",
       "      <th>shopper_fam_type</th>\n",
       "      <th></th>\n",
       "      <th></th>\n",
       "      <th></th>\n",
       "    </tr>\n",
       "  </thead>\n",
       "  <tbody>\n",
       "    <tr>\n",
       "      <th>Family Shopper</th>\n",
       "      <td>1.0</td>\n",
       "      <td>25.0</td>\n",
       "      <td>7.790937</td>\n",
       "    </tr>\n",
       "    <tr>\n",
       "      <th>Single Shopper</th>\n",
       "      <td>1.0</td>\n",
       "      <td>25.0</td>\n",
       "      <td>7.789550</td>\n",
       "    </tr>\n",
       "  </tbody>\n",
       "</table>\n",
       "</div>"
      ],
      "text/plain": [
       "                 prices                \n",
       "                    min   max      mean\n",
       "shopper_fam_type                       \n",
       "Family Shopper      1.0  25.0  7.790937\n",
       "Single Shopper      1.0  25.0  7.789550"
      ]
     },
     "execution_count": 54,
     "metadata": {},
     "output_type": "execute_result"
    }
   ],
   "source": [
    "#group by shopper_fam_type column and aggreagte  min, max, and mean for prices to get expenditure\n",
    "df_cust_prod_ord.groupby('shopper_fam_type').agg({'prices':['min','max','mean']})"
   ]
  },
  {
   "cell_type": "markdown",
   "id": "989949f6",
   "metadata": {},
   "source": [
    "Average Prices for orders very even for family and single shoppers"
   ]
  },
  {
   "cell_type": "markdown",
   "id": "6678a5c0",
   "metadata": {},
   "source": [
    "### department_id Variable"
   ]
  },
  {
   "cell_type": "code",
   "execution_count": 55,
   "id": "6b51fc6f",
   "metadata": {},
   "outputs": [
    {
     "data": {
      "text/html": [
       "<div>\n",
       "<style scoped>\n",
       "    .dataframe tbody tr th:only-of-type {\n",
       "        vertical-align: middle;\n",
       "    }\n",
       "\n",
       "    .dataframe tbody tr th {\n",
       "        vertical-align: top;\n",
       "    }\n",
       "\n",
       "    .dataframe thead tr th {\n",
       "        text-align: left;\n",
       "    }\n",
       "\n",
       "    .dataframe thead tr:last-of-type th {\n",
       "        text-align: right;\n",
       "    }\n",
       "</style>\n",
       "<table border=\"1\" class=\"dataframe\">\n",
       "  <thead>\n",
       "    <tr>\n",
       "      <th></th>\n",
       "      <th colspan=\"3\" halign=\"left\">days_since_prior_order</th>\n",
       "    </tr>\n",
       "    <tr>\n",
       "      <th></th>\n",
       "      <th>min</th>\n",
       "      <th>max</th>\n",
       "      <th>mean</th>\n",
       "    </tr>\n",
       "    <tr>\n",
       "      <th>food_shelf_life_type</th>\n",
       "      <th></th>\n",
       "      <th></th>\n",
       "      <th></th>\n",
       "    </tr>\n",
       "  </thead>\n",
       "  <tbody>\n",
       "    <tr>\n",
       "      <th>Long Lasting</th>\n",
       "      <td>0.0</td>\n",
       "      <td>30.0</td>\n",
       "      <td>11.394526</td>\n",
       "    </tr>\n",
       "    <tr>\n",
       "      <th>Not Defined</th>\n",
       "      <td>0.0</td>\n",
       "      <td>30.0</td>\n",
       "      <td>10.802808</td>\n",
       "    </tr>\n",
       "    <tr>\n",
       "      <th>Perishable</th>\n",
       "      <td>0.0</td>\n",
       "      <td>30.0</td>\n",
       "      <td>10.680165</td>\n",
       "    </tr>\n",
       "  </tbody>\n",
       "</table>\n",
       "</div>"
      ],
      "text/plain": [
       "                     days_since_prior_order                 \n",
       "                                        min   max       mean\n",
       "food_shelf_life_type                                        \n",
       "Long Lasting                            0.0  30.0  11.394526\n",
       "Not Defined                             0.0  30.0  10.802808\n",
       "Perishable                              0.0  30.0  10.680165"
      ]
     },
     "execution_count": 55,
     "metadata": {},
     "output_type": "execute_result"
    }
   ],
   "source": [
    "#group by food_shelf_life_type column and aggreagte  min, max, and mean for days_since_prior_order to get usage frequency\n",
    "df_cust_prod_ord.groupby('food_shelf_life_type').agg({'days_since_prior_order':['min','max','mean']})"
   ]
  },
  {
   "cell_type": "markdown",
   "id": "d1a571e8",
   "metadata": {},
   "source": [
    "Average frequency of orders for long lasting food a half of a day less frequent than perishable or non defined departments. \n",
    "Longer is expected but a larger gap would also be expected. "
   ]
  },
  {
   "cell_type": "code",
   "execution_count": 56,
   "id": "2cd58369",
   "metadata": {
    "scrolled": true
   },
   "outputs": [
    {
     "data": {
      "text/html": [
       "<div>\n",
       "<style scoped>\n",
       "    .dataframe tbody tr th:only-of-type {\n",
       "        vertical-align: middle;\n",
       "    }\n",
       "\n",
       "    .dataframe tbody tr th {\n",
       "        vertical-align: top;\n",
       "    }\n",
       "\n",
       "    .dataframe thead tr th {\n",
       "        text-align: left;\n",
       "    }\n",
       "\n",
       "    .dataframe thead tr:last-of-type th {\n",
       "        text-align: right;\n",
       "    }\n",
       "</style>\n",
       "<table border=\"1\" class=\"dataframe\">\n",
       "  <thead>\n",
       "    <tr>\n",
       "      <th></th>\n",
       "      <th>days_since_prior_order</th>\n",
       "    </tr>\n",
       "    <tr>\n",
       "      <th></th>\n",
       "      <th>mean</th>\n",
       "    </tr>\n",
       "    <tr>\n",
       "      <th>food_shelf_life_type</th>\n",
       "      <th></th>\n",
       "    </tr>\n",
       "  </thead>\n",
       "  <tbody>\n",
       "    <tr>\n",
       "      <th>Long Lasting</th>\n",
       "      <td>11.394526</td>\n",
       "    </tr>\n",
       "    <tr>\n",
       "      <th>Not Defined</th>\n",
       "      <td>10.802808</td>\n",
       "    </tr>\n",
       "    <tr>\n",
       "      <th>Perishable</th>\n",
       "      <td>10.680165</td>\n",
       "    </tr>\n",
       "  </tbody>\n",
       "</table>\n",
       "</div>"
      ],
      "text/plain": [
       "                     days_since_prior_order\n",
       "                                       mean\n",
       "food_shelf_life_type                       \n",
       "Long Lasting                      11.394526\n",
       "Not Defined                       10.802808\n",
       "Perishable                        10.680165"
      ]
     },
     "execution_count": 56,
     "metadata": {},
     "output_type": "execute_result"
    }
   ],
   "source": [
    "df_cust_prod_ord.groupby('food_shelf_life_type').agg({'days_since_prior_order':['mean']})"
   ]
  },
  {
   "cell_type": "code",
   "execution_count": 57,
   "id": "ee11764c",
   "metadata": {},
   "outputs": [
    {
     "data": {
      "text/html": [
       "<div>\n",
       "<style scoped>\n",
       "    .dataframe tbody tr th:only-of-type {\n",
       "        vertical-align: middle;\n",
       "    }\n",
       "\n",
       "    .dataframe tbody tr th {\n",
       "        vertical-align: top;\n",
       "    }\n",
       "\n",
       "    .dataframe thead tr th {\n",
       "        text-align: left;\n",
       "    }\n",
       "\n",
       "    .dataframe thead tr:last-of-type th {\n",
       "        text-align: right;\n",
       "    }\n",
       "</style>\n",
       "<table border=\"1\" class=\"dataframe\">\n",
       "  <thead>\n",
       "    <tr>\n",
       "      <th></th>\n",
       "      <th colspan=\"3\" halign=\"left\">prices</th>\n",
       "    </tr>\n",
       "    <tr>\n",
       "      <th></th>\n",
       "      <th>min</th>\n",
       "      <th>max</th>\n",
       "      <th>mean</th>\n",
       "    </tr>\n",
       "    <tr>\n",
       "      <th>food_shelf_life_type</th>\n",
       "      <th></th>\n",
       "      <th></th>\n",
       "      <th></th>\n",
       "    </tr>\n",
       "  </thead>\n",
       "  <tbody>\n",
       "    <tr>\n",
       "      <th>Long Lasting</th>\n",
       "      <td>1.0</td>\n",
       "      <td>15.0</td>\n",
       "      <td>7.605988</td>\n",
       "    </tr>\n",
       "    <tr>\n",
       "      <th>Not Defined</th>\n",
       "      <td>1.0</td>\n",
       "      <td>20.0</td>\n",
       "      <td>6.823492</td>\n",
       "    </tr>\n",
       "    <tr>\n",
       "      <th>Perishable</th>\n",
       "      <td>1.0</td>\n",
       "      <td>25.0</td>\n",
       "      <td>8.397917</td>\n",
       "    </tr>\n",
       "  </tbody>\n",
       "</table>\n",
       "</div>"
      ],
      "text/plain": [
       "                     prices                \n",
       "                        min   max      mean\n",
       "food_shelf_life_type                       \n",
       "Long Lasting            1.0  15.0  7.605988\n",
       "Not Defined             1.0  20.0  6.823492\n",
       "Perishable              1.0  25.0  8.397917"
      ]
     },
     "execution_count": 57,
     "metadata": {},
     "output_type": "execute_result"
    }
   ],
   "source": [
    "#group by food_shelf_life_type column and aggreagte  min, max, and mean for prices to get expenditure\n",
    "df_cust_prod_ord.groupby('food_shelf_life_type').agg({'prices':['min','max','mean']})"
   ]
  },
  {
   "cell_type": "markdown",
   "id": "88f66bc3",
   "metadata": {},
   "source": [
    "Perishable food looks to be the most expensive group of departments items. "
   ]
  },
  {
   "cell_type": "markdown",
   "id": "6a7649d5",
   "metadata": {},
   "source": [
    "### Income Variable"
   ]
  },
  {
   "cell_type": "code",
   "execution_count": 58,
   "id": "bfd165f1",
   "metadata": {},
   "outputs": [
    {
     "data": {
      "text/html": [
       "<div>\n",
       "<style scoped>\n",
       "    .dataframe tbody tr th:only-of-type {\n",
       "        vertical-align: middle;\n",
       "    }\n",
       "\n",
       "    .dataframe tbody tr th {\n",
       "        vertical-align: top;\n",
       "    }\n",
       "\n",
       "    .dataframe thead tr th {\n",
       "        text-align: left;\n",
       "    }\n",
       "\n",
       "    .dataframe thead tr:last-of-type th {\n",
       "        text-align: right;\n",
       "    }\n",
       "</style>\n",
       "<table border=\"1\" class=\"dataframe\">\n",
       "  <thead>\n",
       "    <tr>\n",
       "      <th></th>\n",
       "      <th colspan=\"3\" halign=\"left\">days_since_prior_order</th>\n",
       "    </tr>\n",
       "    <tr>\n",
       "      <th></th>\n",
       "      <th>min</th>\n",
       "      <th>max</th>\n",
       "      <th>mean</th>\n",
       "    </tr>\n",
       "    <tr>\n",
       "      <th>income_bracket</th>\n",
       "      <th></th>\n",
       "      <th></th>\n",
       "      <th></th>\n",
       "    </tr>\n",
       "  </thead>\n",
       "  <tbody>\n",
       "    <tr>\n",
       "      <th>125k plus</th>\n",
       "      <td>0.0</td>\n",
       "      <td>30.0</td>\n",
       "      <td>10.755078</td>\n",
       "    </tr>\n",
       "    <tr>\n",
       "      <th>25-75k</th>\n",
       "      <td>0.0</td>\n",
       "      <td>30.0</td>\n",
       "      <td>10.901005</td>\n",
       "    </tr>\n",
       "    <tr>\n",
       "      <th>75-125k</th>\n",
       "      <td>0.0</td>\n",
       "      <td>30.0</td>\n",
       "      <td>10.776023</td>\n",
       "    </tr>\n",
       "  </tbody>\n",
       "</table>\n",
       "</div>"
      ],
      "text/plain": [
       "               days_since_prior_order                 \n",
       "                                  min   max       mean\n",
       "income_bracket                                        \n",
       "125k plus                         0.0  30.0  10.755078\n",
       "25-75k                            0.0  30.0  10.901005\n",
       "75-125k                           0.0  30.0  10.776023"
      ]
     },
     "execution_count": 58,
     "metadata": {},
     "output_type": "execute_result"
    }
   ],
   "source": [
    "#group by income_bracket column and aggreagte  min, max, and mean for days_since_prior_order to get usage frequency\n",
    "df_cust_prod_ord.groupby('income_bracket').agg({'days_since_prior_order':['min','max','mean']})"
   ]
  },
  {
   "cell_type": "markdown",
   "id": "07525f0f",
   "metadata": {},
   "source": [
    "The lowest income group orders the least frequently. "
   ]
  },
  {
   "cell_type": "code",
   "execution_count": 59,
   "id": "7322c430",
   "metadata": {},
   "outputs": [
    {
     "data": {
      "text/html": [
       "<div>\n",
       "<style scoped>\n",
       "    .dataframe tbody tr th:only-of-type {\n",
       "        vertical-align: middle;\n",
       "    }\n",
       "\n",
       "    .dataframe tbody tr th {\n",
       "        vertical-align: top;\n",
       "    }\n",
       "\n",
       "    .dataframe thead tr th {\n",
       "        text-align: left;\n",
       "    }\n",
       "\n",
       "    .dataframe thead tr:last-of-type th {\n",
       "        text-align: right;\n",
       "    }\n",
       "</style>\n",
       "<table border=\"1\" class=\"dataframe\">\n",
       "  <thead>\n",
       "    <tr>\n",
       "      <th></th>\n",
       "      <th colspan=\"3\" halign=\"left\">prices</th>\n",
       "    </tr>\n",
       "    <tr>\n",
       "      <th></th>\n",
       "      <th>min</th>\n",
       "      <th>max</th>\n",
       "      <th>mean</th>\n",
       "    </tr>\n",
       "    <tr>\n",
       "      <th>income_bracket</th>\n",
       "      <th></th>\n",
       "      <th></th>\n",
       "      <th></th>\n",
       "    </tr>\n",
       "  </thead>\n",
       "  <tbody>\n",
       "    <tr>\n",
       "      <th>125k plus</th>\n",
       "      <td>1.0</td>\n",
       "      <td>25.0</td>\n",
       "      <td>7.951193</td>\n",
       "    </tr>\n",
       "    <tr>\n",
       "      <th>25-75k</th>\n",
       "      <td>1.0</td>\n",
       "      <td>25.0</td>\n",
       "      <td>7.442175</td>\n",
       "    </tr>\n",
       "    <tr>\n",
       "      <th>75-125k</th>\n",
       "      <td>1.0</td>\n",
       "      <td>25.0</td>\n",
       "      <td>7.956709</td>\n",
       "    </tr>\n",
       "  </tbody>\n",
       "</table>\n",
       "</div>"
      ],
      "text/plain": [
       "               prices                \n",
       "                  min   max      mean\n",
       "income_bracket                       \n",
       "125k plus         1.0  25.0  7.951193\n",
       "25-75k            1.0  25.0  7.442175\n",
       "75-125k           1.0  25.0  7.956709"
      ]
     },
     "execution_count": 59,
     "metadata": {},
     "output_type": "execute_result"
    }
   ],
   "source": [
    "#group by income_bracket column and aggreagte  min, max, and mean for prices to get expenditure\n",
    "df_cust_prod_ord.groupby('income_bracket').agg({'prices':['min','max','mean']})"
   ]
  },
  {
   "cell_type": "markdown",
   "id": "8cf353d4",
   "metadata": {},
   "source": [
    "The lowest income group orders the least expensive items."
   ]
  },
  {
   "cell_type": "markdown",
   "id": "20985862",
   "metadata": {},
   "source": [
    "## 8)\n",
    "Compare your customer profiles with regions and departments. Can you identify a link between them? Customers may demonstrate different behaviors across regions, which could make this information important.\n",
    "\n",
    "AND \n",
    "## 9)\n",
    "Produce suitable charts to illustrate your results and export them in your project folder."
   ]
  },
  {
   "cell_type": "markdown",
   "id": "a3b4cdc3",
   "metadata": {},
   "source": [
    "### Age Variable"
   ]
  },
  {
   "cell_type": "code",
   "execution_count": 60,
   "id": "34fb5e1f",
   "metadata": {},
   "outputs": [],
   "source": [
    "#create crosstab between age_group and Region\n",
    "crosstab_age_region = pd.crosstab(df_cust_prod_ord['age_group'],df_cust_prod_ord['Region'], dropna=False)"
   ]
  },
  {
   "cell_type": "code",
   "execution_count": 61,
   "id": "af6352ba",
   "metadata": {},
   "outputs": [],
   "source": [
    "#view crosstab_age_region in excel\n",
    "crosstab_age_region.to_clipboard()"
   ]
  },
  {
   "cell_type": "code",
   "execution_count": 62,
   "id": "95f6926a",
   "metadata": {},
   "outputs": [
    {
     "data": {
      "image/png": "[encoded data removed]",
      "text/plain": [
       "<Figure size 432x288 with 1 Axes>"
      ]
     },
     "metadata": {
      "needs_background": "light"
     },
     "output_type": "display_data"
    }
   ],
   "source": [
    "#bar chart of age_group and Region\n",
    "bar_age_region = crosstab_age_region.plot.bar()"
   ]
  },
  {
   "cell_type": "markdown",
   "id": "32afa7cb",
   "metadata": {},
   "source": [
    "All regions have Young as the largest category as expected. All regions have Young as 36% of pop. The South is the only with Young as 37%.\n",
    "\n",
    "The Midwest and West have fairly equal Middle Age and Older poputations with around a 300k jump in Young\n",
    "\n",
    "The Northeast and South have larger Older than Middle Age populations."
   ]
  },
  {
   "cell_type": "code",
   "execution_count": 63,
   "id": "dca3ea23",
   "metadata": {},
   "outputs": [],
   "source": [
    "#create crosstab between age_group and department_id\n",
    "crosstab_age_dept = pd.crosstab(df_cust_prod_ord['department_id'],df_cust_prod_ord['age_group'], dropna=False)"
   ]
  },
  {
   "cell_type": "code",
   "execution_count": 64,
   "id": "ec23c832",
   "metadata": {},
   "outputs": [],
   "source": [
    "#view crosstab_age_dept in excel\n",
    "crosstab_age_dept.to_clipboard()"
   ]
  },
  {
   "cell_type": "code",
   "execution_count": 65,
   "id": "48c52e04",
   "metadata": {},
   "outputs": [
    {
     "data": {
      "image/png": "[encoded data removed]",
      "text/plain": [
       "<Figure size 432x288 with 1 Axes>"
      ]
     },
     "metadata": {
      "needs_background": "light"
     },
     "output_type": "display_data"
    }
   ],
   "source": [
    "#bar graph of age by department\n",
    "stacked_bar_age_dept = crosstab_age_dept.plot.bar(stacked=True)"
   ]
  },
  {
   "cell_type": "markdown",
   "id": "2e0390c9",
   "metadata": {},
   "source": [
    "The size of the group predicts the amount of orders from each department. Most to Young, 2nd to Older, and 3rd to Middle Age."
   ]
  },
  {
   "cell_type": "markdown",
   "id": "ca5b5809",
   "metadata": {},
   "source": [
    "### Number of Dependants Variable"
   ]
  },
  {
   "cell_type": "code",
   "execution_count": 66,
   "id": "37d3be36",
   "metadata": {},
   "outputs": [],
   "source": [
    "#create crosstab between shopper_fam_type and Region\n",
    "crosstab_shopper_type_region = pd.crosstab(df_cust_prod_ord['shopper_fam_type'],df_cust_prod_ord['Region'], dropna=False)"
   ]
  },
  {
   "cell_type": "code",
   "execution_count": 67,
   "id": "9b57c9ec",
   "metadata": {},
   "outputs": [],
   "source": [
    "#view crosstab_shopper_type_region in excel\n",
    "crosstab_shopper_type_region.to_clipboard()"
   ]
  },
  {
   "cell_type": "markdown",
   "id": "4b863f89",
   "metadata": {},
   "source": [
    "There are about 3 times as many Family Shoppers to Single Shoppers overall. This is right at 3 in the NE and WE. There is a slight lean toward family in MW and SO at 2.9."
   ]
  },
  {
   "cell_type": "code",
   "execution_count": 68,
   "id": "aca06096",
   "metadata": {},
   "outputs": [
    {
     "data": {
      "image/png": "[encoded data removed]",
      "text/plain": [
       "<Figure size 432x288 with 1 Axes>"
      ]
     },
     "metadata": {
      "needs_background": "light"
     },
     "output_type": "display_data"
    }
   ],
   "source": [
    "#plot shopper family type by region\n",
    "fam_type_region_bar = crosstab_shopper_type_region.plot.bar()"
   ]
  },
  {
   "cell_type": "code",
   "execution_count": 69,
   "id": "f770e9a8",
   "metadata": {},
   "outputs": [],
   "source": [
    "#create crosstab between shopper_fam_type and department\n",
    "crosstab_shopper_type_dept = pd.crosstab(df_cust_prod_ord['department_id'],df_cust_prod_ord['shopper_fam_type'], dropna= False)"
   ]
  },
  {
   "cell_type": "code",
   "execution_count": 70,
   "id": "0be1b7c7",
   "metadata": {},
   "outputs": [],
   "source": [
    "#view crosstab_shopper_type_dept in excel\n",
    "crosstab_shopper_type_dept.to_clipboard()"
   ]
  },
  {
   "cell_type": "code",
   "execution_count": 71,
   "id": "7706f9c2",
   "metadata": {},
   "outputs": [
    {
     "data": {
      "image/png": "[encoded data removed]",
      "text/plain": [
       "<Figure size 432x288 with 1 Axes>"
      ]
     },
     "metadata": {
      "needs_background": "light"
     },
     "output_type": "display_data"
    }
   ],
   "source": [
    "#plot family shopper type by department\n",
    "stacked_bar_fam_type_dept = crosstab_shopper_type_dept.plot.bar(stacked=True)"
   ]
  },
  {
   "cell_type": "markdown",
   "id": "75fb1f3c",
   "metadata": {},
   "source": [
    "Largest pro family department at 3.18 family/single is 10[bulk]. Next largest are 17[household](3.08), 12[meat seafood](3.07), and 21[missing](3.06)\n",
    "\n",
    "Largest pro single department at 2.9 family/single is 5[alcohol]. Next largest are 2[other](2.95), and 8[pets](2.94)\n",
    "\n",
    "People with dependants are more likely to buy bulk, household items, and meat/seafood.\n",
    "People without depenedants are more likely to buy alcohol and pet items.\n",
    "\n",
    "Interestingly enough, department id 18 (babies) is a slight single shopper lean at 2.97."
   ]
  },
  {
   "cell_type": "markdown",
   "id": "5ad83034",
   "metadata": {},
   "source": [
    "### department_id Variable"
   ]
  },
  {
   "cell_type": "code",
   "execution_count": 72,
   "id": "9fe2ddb4",
   "metadata": {},
   "outputs": [],
   "source": [
    "#create crosstab between food_shelf_life_type and Region\n",
    "crosstab_shelf_region = pd.crosstab(df_cust_prod_ord['food_shelf_life_type'],df_cust_prod_ord['Region'], dropna = False)"
   ]
  },
  {
   "cell_type": "code",
   "execution_count": 73,
   "id": "56627bc7",
   "metadata": {},
   "outputs": [],
   "source": [
    "#view crosstab_shelf_region in excel\n",
    "crosstab_shelf_region.to_clipboard()"
   ]
  },
  {
   "cell_type": "code",
   "execution_count": 74,
   "id": "25760d17",
   "metadata": {},
   "outputs": [
    {
     "data": {
      "image/png": "[encoded data removed]",
      "text/plain": [
       "<Figure size 432x288 with 1 Axes>"
      ]
     },
     "metadata": {
      "needs_background": "light"
     },
     "output_type": "display_data"
    }
   ],
   "source": [
    "#plot bar chart of food_shelf_life_type and Region\n",
    "food_shelf_life_region_bar = crosstab_shelf_region.plot.bar()"
   ]
  },
  {
   "cell_type": "markdown",
   "id": "453bf315",
   "metadata": {},
   "source": [
    "Percentage of food shelf life type stays totally consistent across regions"
   ]
  },
  {
   "cell_type": "code",
   "execution_count": 75,
   "id": "4733afa2",
   "metadata": {},
   "outputs": [],
   "source": [
    "#create crosstab between food_shelf_life_type and department_id\n",
    "crosstab_shelf_dept = pd.crosstab(df_cust_prod_ord['food_shelf_life_type'],df_cust_prod_ord['department_id'], dropna = False)"
   ]
  },
  {
   "cell_type": "code",
   "execution_count": 76,
   "id": "f395bfad",
   "metadata": {},
   "outputs": [],
   "source": [
    "#view crosstab_shelf_dept in excel\n",
    "crosstab_shelf_dept.to_clipboard()"
   ]
  },
  {
   "cell_type": "markdown",
   "id": "a28be75e",
   "metadata": {},
   "source": [
    "Departments only have 1 category filled in per type. Which makes sense and was a good data check."
   ]
  },
  {
   "cell_type": "markdown",
   "id": "80cd1491",
   "metadata": {},
   "source": [
    "### Income Variable"
   ]
  },
  {
   "cell_type": "code",
   "execution_count": 77,
   "id": "ebe9d305",
   "metadata": {},
   "outputs": [],
   "source": [
    "#create crosstab between income_bracket and Region\n",
    "crosstab_income_region = pd.crosstab(df_cust_prod_ord['income_bracket'],df_cust_prod_ord['Region'], dropna = False)"
   ]
  },
  {
   "cell_type": "code",
   "execution_count": 78,
   "id": "f0c5bd78",
   "metadata": {},
   "outputs": [],
   "source": [
    "#view crosstab_shelf_region in excel\n",
    "crosstab_income_region.to_clipboard()"
   ]
  },
  {
   "cell_type": "code",
   "execution_count": 79,
   "id": "e44d2ac9",
   "metadata": {},
   "outputs": [
    {
     "data": {
      "image/png": "[encoded data removed]",
      "text/plain": [
       "<Figure size 432x288 with 1 Axes>"
      ]
     },
     "metadata": {
      "needs_background": "light"
     },
     "output_type": "display_data"
    }
   ],
   "source": [
    "#plot bar chart of income_bracket and Region\n",
    "income_bracket_region_bar = crosstab_income_region.plot.bar()"
   ]
  },
  {
   "cell_type": "markdown",
   "id": "90b4c9d7",
   "metadata": {},
   "source": [
    "Percentage of income brackets stays consistent across regions"
   ]
  },
  {
   "cell_type": "code",
   "execution_count": 80,
   "id": "5f6ff5a9",
   "metadata": {},
   "outputs": [],
   "source": [
    "#create crosstab between income_bracket and department_id\n",
    "crosstab_income_dept = pd.crosstab(df_cust_prod_ord['department_id'],df_cust_prod_ord['income_bracket'], dropna = False)"
   ]
  },
  {
   "cell_type": "code",
   "execution_count": 81,
   "id": "a31d7ee3",
   "metadata": {},
   "outputs": [],
   "source": [
    "#view crosstab_income_dept in excel\n",
    "crosstab_income_dept.to_clipboard()"
   ]
  },
  {
   "cell_type": "code",
   "execution_count": 82,
   "id": "ed7b8f77",
   "metadata": {},
   "outputs": [
    {
     "data": {
      "image/png": "[encoded data removed]",
      "text/plain": [
       "<Figure size 432x288 with 1 Axes>"
      ]
     },
     "metadata": {
      "needs_background": "light"
     },
     "output_type": "display_data"
    }
   ],
   "source": [
    "#plot income_bracket by department\n",
    "stacked_bar_income_bracket_dept = crosstab_income_dept.plot.bar(stacked = True)"
   ]
  },
  {
   "cell_type": "markdown",
   "id": "65038545",
   "metadata": {},
   "source": [
    "The overall percentage breakdown is 125k plus buys the least amount(27%), 25-75k buys the second most (32%), and 75-125k buys the most (41%).\n",
    "\n",
    "There are a lot of departments that cause interesting changes in those normal amounts.\n",
    "\n",
    "5(alcohol) where 125k is the only riser to 30%.\n",
    "\n",
    "7(beverages) where 25-75k is the only riser to 35%.\n",
    "\n",
    "10(bulk) where 125k drops to 24%, 25-75k rise to 36%, and 75-125k stays fairly even at 40%.\n",
    "\n",
    "12(meat seafood) where 125k rises to 29%, 25-75k drops to 26%, and 75-125k rises to their highest of 45%.\n",
    "\n",
    "14(breakfast) 25-75k is the only riser to 35%.\n",
    "\n",
    "15(canned goods) where 75-125k is the only riser to 43%\n",
    "\n",
    "8(babies) where 75-125k is the only riser to 44% and both other categories have 28%.\n",
    "\n",
    "19(snacks) where 25-75k is the only riser to 41%.\n",
    "\n",
    "\n",
    "Putting these together:\n",
    "\n",
    "Low income (25-75k) has larger than normal share in beverages, bulk, breakfast, and snacks. This group does not purchase as much meat/seafood, dry goods, canned goods, and baby supplies.\n",
    "\n",
    "Medium income (75-125k) buys more meast/seafood, baby supplies, and canned goods. This group does not purchase snacks.\n",
    "\n",
    "High income (over 125k) buys alcohol but they do not buy bulk or snacks."
   ]
  },
  {
   "cell_type": "markdown",
   "id": "9798b58b",
   "metadata": {},
   "source": [
    "## 10)\n",
    "Anaysis of departments and loyalty"
   ]
  },
  {
   "cell_type": "code",
   "execution_count": 83,
   "id": "c81761f4",
   "metadata": {},
   "outputs": [
    {
     "data": {
      "image/png": "[encoded data removed]",
      "text/plain": [
       "<Figure size 432x288 with 1 Axes>"
      ]
     },
     "metadata": {
      "needs_background": "light"
     },
     "output_type": "display_data"
    }
   ],
   "source": [
    "#show bar graph of frequncey of orders across all departments\n",
    "bar_department_order_frequency = df_cust_prod_ord['department_id'].value_counts().plot.bar()"
   ]
  },
  {
   "cell_type": "code",
   "execution_count": 84,
   "id": "a6671fff",
   "metadata": {},
   "outputs": [
    {
     "data": {
      "text/html": [
       "<div>\n",
       "<style scoped>\n",
       "    .dataframe tbody tr th:only-of-type {\n",
       "        vertical-align: middle;\n",
       "    }\n",
       "\n",
       "    .dataframe tbody tr th {\n",
       "        vertical-align: top;\n",
       "    }\n",
       "\n",
       "    .dataframe thead th {\n",
       "        text-align: right;\n",
       "    }\n",
       "</style>\n",
       "<table border=\"1\" class=\"dataframe\">\n",
       "  <thead>\n",
       "    <tr style=\"text-align: right;\">\n",
       "      <th>spend_flag</th>\n",
       "      <th>High Spender</th>\n",
       "      <th>Low Spender</th>\n",
       "    </tr>\n",
       "    <tr>\n",
       "      <th>loyalty_flag</th>\n",
       "      <th></th>\n",
       "      <th></th>\n",
       "    </tr>\n",
       "  </thead>\n",
       "  <tbody>\n",
       "    <tr>\n",
       "      <th>Loyal customer</th>\n",
       "      <td>216809</td>\n",
       "      <td>10077218</td>\n",
       "    </tr>\n",
       "    <tr>\n",
       "      <th>New Customer</th>\n",
       "      <td>84022</td>\n",
       "      <td>4723933</td>\n",
       "    </tr>\n",
       "    <tr>\n",
       "      <th>Regular customer</th>\n",
       "      <td>302944</td>\n",
       "      <td>15588563</td>\n",
       "    </tr>\n",
       "  </tbody>\n",
       "</table>\n",
       "</div>"
      ],
      "text/plain": [
       "spend_flag        High Spender  Low Spender\n",
       "loyalty_flag                               \n",
       "Loyal customer          216809     10077218\n",
       "New Customer             84022      4723933\n",
       "Regular customer        302944     15588563"
      ]
     },
     "execution_count": 84,
     "metadata": {},
     "output_type": "execute_result"
    }
   ],
   "source": [
    "#compare loyalty to the spend_flag\n",
    "loyalty_spend_crosstab = pd.crosstab(df_cust_prod_ord['loyalty_flag'],df_cust_prod_ord['spend_flag'],dropna=False)\n",
    "loyalty_spend_crosstab"
   ]
  },
  {
   "cell_type": "code",
   "execution_count": 85,
   "id": "995827cb",
   "metadata": {},
   "outputs": [
    {
     "data": {
      "text/plain": [
       "<AxesSubplot:xlabel='loyalty_flag'>"
      ]
     },
     "execution_count": 85,
     "metadata": {},
     "output_type": "execute_result"
    },
    {
     "data": {
      "image/png": "[encoded data removed]",
      "text/plain": [
       "<Figure size 432x288 with 1 Axes>"
      ]
     },
     "metadata": {
      "needs_background": "light"
     },
     "output_type": "display_data"
    }
   ],
   "source": [
    "loyalty_spend_crosstab.plot.bar(stacked=True)"
   ]
  },
  {
   "cell_type": "code",
   "execution_count": 86,
   "id": "880bb2cf",
   "metadata": {},
   "outputs": [
    {
     "data": {
      "text/html": [
       "<div>\n",
       "<style scoped>\n",
       "    .dataframe tbody tr th:only-of-type {\n",
       "        vertical-align: middle;\n",
       "    }\n",
       "\n",
       "    .dataframe tbody tr th {\n",
       "        vertical-align: top;\n",
       "    }\n",
       "\n",
       "    .dataframe thead th {\n",
       "        text-align: right;\n",
       "    }\n",
       "</style>\n",
       "<table border=\"1\" class=\"dataframe\">\n",
       "  <thead>\n",
       "    <tr style=\"text-align: right;\">\n",
       "      <th>frequency_flag</th>\n",
       "      <th>Frequent customer</th>\n",
       "      <th>Non-frequent customer</th>\n",
       "      <th>Regular customer</th>\n",
       "    </tr>\n",
       "    <tr>\n",
       "      <th>loyalty_flag</th>\n",
       "      <th></th>\n",
       "      <th></th>\n",
       "      <th></th>\n",
       "    </tr>\n",
       "  </thead>\n",
       "  <tbody>\n",
       "    <tr>\n",
       "      <th>Loyal customer</th>\n",
       "      <td>10289894</td>\n",
       "      <td>0</td>\n",
       "      <td>4133</td>\n",
       "    </tr>\n",
       "    <tr>\n",
       "      <th>New Customer</th>\n",
       "      <td>1294298</td>\n",
       "      <td>1985104</td>\n",
       "      <td>1528553</td>\n",
       "    </tr>\n",
       "    <tr>\n",
       "      <th>Regular customer</th>\n",
       "      <td>9638452</td>\n",
       "      <td>912366</td>\n",
       "      <td>5340689</td>\n",
       "    </tr>\n",
       "  </tbody>\n",
       "</table>\n",
       "</div>"
      ],
      "text/plain": [
       "frequency_flag    Frequent customer  Non-frequent customer  Regular customer\n",
       "loyalty_flag                                                                \n",
       "Loyal customer             10289894                      0              4133\n",
       "New Customer                1294298                1985104           1528553\n",
       "Regular customer            9638452                 912366           5340689"
      ]
     },
     "execution_count": 86,
     "metadata": {},
     "output_type": "execute_result"
    }
   ],
   "source": [
    "#compare loyalty to the frequency_flag\n",
    "loyalty_frequency_crosstab = pd.crosstab(df_cust_prod_ord['loyalty_flag'],df_cust_prod_ord['frequency_flag'],dropna=False)\n",
    "loyalty_frequency_crosstab"
   ]
  },
  {
   "cell_type": "code",
   "execution_count": 87,
   "id": "eb6c21a7",
   "metadata": {},
   "outputs": [
    {
     "data": {
      "image/png": "[encoded data removed]",
      "text/plain": [
       "<Figure size 432x288 with 1 Axes>"
      ]
     },
     "metadata": {
      "needs_background": "light"
     },
     "output_type": "display_data"
    }
   ],
   "source": [
    "loyalty_frequency_bar = loyalty_frequency_crosstab.plot.bar()"
   ]
  },
  {
   "cell_type": "markdown",
   "id": "62dd53be",
   "metadata": {},
   "source": [
    "## 11)\n",
    "Export visualizations and dataframe"
   ]
  },
  {
   "cell_type": "code",
   "execution_count": 88,
   "id": "ee8ef411",
   "metadata": {},
   "outputs": [],
   "source": [
    "#export data frame\n",
    "df_cust_prod_ord.to_pickle(os.path.join(path, '2 Data','prepared data', 'post_4_10_task_final_orders_products_customers.pkl'))"
   ]
  },
  {
   "cell_type": "code",
   "execution_count": 89,
   "id": "1f6f442e",
   "metadata": {},
   "outputs": [],
   "source": [
    "#export visualizations\n",
    "stacked_bar_region_spenders.figure.savefig(os.path.join(path, '4 Analysis', 'Visualizations', 'stacked_bar_region_spenders.dow.png'))"
   ]
  },
  {
   "cell_type": "code",
   "execution_count": 90,
   "id": "138a4cfc",
   "metadata": {},
   "outputs": [],
   "source": [
    "age_bar.figure.savefig(os.path.join(path, '4 Analysis', 'Visualizations', 'age_distribution_bar.dow.png'))"
   ]
  },
  {
   "cell_type": "code",
   "execution_count": 91,
   "id": "4ab7cde2",
   "metadata": {},
   "outputs": [],
   "source": [
    "shopper_type_bar.figure.savefig(os.path.join(path, '4 Analysis', 'Visualizations', 'shopper_type_distribution_bar.dow.png'))"
   ]
  },
  {
   "cell_type": "code",
   "execution_count": 92,
   "id": "7a00f940",
   "metadata": {},
   "outputs": [],
   "source": [
    "food_shelf_life_bar.figure.savefig(os.path.join(path, '4 Analysis', 'Visualizations', 'food_shelf_life_distribution_bar.dow.png'))"
   ]
  },
  {
   "cell_type": "code",
   "execution_count": 93,
   "id": "93a9623f",
   "metadata": {},
   "outputs": [],
   "source": [
    "income_bar.figure.savefig(os.path.join(path, '4 Analysis', 'Visualizations', 'income_distribution_bar.dow.png'))"
   ]
  },
  {
   "cell_type": "code",
   "execution_count": 94,
   "id": "fc6fa995",
   "metadata": {},
   "outputs": [],
   "source": [
    "bar_age_region.figure.savefig(os.path.join(path, '4 Analysis', 'Visualizations', 'age_region_bar.dow.png'))"
   ]
  },
  {
   "cell_type": "code",
   "execution_count": 95,
   "id": "130cafc6",
   "metadata": {},
   "outputs": [],
   "source": [
    "stacked_bar_age_dept.figure.savefig(os.path.join(path, '4 Analysis', 'Visualizations', 'age_dept_stacked_bar.dow.png'))"
   ]
  },
  {
   "cell_type": "code",
   "execution_count": 96,
   "id": "67cf6e78",
   "metadata": {},
   "outputs": [],
   "source": [
    "fam_type_region_bar.figure.savefig(os.path.join(path, '4 Analysis', 'Visualizations', 'fam_type_region_bar.dow.png'))"
   ]
  },
  {
   "cell_type": "code",
   "execution_count": 97,
   "id": "cd152b3e",
   "metadata": {},
   "outputs": [],
   "source": [
    "stacked_bar_fam_type_dept.figure.savefig(os.path.join(path, '4 Analysis', 'Visualizations', 'stacked_bar_fam_type_dept.dow.png'))"
   ]
  },
  {
   "cell_type": "code",
   "execution_count": 98,
   "id": "4bde8909",
   "metadata": {},
   "outputs": [],
   "source": [
    "food_shelf_life_region_bar.figure.savefig(os.path.join(path, '4 Analysis', 'Visualizations', 'food_shelp_life_region_bar.dow.png'))"
   ]
  },
  {
   "cell_type": "code",
   "execution_count": 99,
   "id": "2a7aba20",
   "metadata": {},
   "outputs": [],
   "source": [
    "income_bracket_region_bar.figure.savefig(os.path.join(path, '4 Analysis', 'Visualizations', 'income_bracket_region_bar.dow.png'))"
   ]
  },
  {
   "cell_type": "code",
   "execution_count": 100,
   "id": "9d78fb96",
   "metadata": {},
   "outputs": [],
   "source": [
    "stacked_bar_income_bracket_dept.figure.savefig(os.path.join(path, '4 Analysis', 'Visualizations', 'stacked_bar_income_bracket_dept.dow.png'))"
   ]
  },
  {
   "cell_type": "code",
   "execution_count": 101,
   "id": "95eb031d",
   "metadata": {},
   "outputs": [],
   "source": [
    "bar_department_order_frequency.figure.savefig(os.path.join(path, '4 Analysis', 'Visualizations', 'bar_department_order_frequency.png'))"
   ]
  },
  {
   "cell_type": "code",
   "execution_count": 102,
   "id": "8fb9472d",
   "metadata": {},
   "outputs": [],
   "source": [
    "loyalty_frequency_bar.figure.savefig(os.path.join(path, '4 Analysis', 'Visualizations', 'loyalty_frequency_bar.png'))"
   ]
  },
  {
   "cell_type": "code",
   "execution_count": 103,
   "id": "3d473054",
   "metadata": {},
   "outputs": [],
   "source": [
    "income_histo.figure.savefig(os.path.join(path, '4 Analysis', 'Visualizations', 'income_histo.png'))"
   ]
  },
  {
   "cell_type": "code",
   "execution_count": null,
   "id": "ce5db287",
   "metadata": {},
   "outputs": [],
   "source": []
  }
 ],
 "metadata": {
  "kernelspec": {
   "display_name": "Python 3",
   "language": "python",
   "name": "python3"
  },
  "language_info": {
   "codemirror_mode": {
    "name": "ipython",
    "version": 3
   },
   "file_extension": ".py",
   "mimetype": "text/x-python",
   "name": "python",
   "nbconvert_exporter": "python",
   "pygments_lexer": "ipython3",
   "version": "3.8.8"
  }
 },
 "nbformat": 4,
 "nbformat_minor": 5
}
