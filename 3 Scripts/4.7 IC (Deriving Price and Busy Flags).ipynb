{
 "cells": [
  {
   "cell_type": "markdown",
   "id": "522f7218",
   "metadata": {},
   "source": [
    "## Table of Contents\n",
    "\n",
    "1) Import Libraries and Data\n",
    "\n",
    "2) Create price label flag\n",
    "\n",
    "3) Create busiest day flag\n",
    "\n",
    "4) Create busiest 2 days flag\n",
    "\n",
    "5) Create busiest period of the day flag\n",
    "\n",
    "6) Export dataframe"
   ]
  },
  {
   "cell_type": "markdown",
   "id": "b29b0c54",
   "metadata": {},
   "source": [
    "### 1)\n",
    "Import Libraries and Data"
   ]
  },
  {
   "cell_type": "code",
   "execution_count": 1,
   "id": "e7ea4871",
   "metadata": {},
   "outputs": [],
   "source": [
    "#import libraries\n",
    "import pandas as pd\n",
    "import numpy as np\n",
    "import os"
   ]
  },
  {
   "cell_type": "code",
   "execution_count": 2,
   "id": "b213ff09",
   "metadata": {},
   "outputs": [],
   "source": [
    "#define path\n",
    "path = r'C:\\Users\\Owner\\Documents\\Career Foundry\\Tasks\\Data Immersion Tasks\\Instacart Project\\2 Data'"
   ]
  },
  {
   "cell_type": "code",
   "execution_count": 3,
   "id": "4f254889",
   "metadata": {},
   "outputs": [],
   "source": [
    "#import total combined orders and products data as df_ord_prod_total\n",
    "df_ord_prod_total = pd.read_pickle(os.path.join(path, 'prepared data', 'orders_products_merged.pkl'))"
   ]
  },
  {
   "cell_type": "markdown",
   "id": "5d66f966",
   "metadata": {},
   "source": [
    "### 2)\n",
    "creating the “price_label” column"
   ]
  },
  {
   "cell_type": "code",
   "execution_count": 12,
   "id": "d1b9037f",
   "metadata": {},
   "outputs": [],
   "source": [
    "#create high price label for products in df_ord_prod_total with price over 15\n",
    "df_ord_prod_total.loc[df_ord_prod_total['prices'] >15, 'price_range'] = 'High-range product'"
   ]
  },
  {
   "cell_type": "code",
   "execution_count": 13,
   "id": "d57cca30",
   "metadata": {},
   "outputs": [],
   "source": [
    "#create mid price label for products in df_ord_prod_total with price over 5 up to and including 15\n",
    "df_ord_prod_total.loc[(df_ord_prod_total['prices'] >5) & (df_ord_prod_total['prices'] <= 15), 'price_range'] = 'Mid-range product'"
   ]
  },
  {
   "cell_type": "code",
   "execution_count": 14,
   "id": "51a73cd1",
   "metadata": {},
   "outputs": [],
   "source": [
    "#create low price label for products in df_ord_prod_total with price under or equal 5\n",
    "df_ord_prod_total.loc[df_ord_prod_total['prices'] <=5, 'price_range'] = 'Low-range product'"
   ]
  },
  {
   "cell_type": "code",
   "execution_count": 15,
   "id": "1ac8cd5f",
   "metadata": {},
   "outputs": [
    {
     "data": {
      "text/plain": [
       "Mid-range product     21860868\n",
       "Low-range product     10126324\n",
       "High-range product      417678\n",
       "NaN                      30200\n",
       "Name: price_range, dtype: int64"
      ]
     },
     "execution_count": 15,
     "metadata": {},
     "output_type": "execute_result"
    }
   ],
   "source": [
    "#check counts for price range column in df_ord_prod_total\n",
    "df_ord_prod_total['price_range'].value_counts(dropna = False)"
   ]
  },
  {
   "cell_type": "markdown",
   "id": "4cc62e8a",
   "metadata": {},
   "source": [
    "### 3)\n",
    "creating the “busiest_day” column"
   ]
  },
  {
   "cell_type": "code",
   "execution_count": 16,
   "id": "c04ea80b",
   "metadata": {},
   "outputs": [
    {
     "data": {
      "text/plain": [
       "0.0    6209808\n",
       "1.0    5665951\n",
       "6.0    4500391\n",
       "2.0    4217868\n",
       "5.0    4209603\n",
       "3.0    3844175\n",
       "4.0    3787263\n",
       "NaN         11\n",
       "Name: orders_day_of_week, dtype: int64"
      ]
     },
     "execution_count": 16,
     "metadata": {},
     "output_type": "execute_result"
    }
   ],
   "source": [
    "#printing the frequency of the “orders_day_of_the_week” column to find the busiest and slowest days\n",
    "df_ord_prod_total['orders_day_of_week'].value_counts(dropna = False)"
   ]
  },
  {
   "cell_type": "code",
   "execution_count": 17,
   "id": "faf810cc",
   "metadata": {},
   "outputs": [],
   "source": [
    "#create list which records the if the order row was done on the busiest day (sunday), the least busy day (thursday), or was regularly busy \n",
    "result = []\n",
    "\n",
    "for x in df_ord_prod_total['orders_day_of_week']:\n",
    "    if x == 0:\n",
    "        result.append('Busiest day')\n",
    "    elif x == 4:\n",
    "        result.append('Least busy')\n",
    "    else:\n",
    "        result.append('Regularly busy')"
   ]
  },
  {
   "cell_type": "code",
   "execution_count": 18,
   "id": "c98bd0a2",
   "metadata": {},
   "outputs": [],
   "source": [
    "#create column busiest day in df_ord_prod_total to store results\n",
    "df_ord_prod_total['busiest_day'] = result"
   ]
  },
  {
   "cell_type": "code",
   "execution_count": 19,
   "id": "3e988535",
   "metadata": {},
   "outputs": [
    {
     "data": {
      "text/plain": [
       "Regularly busy    22437999\n",
       "Busiest day        6209808\n",
       "Least busy         3787263\n",
       "Name: busiest_day, dtype: int64"
      ]
     },
     "execution_count": 19,
     "metadata": {},
     "output_type": "execute_result"
    }
   ],
   "source": [
    "#check counts in “busiest_day” column in df_ord_prod_total\n",
    "df_ord_prod_total['busiest_day'].value_counts(dropna = False)"
   ]
  },
  {
   "cell_type": "markdown",
   "id": "c70dd9c3",
   "metadata": {},
   "source": [
    "## 4)\n",
    "Suppose your clients have changed their minds about the labels you created in your “busiest_day” column. Now, they want “Busiest day” to become “Busiest days” (plural). This label should correspond with the two busiest days of the week as opposed to the single busiest day. At the same time, they’d also like to know the two slowest days. Create a new column for this using a suitable method."
   ]
  },
  {
   "cell_type": "code",
   "execution_count": 20,
   "id": "d6a8b223",
   "metadata": {},
   "outputs": [],
   "source": [
    "#create a new list result_2 where 2 busiest days (sunday and monday), 2 least busy days (wednesday and thursday), and all other days are labeled on how busy they are\n",
    "result_2 = []\n",
    "\n",
    "for x in df_ord_prod_total['orders_day_of_week']:\n",
    "    if x == 0 or x == 1:\n",
    "        result_2.append('Busiest day')\n",
    "    elif x == 3 or x == 4:\n",
    "        result_2.append('Least busy')\n",
    "    else:\n",
    "        result_2.append('Regularly busy')"
   ]
  },
  {
   "cell_type": "code",
   "execution_count": 21,
   "id": "92806a10",
   "metadata": {},
   "outputs": [],
   "source": [
    "#create new column busiest 2 days in df_ord_prod_total to store results\n",
    "df_ord_prod_total['busiest_2_days'] = result_2"
   ]
  },
  {
   "cell_type": "markdown",
   "id": "d6d49a37",
   "metadata": {},
   "source": [
    "Check the values of this new column for accuracy. Note any observations in markdown format."
   ]
  },
  {
   "cell_type": "code",
   "execution_count": 22,
   "id": "91730fa3",
   "metadata": {},
   "outputs": [
    {
     "data": {
      "text/plain": [
       "Regularly busy    12927873\n",
       "Busiest day       11875759\n",
       "Least busy         7631438\n",
       "Name: busiest_2_days, dtype: int64"
      ]
     },
     "execution_count": 22,
     "metadata": {},
     "output_type": "execute_result"
    }
   ],
   "source": [
    "#check counts in “busiest_2_days” column in df_ord_prod_total\n",
    "df_ord_prod_total['busiest_2_days'].value_counts(dropna=False)"
   ]
  },
  {
   "cell_type": "markdown",
   "id": "16d9aa9f",
   "metadata": {},
   "source": [
    "The counts for both busy day methods add up the to total df_ord_prod_total rows of 32435070.\n",
    "When looking at 2 days instead of 1 the counts for busiest and least busy both roughly double while the count of regular days falls by roughly half."
   ]
  },
  {
   "cell_type": "markdown",
   "id": "affb4928",
   "metadata": {},
   "source": [
    "## 5)\n",
    "When too many users make Instacart orders at the same time, the app freezes. The senior technical officer at Instacart wants you to identify the busiest hours of the day. Rather than by hour, they want periods of time labeled “Most orders,” “Average orders,” and “Fewest orders.” Create a new column containing these labels called “busiest_period_of_day.”"
   ]
  },
  {
   "cell_type": "code",
   "execution_count": 23,
   "id": "fcece6c1",
   "metadata": {},
   "outputs": [
    {
     "data": {
      "text/plain": [
       "10.0    2764476\n",
       "11.0    2738647\n",
       "14.0    2691598\n",
       "15.0    2664583\n",
       "13.0    2663346\n",
       "12.0    2620898\n",
       "16.0    2537506\n",
       "9.0     2456751\n",
       "17.0    2089510\n",
       "8.0     1719991\n",
       "18.0    1637956\n",
       "19.0    1259416\n",
       "20.0     977049\n",
       "7.0      891951\n",
       "21.0     796379\n",
       "22.0     634743\n",
       "23.0     402621\n",
       "6.0      290796\n",
       "0.0      218951\n",
       "1.0      115787\n",
       "5.0       88064\n",
       "2.0       69435\n",
       "4.0       53284\n",
       "3.0       51321\n",
       "NaN          11\n",
       "Name: order_hour_of_day, dtype: int64"
      ]
     },
     "execution_count": 23,
     "metadata": {},
     "output_type": "execute_result"
    }
   ],
   "source": [
    "#count the frequency of orders for each hour of the day in df_ord_prod_total\n",
    "df_ord_prod_total['order_hour_of_day'].value_counts(dropna=False)"
   ]
  },
  {
   "cell_type": "code",
   "execution_count": 27,
   "id": "cae16b39",
   "metadata": {},
   "outputs": [],
   "source": [
    "#create loop to store busy_hour list with “Most orders,” “Average orders,” and “Fewest orders” based of order frequency\n",
    "busy_hour = []\n",
    "\n",
    "for x in df_ord_prod_total['order_hour_of_day']:\n",
    "    if x in (9,10,11,12,13,14,15,16):\n",
    "        busy_hour.append('Most orders')\n",
    "    elif x in (7,8,17,18,19,20,21,22):\n",
    "        busy_hour.append('Average orders')\n",
    "    elif x in (0,1,2,3,4,5,6,23):\n",
    "        busy_hour.append('Fewest orders')\n",
    "    else:\n",
    "        busy_hour.append('Not enough data')"
   ]
  },
  {
   "cell_type": "code",
   "execution_count": 28,
   "id": "1f5000df",
   "metadata": {},
   "outputs": [],
   "source": [
    "#add the busy_hour list to df_ord_prod_total as column busiest_period_of_day\n",
    "df_ord_prod_total['busiest_period_of_day'] = busy_hour"
   ]
  },
  {
   "cell_type": "markdown",
   "id": "ea423216",
   "metadata": {},
   "source": [
    "Print the frequency for this new column."
   ]
  },
  {
   "cell_type": "code",
   "execution_count": 33,
   "id": "e577cf8c",
   "metadata": {},
   "outputs": [
    {
     "data": {
      "text/plain": [
       "Most orders        21137805\n",
       "Average orders     10006995\n",
       "Fewest orders       1290259\n",
       "Not enough data          11\n",
       "Name: busiest_period_of_day, dtype: int64"
      ]
     },
     "execution_count": 33,
     "metadata": {},
     "output_type": "execute_result"
    }
   ],
   "source": [
    "# print frequency of values for column 'busiest_period_of_day'\n",
    "df_ord_prod_total['busiest_period_of_day'].value_counts(dropna = False)"
   ]
  },
  {
   "cell_type": "markdown",
   "id": "50714c2f",
   "metadata": {},
   "source": [
    "## 6)\n",
    "Export Data"
   ]
  },
  {
   "cell_type": "code",
   "execution_count": 37,
   "id": "110f46c8",
   "metadata": {},
   "outputs": [],
   "source": [
    "# export data from df_ord_prod_total\n",
    "df_ord_prod_total.to_pickle(os.path.join(path, 'prepared data', 'order product merge with price ranges and busy counts.pkl'))"
   ]
  },
  {
   "cell_type": "code",
   "execution_count": null,
   "id": "fe526e0f",
   "metadata": {},
   "outputs": [],
   "source": []
  }
 ],
 "metadata": {
  "kernelspec": {
   "display_name": "Python 3",
   "language": "python",
   "name": "python3"
  },
  "language_info": {
   "codemirror_mode": {
    "name": "ipython",
    "version": 3
   },
   "file_extension": ".py",
   "mimetype": "text/x-python",
   "name": "python",
   "nbconvert_exporter": "python",
   "pygments_lexer": "ipython3",
   "version": "3.8.8"
  }
 },
 "nbformat": 4,
 "nbformat_minor": 5
}
