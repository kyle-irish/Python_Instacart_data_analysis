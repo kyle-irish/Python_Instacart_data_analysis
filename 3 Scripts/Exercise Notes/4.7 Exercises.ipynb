{
 "cells": [
  {
   "cell_type": "markdown",
   "id": "522f7218",
   "metadata": {},
   "source": [
    "# 4.7 Exercises"
   ]
  },
  {
   "cell_type": "code",
   "execution_count": 1,
   "id": "e7ea4871",
   "metadata": {},
   "outputs": [],
   "source": [
    "#import libraries\n",
    "import pandas as pd\n",
    "import numpy as np\n",
    "import os"
   ]
  },
  {
   "cell_type": "code",
   "execution_count": 2,
   "id": "b213ff09",
   "metadata": {},
   "outputs": [],
   "source": [
    "#define path\n",
    "path = r'C:\\Users\\Owner\\Documents\\Career Foundry\\Tasks\\Data Immersion Tasks\\Instacart Project\\2 Data'"
   ]
  },
  {
   "cell_type": "code",
   "execution_count": 3,
   "id": "4f254889",
   "metadata": {},
   "outputs": [],
   "source": [
    "#import total combined orders and products data as df_ord_prod_total\n",
    "df_ord_prod_total = pd.read_pickle(os.path.join(path, 'prepared data', 'orders_products_merged.pkl'))"
   ]
  },
  {
   "cell_type": "code",
   "execution_count": 4,
   "id": "f26a47ed",
   "metadata": {},
   "outputs": [],
   "source": [
    "df_mill = df_ord_prod_total[:1000000]"
   ]
  },
  {
   "cell_type": "code",
   "execution_count": 5,
   "id": "c28e16af",
   "metadata": {},
   "outputs": [
    {
     "data": {
      "text/plain": [
       "(1000000, 14)"
      ]
     },
     "execution_count": 5,
     "metadata": {},
     "output_type": "execute_result"
    }
   ],
   "source": [
    "df_mill.shape"
   ]
  },
  {
   "cell_type": "code",
   "execution_count": 6,
   "id": "5aa7cbfb",
   "metadata": {},
   "outputs": [],
   "source": [
    "#defining function to add price groups to data\n",
    "def price_label(row):\n",
    "    if row['prices'] <=5:\n",
    "        return 'Low-range product'\n",
    "    elif (row['prices'] >5) and (row['prices'] <=15):\n",
    "        return 'Mid-range product'\n",
    "    elif row['prices'] >15:\n",
    "        return 'High-range product'\n",
    "    else:\n",
    "        return 'Not enough data'"
   ]
  },
  {
   "cell_type": "code",
   "execution_count": 7,
   "id": "a48a69a4",
   "metadata": {},
   "outputs": [
    {
     "name": "stderr",
     "output_type": "stream",
     "text": [
      "<ipython-input-7-987c4ab48933>:2: SettingWithCopyWarning: \n",
      "A value is trying to be set on a copy of a slice from a DataFrame.\n",
      "Try using .loc[row_indexer,col_indexer] = value instead\n",
      "\n",
      "See the caveats in the documentation: https://pandas.pydata.org/pandas-docs/stable/user_guide/indexing.html#returning-a-view-versus-a-copy\n",
      "  df_mill['price_range']=df_mill.apply(price_label, axis = 1)\n"
     ]
    }
   ],
   "source": [
    "#using price\n",
    "df_mill['price_range']=df_mill.apply(price_label, axis = 1)"
   ]
  },
  {
   "cell_type": "code",
   "execution_count": 8,
   "id": "e6eb150d",
   "metadata": {},
   "outputs": [
    {
     "data": {
      "text/plain": [
       "Mid-range product    756450\n",
       "Low-range product    243550\n",
       "Name: price_range, dtype: int64"
      ]
     },
     "execution_count": 8,
     "metadata": {},
     "output_type": "execute_result"
    }
   ],
   "source": [
    "#checking the counts of the new price range column for counts\n",
    "df_mill['price_range'].value_counts(dropna = False)"
   ]
  },
  {
   "cell_type": "code",
   "execution_count": 9,
   "id": "22d944b9",
   "metadata": {},
   "outputs": [
    {
     "data": {
      "text/plain": [
       "14.8"
      ]
     },
     "execution_count": 9,
     "metadata": {},
     "output_type": "execute_result"
    }
   ],
   "source": [
    "#check the max price value in df_mill\n",
    "df_mill['prices'].max()"
   ]
  },
  {
   "cell_type": "code",
   "execution_count": 10,
   "id": "0cc48bb3",
   "metadata": {
    "scrolled": true
   },
   "outputs": [
    {
     "name": "stdout",
     "output_type": "stream",
     "text": [
      "My age is 30\n",
      "My age is 31\n",
      "My age is 32\n",
      "My age is 33\n",
      "My age is 34\n",
      "My age is 35\n",
      "My age is 36\n",
      "My age is 37\n",
      "My age is 38\n",
      "My age is 39\n",
      "My age is 40\n",
      "My age is 41\n",
      "My age is 42\n",
      "My age is 43\n",
      "My age is 44\n"
     ]
    }
   ],
   "source": [
    "for x in range (30,45):\n",
    "    print('My age is %d' % (x))"
   ]
  },
  {
   "cell_type": "code",
   "execution_count": 11,
   "id": "45bd22cc",
   "metadata": {
    "scrolled": true
   },
   "outputs": [
    {
     "data": {
      "text/plain": [
       "0.0    6209808\n",
       "1.0    5665951\n",
       "6.0    4500391\n",
       "2.0    4217868\n",
       "5.0    4209603\n",
       "3.0    3844175\n",
       "4.0    3787263\n",
       "NaN         11\n",
       "Name: orders_day_of_week, dtype: int64"
      ]
     },
     "execution_count": 11,
     "metadata": {},
     "output_type": "execute_result"
    }
   ],
   "source": [
    "#printing the frequency of the “orders_day_of_the_week” column\n",
    "df_ord_prod_total['orders_day_of_week'].value_counts(dropna = False)"
   ]
  },
  {
   "cell_type": "code",
   "execution_count": null,
   "id": "fe526e0f",
   "metadata": {},
   "outputs": [],
   "source": []
  }
 ],
 "metadata": {
  "kernelspec": {
   "display_name": "Python 3",
   "language": "python",
   "name": "python3"
  },
  "language_info": {
   "codemirror_mode": {
    "name": "ipython",
    "version": 3
   },
   "file_extension": ".py",
   "mimetype": "text/x-python",
   "name": "python",
   "nbconvert_exporter": "python",
   "pygments_lexer": "ipython3",
   "version": "3.8.8"
  }
 },
 "nbformat": 4,
 "nbformat_minor": 5
}
