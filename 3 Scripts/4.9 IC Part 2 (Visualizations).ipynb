{
 "cells": [
  {
   "cell_type": "markdown",
   "id": "d4624102",
   "metadata": {},
   "source": [
    "## Table of Contents\n",
    "\n",
    "\n",
    "1) Import Libraries and Data\n",
    "\n",
    "2) Create bar chart, a histogram, a scatterplot, and a line chart visualizations\n",
    "\n",
    "3) Sales by time visualization\n",
    "\n",
    "4) Distribution of loyalty visualization\n",
    "\n",
    "5) Prices by time visualization\n",
    "\n",
    "6) Age and family status visualizations\n",
    "\n",
    "7) Age and Spendign power visualizations\n",
    "\n",
    "8) Export visualizations and dataframe"
   ]
  },
  {
   "cell_type": "markdown",
   "id": "0564a50d",
   "metadata": {},
   "source": [
    "### 1) Import Libraries and Data"
   ]
  },
  {
   "cell_type": "code",
   "execution_count": 1,
   "id": "23213a98",
   "metadata": {},
   "outputs": [],
   "source": [
    "#import libraries\n",
    "import pandas as pd\n",
    "import numpy as np\n",
    "import os\n",
    "import matplotlib.pyplot as plt\n",
    "import seaborn as sns\n",
    "import scipy"
   ]
  },
  {
   "cell_type": "code",
   "execution_count": 2,
   "id": "081158e3",
   "metadata": {},
   "outputs": [],
   "source": [
    "#define path\n",
    "path =r'C:\\Users\\Owner\\Documents\\Career Foundry\\Tasks\\Data Immersion Tasks\\Instacart Project'"
   ]
  },
  {
   "cell_type": "code",
   "execution_count": 3,
   "id": "199905f1",
   "metadata": {},
   "outputs": [],
   "source": [
    "#import customer orders products combined data as df_cust_ord_prod\n",
    "df_cust_ord_prod = pd.read_pickle(os.path.join(path,'2 Data', 'prepared data', 'final_orders_products_customers.pkl'))"
   ]
  },
  {
   "cell_type": "code",
   "execution_count": 4,
   "id": "ed944d1c",
   "metadata": {},
   "outputs": [
    {
     "data": {
      "text/plain": [
       "(32435059, 33)"
      ]
     },
     "execution_count": 4,
     "metadata": {},
     "output_type": "execute_result"
    }
   ],
   "source": [
    "#check shape of df_cust_ord_prod\n",
    "df_cust_ord_prod.shape"
   ]
  },
  {
   "cell_type": "code",
   "execution_count": 5,
   "id": "cf04ea85",
   "metadata": {},
   "outputs": [
    {
     "data": {
      "text/html": [
       "<div>\n",
       "<style scoped>\n",
       "    .dataframe tbody tr th:only-of-type {\n",
       "        vertical-align: middle;\n",
       "    }\n",
       "\n",
       "    .dataframe tbody tr th {\n",
       "        vertical-align: top;\n",
       "    }\n",
       "\n",
       "    .dataframe thead th {\n",
       "        text-align: right;\n",
       "    }\n",
       "</style>\n",
       "<table border=\"1\" class=\"dataframe\">\n",
       "  <thead>\n",
       "    <tr style=\"text-align: right;\">\n",
       "      <th></th>\n",
       "      <th>order_id</th>\n",
       "      <th>user_id</th>\n",
       "      <th>order_number</th>\n",
       "      <th>orders_day_of_week</th>\n",
       "      <th>order_hour_of_day</th>\n",
       "      <th>days_since_prior_order</th>\n",
       "      <th>product_id</th>\n",
       "      <th>add_to_cart_order</th>\n",
       "      <th>reordered</th>\n",
       "      <th>product_name</th>\n",
       "      <th>aisle_id</th>\n",
       "      <th>department_id</th>\n",
       "      <th>prices</th>\n",
       "      <th>price_range</th>\n",
       "      <th>busiest_day</th>\n",
       "      <th>busiest_2_days</th>\n",
       "      <th>busiest_period_of_day</th>\n",
       "      <th>max_order</th>\n",
       "      <th>loyalty_flag</th>\n",
       "      <th>avg_user_price</th>\n",
       "      <th>spend_flag</th>\n",
       "      <th>median_days_since_order</th>\n",
       "      <th>frequency_flag</th>\n",
       "      <th>first_name</th>\n",
       "      <th>last_name</th>\n",
       "      <th>Gender</th>\n",
       "      <th>STATE</th>\n",
       "      <th>Age</th>\n",
       "      <th>date_joined</th>\n",
       "      <th>num_of_dependants</th>\n",
       "      <th>fam_status</th>\n",
       "      <th>income</th>\n",
       "      <th>_merge</th>\n",
       "    </tr>\n",
       "  </thead>\n",
       "  <tbody>\n",
       "    <tr>\n",
       "      <th>0</th>\n",
       "      <td>2539329.0</td>\n",
       "      <td>1.0</td>\n",
       "      <td>1.0</td>\n",
       "      <td>2.0</td>\n",
       "      <td>8.0</td>\n",
       "      <td>NaN</td>\n",
       "      <td>196</td>\n",
       "      <td>1.0</td>\n",
       "      <td>0.0</td>\n",
       "      <td>Soda</td>\n",
       "      <td>77.0</td>\n",
       "      <td>7.0</td>\n",
       "      <td>9.0</td>\n",
       "      <td>Mid-range product</td>\n",
       "      <td>Regularly busy</td>\n",
       "      <td>Regularly busy</td>\n",
       "      <td>Average orders</td>\n",
       "      <td>10.0</td>\n",
       "      <td>New Customer</td>\n",
       "      <td>6.367797</td>\n",
       "      <td>Low Spender</td>\n",
       "      <td>20.5</td>\n",
       "      <td>Non-frequent customer</td>\n",
       "      <td>Linda</td>\n",
       "      <td>Nguyen</td>\n",
       "      <td>Female</td>\n",
       "      <td>Alabama</td>\n",
       "      <td>31.0</td>\n",
       "      <td>2/17/2019</td>\n",
       "      <td>3.0</td>\n",
       "      <td>married</td>\n",
       "      <td>40423.0</td>\n",
       "      <td>both</td>\n",
       "    </tr>\n",
       "    <tr>\n",
       "      <th>1</th>\n",
       "      <td>2398795.0</td>\n",
       "      <td>1.0</td>\n",
       "      <td>2.0</td>\n",
       "      <td>3.0</td>\n",
       "      <td>7.0</td>\n",
       "      <td>15.0</td>\n",
       "      <td>196</td>\n",
       "      <td>1.0</td>\n",
       "      <td>1.0</td>\n",
       "      <td>Soda</td>\n",
       "      <td>77.0</td>\n",
       "      <td>7.0</td>\n",
       "      <td>9.0</td>\n",
       "      <td>Mid-range product</td>\n",
       "      <td>Regularly busy</td>\n",
       "      <td>Least busy</td>\n",
       "      <td>Average orders</td>\n",
       "      <td>10.0</td>\n",
       "      <td>New Customer</td>\n",
       "      <td>6.367797</td>\n",
       "      <td>Low Spender</td>\n",
       "      <td>20.5</td>\n",
       "      <td>Non-frequent customer</td>\n",
       "      <td>Linda</td>\n",
       "      <td>Nguyen</td>\n",
       "      <td>Female</td>\n",
       "      <td>Alabama</td>\n",
       "      <td>31.0</td>\n",
       "      <td>2/17/2019</td>\n",
       "      <td>3.0</td>\n",
       "      <td>married</td>\n",
       "      <td>40423.0</td>\n",
       "      <td>both</td>\n",
       "    </tr>\n",
       "    <tr>\n",
       "      <th>2</th>\n",
       "      <td>473747.0</td>\n",
       "      <td>1.0</td>\n",
       "      <td>3.0</td>\n",
       "      <td>3.0</td>\n",
       "      <td>12.0</td>\n",
       "      <td>21.0</td>\n",
       "      <td>196</td>\n",
       "      <td>1.0</td>\n",
       "      <td>1.0</td>\n",
       "      <td>Soda</td>\n",
       "      <td>77.0</td>\n",
       "      <td>7.0</td>\n",
       "      <td>9.0</td>\n",
       "      <td>Mid-range product</td>\n",
       "      <td>Regularly busy</td>\n",
       "      <td>Least busy</td>\n",
       "      <td>Most orders</td>\n",
       "      <td>10.0</td>\n",
       "      <td>New Customer</td>\n",
       "      <td>6.367797</td>\n",
       "      <td>Low Spender</td>\n",
       "      <td>20.5</td>\n",
       "      <td>Non-frequent customer</td>\n",
       "      <td>Linda</td>\n",
       "      <td>Nguyen</td>\n",
       "      <td>Female</td>\n",
       "      <td>Alabama</td>\n",
       "      <td>31.0</td>\n",
       "      <td>2/17/2019</td>\n",
       "      <td>3.0</td>\n",
       "      <td>married</td>\n",
       "      <td>40423.0</td>\n",
       "      <td>both</td>\n",
       "    </tr>\n",
       "    <tr>\n",
       "      <th>3</th>\n",
       "      <td>2254736.0</td>\n",
       "      <td>1.0</td>\n",
       "      <td>4.0</td>\n",
       "      <td>4.0</td>\n",
       "      <td>7.0</td>\n",
       "      <td>29.0</td>\n",
       "      <td>196</td>\n",
       "      <td>1.0</td>\n",
       "      <td>1.0</td>\n",
       "      <td>Soda</td>\n",
       "      <td>77.0</td>\n",
       "      <td>7.0</td>\n",
       "      <td>9.0</td>\n",
       "      <td>Mid-range product</td>\n",
       "      <td>Least busy</td>\n",
       "      <td>Least busy</td>\n",
       "      <td>Average orders</td>\n",
       "      <td>10.0</td>\n",
       "      <td>New Customer</td>\n",
       "      <td>6.367797</td>\n",
       "      <td>Low Spender</td>\n",
       "      <td>20.5</td>\n",
       "      <td>Non-frequent customer</td>\n",
       "      <td>Linda</td>\n",
       "      <td>Nguyen</td>\n",
       "      <td>Female</td>\n",
       "      <td>Alabama</td>\n",
       "      <td>31.0</td>\n",
       "      <td>2/17/2019</td>\n",
       "      <td>3.0</td>\n",
       "      <td>married</td>\n",
       "      <td>40423.0</td>\n",
       "      <td>both</td>\n",
       "    </tr>\n",
       "    <tr>\n",
       "      <th>4</th>\n",
       "      <td>431534.0</td>\n",
       "      <td>1.0</td>\n",
       "      <td>5.0</td>\n",
       "      <td>4.0</td>\n",
       "      <td>15.0</td>\n",
       "      <td>28.0</td>\n",
       "      <td>196</td>\n",
       "      <td>1.0</td>\n",
       "      <td>1.0</td>\n",
       "      <td>Soda</td>\n",
       "      <td>77.0</td>\n",
       "      <td>7.0</td>\n",
       "      <td>9.0</td>\n",
       "      <td>Mid-range product</td>\n",
       "      <td>Least busy</td>\n",
       "      <td>Least busy</td>\n",
       "      <td>Most orders</td>\n",
       "      <td>10.0</td>\n",
       "      <td>New Customer</td>\n",
       "      <td>6.367797</td>\n",
       "      <td>Low Spender</td>\n",
       "      <td>20.5</td>\n",
       "      <td>Non-frequent customer</td>\n",
       "      <td>Linda</td>\n",
       "      <td>Nguyen</td>\n",
       "      <td>Female</td>\n",
       "      <td>Alabama</td>\n",
       "      <td>31.0</td>\n",
       "      <td>2/17/2019</td>\n",
       "      <td>3.0</td>\n",
       "      <td>married</td>\n",
       "      <td>40423.0</td>\n",
       "      <td>both</td>\n",
       "    </tr>\n",
       "  </tbody>\n",
       "</table>\n",
       "</div>"
      ],
      "text/plain": [
       "    order_id  user_id  order_number  orders_day_of_week  order_hour_of_day  \\\n",
       "0  2539329.0      1.0           1.0                 2.0                8.0   \n",
       "1  2398795.0      1.0           2.0                 3.0                7.0   \n",
       "2   473747.0      1.0           3.0                 3.0               12.0   \n",
       "3  2254736.0      1.0           4.0                 4.0                7.0   \n",
       "4   431534.0      1.0           5.0                 4.0               15.0   \n",
       "\n",
       "   days_since_prior_order  product_id  add_to_cart_order  reordered  \\\n",
       "0                     NaN         196                1.0        0.0   \n",
       "1                    15.0         196                1.0        1.0   \n",
       "2                    21.0         196                1.0        1.0   \n",
       "3                    29.0         196                1.0        1.0   \n",
       "4                    28.0         196                1.0        1.0   \n",
       "\n",
       "  product_name  aisle_id  department_id  prices        price_range  \\\n",
       "0         Soda      77.0            7.0     9.0  Mid-range product   \n",
       "1         Soda      77.0            7.0     9.0  Mid-range product   \n",
       "2         Soda      77.0            7.0     9.0  Mid-range product   \n",
       "3         Soda      77.0            7.0     9.0  Mid-range product   \n",
       "4         Soda      77.0            7.0     9.0  Mid-range product   \n",
       "\n",
       "      busiest_day  busiest_2_days busiest_period_of_day  max_order  \\\n",
       "0  Regularly busy  Regularly busy        Average orders       10.0   \n",
       "1  Regularly busy      Least busy        Average orders       10.0   \n",
       "2  Regularly busy      Least busy           Most orders       10.0   \n",
       "3      Least busy      Least busy        Average orders       10.0   \n",
       "4      Least busy      Least busy           Most orders       10.0   \n",
       "\n",
       "   loyalty_flag  avg_user_price   spend_flag  median_days_since_order  \\\n",
       "0  New Customer        6.367797  Low Spender                     20.5   \n",
       "1  New Customer        6.367797  Low Spender                     20.5   \n",
       "2  New Customer        6.367797  Low Spender                     20.5   \n",
       "3  New Customer        6.367797  Low Spender                     20.5   \n",
       "4  New Customer        6.367797  Low Spender                     20.5   \n",
       "\n",
       "          frequency_flag first_name last_name  Gender    STATE   Age  \\\n",
       "0  Non-frequent customer      Linda    Nguyen  Female  Alabama  31.0   \n",
       "1  Non-frequent customer      Linda    Nguyen  Female  Alabama  31.0   \n",
       "2  Non-frequent customer      Linda    Nguyen  Female  Alabama  31.0   \n",
       "3  Non-frequent customer      Linda    Nguyen  Female  Alabama  31.0   \n",
       "4  Non-frequent customer      Linda    Nguyen  Female  Alabama  31.0   \n",
       "\n",
       "  date_joined  num_of_dependants fam_status   income _merge  \n",
       "0   2/17/2019                3.0    married  40423.0   both  \n",
       "1   2/17/2019                3.0    married  40423.0   both  \n",
       "2   2/17/2019                3.0    married  40423.0   both  \n",
       "3   2/17/2019                3.0    married  40423.0   both  \n",
       "4   2/17/2019                3.0    married  40423.0   both  "
      ]
     },
     "execution_count": 5,
     "metadata": {},
     "output_type": "execute_result"
    }
   ],
   "source": [
    "#checked head of df_cust_ord_prod\n",
    "pd.set_option('display.max_columns', None)\n",
    "df_cust_ord_prod.head()"
   ]
  },
  {
   "cell_type": "markdown",
   "id": "c67e96fe",
   "metadata": {},
   "source": [
    "## 2)\n",
    "If you haven’t done so already, follow the instructions in the Exercise to create a bar chart, a histogram, a scatterplot, and a line chart, using a sample subset for the line chart."
   ]
  },
  {
   "cell_type": "code",
   "execution_count": 6,
   "id": "65ff72d1",
   "metadata": {},
   "outputs": [
    {
     "data": {
      "image/png": "[encoded data removed]",
      "text/plain": [
       "<Figure size 432x288 with 1 Axes>"
      ]
     },
     "metadata": {
      "needs_background": "light"
     },
     "output_type": "display_data"
    }
   ],
   "source": [
    "#create bar chart of count of price_range column\n",
    "bar_price_range = df_cust_ord_prod['price_range'].value_counts().plot.bar()"
   ]
  },
  {
   "cell_type": "code",
   "execution_count": 7,
   "id": "86e4af54",
   "metadata": {
    "scrolled": true
   },
   "outputs": [
    {
     "data": {
      "image/png": "[encoded data removed]",
      "text/plain": [
       "<Figure size 432x288 with 1 Axes>"
      ]
     },
     "metadata": {
      "needs_background": "light"
     },
     "output_type": "display_data"
    }
   ],
   "source": [
    "#create histogram of age of customers\n",
    "histo_age = df_cust_ord_prod['Age'].plot.hist(bins = 10)"
   ]
  },
  {
   "cell_type": "code",
   "execution_count": 32,
   "id": "0f37c31e",
   "metadata": {
    "scrolled": true
   },
   "outputs": [
    {
     "data": {
      "image/png": "[encoded data removed]",
      "text/plain": [
       "<Figure size 432x288 with 1 Axes>"
      ]
     },
     "metadata": {
      "needs_background": "light"
     },
     "output_type": "display_data"
    }
   ],
   "source": [
    "#create scatterplot with columns avg_user_price and income\n",
    "scatter_age_avg_user_price = sns.scatterplot(x='avg_user_price', y='income', data=df_cust_ord_prod)"
   ]
  },
  {
   "cell_type": "markdown",
   "id": "9d236520",
   "metadata": {},
   "source": [
    "## Note here: \n",
    "After removing the 'prices' outliers I didnt realise that 'avg_user_price' and the 'spend_flag' columns would be affected until running this scatterplot. I re ran the code in the 2 lines below from 4.8 to set the 'avg_user_price' and the 'spend_flag' columns but will not be including that here."
   ]
  },
  {
   "cell_type": "code",
   "execution_count": 9,
   "id": "f9a87cbd",
   "metadata": {},
   "outputs": [],
   "source": [
    "df_cust_ord_prod = df_cust_ord_prod.drop(columns=['avg_user_price'])"
   ]
  },
  {
   "cell_type": "code",
   "execution_count": 10,
   "id": "c5d00329",
   "metadata": {},
   "outputs": [],
   "source": [
    "df_cust_ord_prod['avg_user_price'] = df_cust_ord_prod.groupby('user_id')['prices'].transform(np.mean)"
   ]
  },
  {
   "cell_type": "code",
   "execution_count": 11,
   "id": "7c338b65",
   "metadata": {},
   "outputs": [],
   "source": [
    "#create list 'dev' of true false values for entire dataframe based on random values between 0 and 1 being less than .9\n",
    "np.random.seed(4)\n",
    "dev = np.random.rand(len(df_cust_ord_prod)) <= 0.9"
   ]
  },
  {
   "cell_type": "code",
   "execution_count": 12,
   "id": "3f8e06ae",
   "metadata": {},
   "outputs": [],
   "source": [
    "#create sample of 10% of df_cust_ord_prod data as df_small\n",
    "df_small = df_cust_ord_prod[~dev]"
   ]
  },
  {
   "cell_type": "code",
   "execution_count": 13,
   "id": "f7d386c6",
   "metadata": {},
   "outputs": [],
   "source": [
    "#reduce df_small to only the 'orders_day_of_the_week' and 'prices' columns\n",
    "df_small = df_small[['orders_day_of_week','prices']]"
   ]
  },
  {
   "cell_type": "code",
   "execution_count": 14,
   "id": "4e65239b",
   "metadata": {},
   "outputs": [
    {
     "data": {
      "image/png": "[encoded data removed]",
      "text/plain": [
       "<Figure size 432x288 with 1 Axes>"
      ]
     },
     "metadata": {
      "needs_background": "light"
     },
     "output_type": "display_data"
    }
   ],
   "source": [
    "#create line graph of 'orders_day_of_the_week' and 'prices' from df_small\n",
    "line_sample = sns.lineplot(data= df_small, x = 'orders_day_of_week',y = 'prices')"
   ]
  },
  {
   "cell_type": "markdown",
   "id": "640c31b6",
   "metadata": {},
   "source": [
    "## 3)\n",
    "You need to provide the Instacart senior stakeholders with descriptive findings about sales. Create a histogram of the “order_hour_of_day” column.\n",
    "In a markdown cell beneath your histogram, describe what the histogram demonstrates."
   ]
  },
  {
   "cell_type": "code",
   "execution_count": 15,
   "id": "05f00957",
   "metadata": {
    "scrolled": true
   },
   "outputs": [
    {
     "data": {
      "image/png": "[encoded data removed]",
      "text/plain": [
       "<Figure size 432x288 with 1 Axes>"
      ]
     },
     "metadata": {
      "needs_background": "light"
     },
     "output_type": "display_data"
    }
   ],
   "source": [
    "#create histogram for order_hour_of_day\n",
    "histogram_order_hour_of_day = df_cust_ord_prod['order_hour_of_day'].plot.hist(bins = 24)"
   ]
  },
  {
   "cell_type": "markdown",
   "id": "719bb5ad",
   "metadata": {},
   "source": [
    "We have a count of orders here for each hour of the day. The morning stays quite low in demand for orders until about 6 am. After 6 am orders roughly double each hour until about 9am. We hit the max amount of orders around 10 am and this stays fairly consistent until about 3pm. We see a more gradual decline than the morning increase but it is a consistent decline from 3pm on till the end of the day."
   ]
  },
  {
   "cell_type": "code",
   "execution_count": 16,
   "id": "cfe5fe70",
   "metadata": {
    "scrolled": true
   },
   "outputs": [
    {
     "data": {
      "image/png": "[encoded data removed]",
      "text/plain": [
       "<Figure size 432x288 with 1 Axes>"
      ]
     },
     "metadata": {
      "needs_background": "light"
     },
     "output_type": "display_data"
    }
   ],
   "source": [
    "#create histogram for orders_day_of_week\n",
    "histogram_order_hour_of_day = df_cust_ord_prod['orders_day_of_week'].plot.hist(bins = 7)"
   ]
  },
  {
   "cell_type": "markdown",
   "id": "e13789ce",
   "metadata": {},
   "source": [
    "## 4)\n",
    "The marketing team is curious about the distribution of orders among customers in terms of loyalty. Create a bar chart from the “loyalty_flag” column."
   ]
  },
  {
   "cell_type": "code",
   "execution_count": 17,
   "id": "7626964f",
   "metadata": {},
   "outputs": [
    {
     "data": {
      "image/png": "[encoded data removed]",
      "text/plain": [
       "<Figure size 432x288 with 1 Axes>"
      ]
     },
     "metadata": {
      "needs_background": "light"
     },
     "output_type": "display_data"
    }
   ],
   "source": [
    "#create a bar chart of the loyalty_flag column counts\n",
    "bar_loyalty_flag = df_cust_ord_prod['loyalty_flag'].value_counts().plot.bar()"
   ]
  },
  {
   "cell_type": "markdown",
   "id": "3ab99313",
   "metadata": {},
   "source": [
    "## 5)\n",
    "Check whether there’s a difference in expenditure (the “prices” column) depending on the hour of the day. (Hint: To check this, you need to use an accurate sample for your line chart!)"
   ]
  },
  {
   "cell_type": "code",
   "execution_count": 18,
   "id": "214cf238",
   "metadata": {},
   "outputs": [
    {
     "data": {
      "text/html": [
       "<div>\n",
       "<style scoped>\n",
       "    .dataframe tbody tr th:only-of-type {\n",
       "        vertical-align: middle;\n",
       "    }\n",
       "\n",
       "    .dataframe tbody tr th {\n",
       "        vertical-align: top;\n",
       "    }\n",
       "\n",
       "    .dataframe thead tr th {\n",
       "        text-align: left;\n",
       "    }\n",
       "\n",
       "    .dataframe thead tr:last-of-type th {\n",
       "        text-align: right;\n",
       "    }\n",
       "</style>\n",
       "<table border=\"1\" class=\"dataframe\">\n",
       "  <thead>\n",
       "    <tr>\n",
       "      <th></th>\n",
       "      <th colspan=\"3\" halign=\"left\">prices</th>\n",
       "    </tr>\n",
       "    <tr>\n",
       "      <th></th>\n",
       "      <th>mean</th>\n",
       "      <th>min</th>\n",
       "      <th>max</th>\n",
       "    </tr>\n",
       "    <tr>\n",
       "      <th>order_hour_of_day</th>\n",
       "      <th></th>\n",
       "      <th></th>\n",
       "      <th></th>\n",
       "    </tr>\n",
       "  </thead>\n",
       "  <tbody>\n",
       "    <tr>\n",
       "      <th>0.0</th>\n",
       "      <td>7.811152</td>\n",
       "      <td>1.0</td>\n",
       "      <td>25.0</td>\n",
       "    </tr>\n",
       "    <tr>\n",
       "      <th>1.0</th>\n",
       "      <td>7.805706</td>\n",
       "      <td>1.0</td>\n",
       "      <td>25.0</td>\n",
       "    </tr>\n",
       "    <tr>\n",
       "      <th>2.0</th>\n",
       "      <td>7.799211</td>\n",
       "      <td>1.0</td>\n",
       "      <td>25.0</td>\n",
       "    </tr>\n",
       "    <tr>\n",
       "      <th>3.0</th>\n",
       "      <td>7.828101</td>\n",
       "      <td>1.0</td>\n",
       "      <td>25.0</td>\n",
       "    </tr>\n",
       "    <tr>\n",
       "      <th>4.0</th>\n",
       "      <td>7.838612</td>\n",
       "      <td>1.0</td>\n",
       "      <td>25.0</td>\n",
       "    </tr>\n",
       "    <tr>\n",
       "      <th>5.0</th>\n",
       "      <td>7.828162</td>\n",
       "      <td>1.0</td>\n",
       "      <td>25.0</td>\n",
       "    </tr>\n",
       "    <tr>\n",
       "      <th>6.0</th>\n",
       "      <td>7.817802</td>\n",
       "      <td>1.0</td>\n",
       "      <td>25.0</td>\n",
       "    </tr>\n",
       "    <tr>\n",
       "      <th>7.0</th>\n",
       "      <td>7.820043</td>\n",
       "      <td>1.0</td>\n",
       "      <td>25.0</td>\n",
       "    </tr>\n",
       "    <tr>\n",
       "      <th>8.0</th>\n",
       "      <td>7.790509</td>\n",
       "      <td>1.0</td>\n",
       "      <td>25.0</td>\n",
       "    </tr>\n",
       "    <tr>\n",
       "      <th>9.0</th>\n",
       "      <td>7.753561</td>\n",
       "      <td>1.0</td>\n",
       "      <td>25.0</td>\n",
       "    </tr>\n",
       "    <tr>\n",
       "      <th>10.0</th>\n",
       "      <td>7.749879</td>\n",
       "      <td>1.0</td>\n",
       "      <td>25.0</td>\n",
       "    </tr>\n",
       "    <tr>\n",
       "      <th>11.0</th>\n",
       "      <td>7.772038</td>\n",
       "      <td>1.0</td>\n",
       "      <td>25.0</td>\n",
       "    </tr>\n",
       "    <tr>\n",
       "      <th>12.0</th>\n",
       "      <td>7.789222</td>\n",
       "      <td>1.0</td>\n",
       "      <td>25.0</td>\n",
       "    </tr>\n",
       "    <tr>\n",
       "      <th>13.0</th>\n",
       "      <td>7.793418</td>\n",
       "      <td>1.0</td>\n",
       "      <td>25.0</td>\n",
       "    </tr>\n",
       "    <tr>\n",
       "      <th>14.0</th>\n",
       "      <td>7.802823</td>\n",
       "      <td>1.0</td>\n",
       "      <td>25.0</td>\n",
       "    </tr>\n",
       "    <tr>\n",
       "      <th>15.0</th>\n",
       "      <td>7.805949</td>\n",
       "      <td>1.0</td>\n",
       "      <td>25.0</td>\n",
       "    </tr>\n",
       "    <tr>\n",
       "      <th>16.0</th>\n",
       "      <td>7.802705</td>\n",
       "      <td>1.0</td>\n",
       "      <td>25.0</td>\n",
       "    </tr>\n",
       "    <tr>\n",
       "      <th>17.0</th>\n",
       "      <td>7.806522</td>\n",
       "      <td>1.0</td>\n",
       "      <td>25.0</td>\n",
       "    </tr>\n",
       "    <tr>\n",
       "      <th>18.0</th>\n",
       "      <td>7.809833</td>\n",
       "      <td>1.0</td>\n",
       "      <td>25.0</td>\n",
       "    </tr>\n",
       "    <tr>\n",
       "      <th>19.0</th>\n",
       "      <td>7.794163</td>\n",
       "      <td>1.0</td>\n",
       "      <td>25.0</td>\n",
       "    </tr>\n",
       "    <tr>\n",
       "      <th>20.0</th>\n",
       "      <td>7.800359</td>\n",
       "      <td>1.0</td>\n",
       "      <td>25.0</td>\n",
       "    </tr>\n",
       "    <tr>\n",
       "      <th>21.0</th>\n",
       "      <td>7.805543</td>\n",
       "      <td>1.0</td>\n",
       "      <td>25.0</td>\n",
       "    </tr>\n",
       "    <tr>\n",
       "      <th>22.0</th>\n",
       "      <td>7.816838</td>\n",
       "      <td>1.0</td>\n",
       "      <td>25.0</td>\n",
       "    </tr>\n",
       "    <tr>\n",
       "      <th>23.0</th>\n",
       "      <td>7.797452</td>\n",
       "      <td>1.0</td>\n",
       "      <td>25.0</td>\n",
       "    </tr>\n",
       "  </tbody>\n",
       "</table>\n",
       "</div>"
      ],
      "text/plain": [
       "                     prices           \n",
       "                       mean  min   max\n",
       "order_hour_of_day                     \n",
       "0.0                7.811152  1.0  25.0\n",
       "1.0                7.805706  1.0  25.0\n",
       "2.0                7.799211  1.0  25.0\n",
       "3.0                7.828101  1.0  25.0\n",
       "4.0                7.838612  1.0  25.0\n",
       "5.0                7.828162  1.0  25.0\n",
       "6.0                7.817802  1.0  25.0\n",
       "7.0                7.820043  1.0  25.0\n",
       "8.0                7.790509  1.0  25.0\n",
       "9.0                7.753561  1.0  25.0\n",
       "10.0               7.749879  1.0  25.0\n",
       "11.0               7.772038  1.0  25.0\n",
       "12.0               7.789222  1.0  25.0\n",
       "13.0               7.793418  1.0  25.0\n",
       "14.0               7.802823  1.0  25.0\n",
       "15.0               7.805949  1.0  25.0\n",
       "16.0               7.802705  1.0  25.0\n",
       "17.0               7.806522  1.0  25.0\n",
       "18.0               7.809833  1.0  25.0\n",
       "19.0               7.794163  1.0  25.0\n",
       "20.0               7.800359  1.0  25.0\n",
       "21.0               7.805543  1.0  25.0\n",
       "22.0               7.816838  1.0  25.0\n",
       "23.0               7.797452  1.0  25.0"
      ]
     },
     "execution_count": 18,
     "metadata": {},
     "output_type": "execute_result"
    }
   ],
   "source": [
    "# find prices by hour of the day for df_cust_ord_prod to compare against sample to be visualized\n",
    "df_cust_ord_prod.groupby('order_hour_of_day').agg({'prices':['mean','min','max']})"
   ]
  },
  {
   "cell_type": "code",
   "execution_count": 19,
   "id": "c1d3f5d6",
   "metadata": {},
   "outputs": [],
   "source": [
    "#create random true/false list of df_cust_ord_prod for 85/15 split of data\n",
    "np.random.seed(4)\n",
    "list85_15 = np.random.rand(len(df_cust_ord_prod)) <=0.85"
   ]
  },
  {
   "cell_type": "code",
   "execution_count": 20,
   "id": "b8b7b0c6",
   "metadata": {},
   "outputs": [],
   "source": [
    "#create sample of df_cust_ord_prod called df_sample15 of 15% of data\n",
    "df_sample15 = df_cust_ord_prod[~list85_15]"
   ]
  },
  {
   "cell_type": "code",
   "execution_count": 21,
   "id": "a1204fac",
   "metadata": {},
   "outputs": [
    {
     "data": {
      "text/html": [
       "<div>\n",
       "<style scoped>\n",
       "    .dataframe tbody tr th:only-of-type {\n",
       "        vertical-align: middle;\n",
       "    }\n",
       "\n",
       "    .dataframe tbody tr th {\n",
       "        vertical-align: top;\n",
       "    }\n",
       "\n",
       "    .dataframe thead tr th {\n",
       "        text-align: left;\n",
       "    }\n",
       "\n",
       "    .dataframe thead tr:last-of-type th {\n",
       "        text-align: right;\n",
       "    }\n",
       "</style>\n",
       "<table border=\"1\" class=\"dataframe\">\n",
       "  <thead>\n",
       "    <tr>\n",
       "      <th></th>\n",
       "      <th colspan=\"3\" halign=\"left\">prices</th>\n",
       "    </tr>\n",
       "    <tr>\n",
       "      <th></th>\n",
       "      <th>mean</th>\n",
       "      <th>min</th>\n",
       "      <th>max</th>\n",
       "    </tr>\n",
       "    <tr>\n",
       "      <th>order_hour_of_day</th>\n",
       "      <th></th>\n",
       "      <th></th>\n",
       "      <th></th>\n",
       "    </tr>\n",
       "  </thead>\n",
       "  <tbody>\n",
       "    <tr>\n",
       "      <th>0.0</th>\n",
       "      <td>7.759151</td>\n",
       "      <td>1.0</td>\n",
       "      <td>25.0</td>\n",
       "    </tr>\n",
       "    <tr>\n",
       "      <th>1.0</th>\n",
       "      <td>7.784273</td>\n",
       "      <td>1.0</td>\n",
       "      <td>25.0</td>\n",
       "    </tr>\n",
       "    <tr>\n",
       "      <th>2.0</th>\n",
       "      <td>7.776755</td>\n",
       "      <td>1.0</td>\n",
       "      <td>24.7</td>\n",
       "    </tr>\n",
       "    <tr>\n",
       "      <th>3.0</th>\n",
       "      <td>7.818712</td>\n",
       "      <td>1.0</td>\n",
       "      <td>25.0</td>\n",
       "    </tr>\n",
       "    <tr>\n",
       "      <th>4.0</th>\n",
       "      <td>7.902959</td>\n",
       "      <td>1.0</td>\n",
       "      <td>25.0</td>\n",
       "    </tr>\n",
       "    <tr>\n",
       "      <th>5.0</th>\n",
       "      <td>7.814933</td>\n",
       "      <td>1.0</td>\n",
       "      <td>25.0</td>\n",
       "    </tr>\n",
       "    <tr>\n",
       "      <th>6.0</th>\n",
       "      <td>7.848509</td>\n",
       "      <td>1.0</td>\n",
       "      <td>25.0</td>\n",
       "    </tr>\n",
       "    <tr>\n",
       "      <th>7.0</th>\n",
       "      <td>7.809368</td>\n",
       "      <td>1.0</td>\n",
       "      <td>25.0</td>\n",
       "    </tr>\n",
       "    <tr>\n",
       "      <th>8.0</th>\n",
       "      <td>7.787567</td>\n",
       "      <td>1.0</td>\n",
       "      <td>25.0</td>\n",
       "    </tr>\n",
       "    <tr>\n",
       "      <th>9.0</th>\n",
       "      <td>7.754970</td>\n",
       "      <td>1.0</td>\n",
       "      <td>25.0</td>\n",
       "    </tr>\n",
       "    <tr>\n",
       "      <th>10.0</th>\n",
       "      <td>7.745748</td>\n",
       "      <td>1.0</td>\n",
       "      <td>25.0</td>\n",
       "    </tr>\n",
       "    <tr>\n",
       "      <th>11.0</th>\n",
       "      <td>7.774937</td>\n",
       "      <td>1.0</td>\n",
       "      <td>25.0</td>\n",
       "    </tr>\n",
       "    <tr>\n",
       "      <th>12.0</th>\n",
       "      <td>7.790384</td>\n",
       "      <td>1.0</td>\n",
       "      <td>25.0</td>\n",
       "    </tr>\n",
       "    <tr>\n",
       "      <th>13.0</th>\n",
       "      <td>7.809826</td>\n",
       "      <td>1.0</td>\n",
       "      <td>25.0</td>\n",
       "    </tr>\n",
       "    <tr>\n",
       "      <th>14.0</th>\n",
       "      <td>7.806648</td>\n",
       "      <td>1.0</td>\n",
       "      <td>25.0</td>\n",
       "    </tr>\n",
       "    <tr>\n",
       "      <th>15.0</th>\n",
       "      <td>7.801148</td>\n",
       "      <td>1.0</td>\n",
       "      <td>25.0</td>\n",
       "    </tr>\n",
       "    <tr>\n",
       "      <th>16.0</th>\n",
       "      <td>7.797838</td>\n",
       "      <td>1.0</td>\n",
       "      <td>25.0</td>\n",
       "    </tr>\n",
       "    <tr>\n",
       "      <th>17.0</th>\n",
       "      <td>7.804115</td>\n",
       "      <td>1.0</td>\n",
       "      <td>25.0</td>\n",
       "    </tr>\n",
       "    <tr>\n",
       "      <th>18.0</th>\n",
       "      <td>7.819410</td>\n",
       "      <td>1.0</td>\n",
       "      <td>25.0</td>\n",
       "    </tr>\n",
       "    <tr>\n",
       "      <th>19.0</th>\n",
       "      <td>7.784211</td>\n",
       "      <td>1.0</td>\n",
       "      <td>25.0</td>\n",
       "    </tr>\n",
       "    <tr>\n",
       "      <th>20.0</th>\n",
       "      <td>7.810510</td>\n",
       "      <td>1.0</td>\n",
       "      <td>25.0</td>\n",
       "    </tr>\n",
       "    <tr>\n",
       "      <th>21.0</th>\n",
       "      <td>7.810887</td>\n",
       "      <td>1.0</td>\n",
       "      <td>25.0</td>\n",
       "    </tr>\n",
       "    <tr>\n",
       "      <th>22.0</th>\n",
       "      <td>7.815248</td>\n",
       "      <td>1.0</td>\n",
       "      <td>25.0</td>\n",
       "    </tr>\n",
       "    <tr>\n",
       "      <th>23.0</th>\n",
       "      <td>7.784145</td>\n",
       "      <td>1.0</td>\n",
       "      <td>25.0</td>\n",
       "    </tr>\n",
       "  </tbody>\n",
       "</table>\n",
       "</div>"
      ],
      "text/plain": [
       "                     prices           \n",
       "                       mean  min   max\n",
       "order_hour_of_day                     \n",
       "0.0                7.759151  1.0  25.0\n",
       "1.0                7.784273  1.0  25.0\n",
       "2.0                7.776755  1.0  24.7\n",
       "3.0                7.818712  1.0  25.0\n",
       "4.0                7.902959  1.0  25.0\n",
       "5.0                7.814933  1.0  25.0\n",
       "6.0                7.848509  1.0  25.0\n",
       "7.0                7.809368  1.0  25.0\n",
       "8.0                7.787567  1.0  25.0\n",
       "9.0                7.754970  1.0  25.0\n",
       "10.0               7.745748  1.0  25.0\n",
       "11.0               7.774937  1.0  25.0\n",
       "12.0               7.790384  1.0  25.0\n",
       "13.0               7.809826  1.0  25.0\n",
       "14.0               7.806648  1.0  25.0\n",
       "15.0               7.801148  1.0  25.0\n",
       "16.0               7.797838  1.0  25.0\n",
       "17.0               7.804115  1.0  25.0\n",
       "18.0               7.819410  1.0  25.0\n",
       "19.0               7.784211  1.0  25.0\n",
       "20.0               7.810510  1.0  25.0\n",
       "21.0               7.810887  1.0  25.0\n",
       "22.0               7.815248  1.0  25.0\n",
       "23.0               7.784145  1.0  25.0"
      ]
     },
     "execution_count": 21,
     "metadata": {},
     "output_type": "execute_result"
    }
   ],
   "source": [
    "#check sample accuracy against prices by hour of the day for df_cust_ord_prod\n",
    "df_sample15.groupby('order_hour_of_day').agg({'prices':['mean','min','max']})"
   ]
  },
  {
   "cell_type": "code",
   "execution_count": 22,
   "id": "acf033ba",
   "metadata": {},
   "outputs": [],
   "source": [
    "#strip df_sample15 to just the 'prices' and 'order_hour_of_day' for a line graph\n",
    "df_sample15 = df_sample15[['prices','order_hour_of_day']]"
   ]
  },
  {
   "cell_type": "code",
   "execution_count": 23,
   "id": "596bed8e",
   "metadata": {
    "scrolled": true
   },
   "outputs": [
    {
     "data": {
      "image/png": "[encoded data removed]",
      "text/plain": [
       "<Figure size 432x288 with 1 Axes>"
      ]
     },
     "metadata": {
      "needs_background": "light"
     },
     "output_type": "display_data"
    }
   ],
   "source": [
    "#make line graph for df_sample15 for prices vs order_hour_of_day\n",
    "line_prices_v_hour_of_day_sample = sns.lineplot(data=df_sample15, x='order_hour_of_day', y='prices')"
   ]
  },
  {
   "cell_type": "markdown",
   "id": "f180ed35",
   "metadata": {},
   "source": [
    "Prices are indicated to be higher in the early morning of around 4 am. However, the range of the confidence interval for that high point is nearly the exact same as the total range of prices throughout the day. As the rest of the day stays fairly conisstent at a price of 7.8 for any hour, further research would be needed to determine if there is really any difference."
   ]
  },
  {
   "cell_type": "code",
   "execution_count": 24,
   "id": "7be26053",
   "metadata": {},
   "outputs": [
    {
     "data": {
      "image/png": "[encoded data removed]",
      "text/plain": [
       "<Figure size 432x288 with 1 Axes>"
      ]
     },
     "metadata": {
      "needs_background": "light"
     },
     "output_type": "display_data"
    }
   ],
   "source": [
    "#create bar graph of sum of prices grouped by hours of the day\n",
    "df_price_hour = df_cust_ord_prod.groupby('order_hour_of_day').agg({'prices':'mean'})\n",
    "sum_price_by_hour_bar = df_price_hour.plot.bar()"
   ]
  },
  {
   "cell_type": "markdown",
   "id": "cdfdda14",
   "metadata": {},
   "source": [
    "## 6) \n",
    "Now that you have information about customers, you need to conduct some exploratory analysis of customer demographics to inform the targeted marketing campaigns. First, determine whether there’s a connection between age and family status by creating a line chart exploring the connections between age and number of dependents:\n",
    "In a markdown cell beneath your line chart, describe what the line chart shows."
   ]
  },
  {
   "cell_type": "code",
   "execution_count": 25,
   "id": "b6927ea7",
   "metadata": {},
   "outputs": [
    {
     "data": {
      "image/png": "[encoded data removed]",
      "text/plain": [
       "<Figure size 432x288 with 1 Axes>"
      ]
     },
     "metadata": {
      "needs_background": "light"
     },
     "output_type": "display_data"
    }
   ],
   "source": [
    "#create a scatterplot of age vs number of dependants of df_cust_ord_prod\n",
    "age_family_status_scatterplot = sns.scatterplot(x='Age', y='num_of_dependants', data=df_cust_ord_prod)"
   ]
  },
  {
   "cell_type": "code",
   "execution_count": 26,
   "id": "471efbf7",
   "metadata": {},
   "outputs": [],
   "source": [
    "#create random true/false list of df_cust_ord_prod for 85/15 split of data\n",
    "np.random.seed(4)\n",
    "list85_15_2 = np.random.rand(len(df_cust_ord_prod)) <=0.85"
   ]
  },
  {
   "cell_type": "code",
   "execution_count": 27,
   "id": "4c10fce9",
   "metadata": {},
   "outputs": [],
   "source": [
    "#create sample of df_cust_ord_prod called df_sample15 of 15% of data\n",
    "df_sample15_2 = df_cust_ord_prod[~list85_15_2]"
   ]
  },
  {
   "cell_type": "code",
   "execution_count": 28,
   "id": "94d932ad",
   "metadata": {},
   "outputs": [],
   "source": [
    "#strip df_sample15 to just the 'Age' and 'num_of_dependants' for a line graph\n",
    "df_sample15_2 = df_sample15_2[['Age','num_of_dependants']]"
   ]
  },
  {
   "cell_type": "code",
   "execution_count": 29,
   "id": "033ebac4",
   "metadata": {},
   "outputs": [
    {
     "data": {
      "image/png": "[encoded data removed]",
      "text/plain": [
       "<Figure size 432x288 with 1 Axes>"
      ]
     },
     "metadata": {
      "needs_background": "light"
     },
     "output_type": "display_data"
    }
   ],
   "source": [
    "#create line graph of Age vs number of dependants from df_sample15_2\n",
    "line_age_dependants = sns.lineplot(data=df_sample15_2, x='Age', y='num_of_dependants')"
   ]
  },
  {
   "cell_type": "markdown",
   "id": "633a7070",
   "metadata": {},
   "source": [
    "I cant see any connection between age and the number of dependants for customers. I also did the scatterplot above which helps to show that the number of dependants is only 0,1,2, or 3. Each number of dependants looks to occur across every age group. "
   ]
  },
  {
   "cell_type": "markdown",
   "id": "cf870873",
   "metadata": {},
   "source": [
    "## 7)\n",
    "You’ll also need to explore whether there’s a connection between age and spending power. To visualize this relationship, create a scatterplot using the sns.scatterplot() function.\n",
    "In a markdown cell beneath your scatterplot, describe what the scatterplot shows."
   ]
  },
  {
   "cell_type": "code",
   "execution_count": 30,
   "id": "d1453999",
   "metadata": {
    "scrolled": true
   },
   "outputs": [
    {
     "data": {
      "image/png": "[encoded data removed]",
      "text/plain": [
       "<Figure size 432x288 with 1 Axes>"
      ]
     },
     "metadata": {
      "needs_background": "light"
     },
     "output_type": "display_data"
    }
   ],
   "source": [
    "#create a scatterplot of age vs income of df_cust_ord_prod\n",
    "age_income_scatterplot = sns.scatterplot(x='Age', y='income', data=df_cust_ord_prod)"
   ]
  },
  {
   "cell_type": "markdown",
   "id": "d41710ca",
   "metadata": {},
   "source": [
    "Income, which we are calling spending power, does look to increase with age. Age 40 looks to be a significant factor for when the increase occurs.\n",
    "\n",
    "The scatterplot can be visually broken into 2 categories for ages. Across the range of incomes there is a very dense bottom half of lower incomes and a lighter half of higher incomes.\n",
    "\n",
    "Looking at the dense half, incomes range between 0 and 20k and below until about age 40. Beyond the age 40 the dense lower half of incomes increase their range from 0 to 30k.\n",
    "\n",
    "Looking at the less dense half, incomes range between 20k and 40k and below until about age 40. Beyond the age 40 the less dense upper half of incomes increase their range from 30 to 60k."
   ]
  },
  {
   "cell_type": "markdown",
   "id": "18bd3325",
   "metadata": {},
   "source": [
    "## 8)\n",
    "Export your visualizations as “.png” files in your relevant project folder."
   ]
  },
  {
   "cell_type": "code",
   "execution_count": 31,
   "id": "d29b5995",
   "metadata": {},
   "outputs": [],
   "source": [
    "#export visualizations\n",
    "bar_price_range.figure.savefig(os.path.join(path,'4 Analysis', 'Visualizations', 'bar_price_range.dow.png'))"
   ]
  },
  {
   "cell_type": "code",
   "execution_count": null,
   "id": "b6a2dba8",
   "metadata": {},
   "outputs": [],
   "source": [
    "histo_age.figure.savefig(os.path.join(path,'4 Analysis', 'Visualizations', 'histo_age.dow.png'))"
   ]
  },
  {
   "cell_type": "code",
   "execution_count": null,
   "id": "06067906",
   "metadata": {},
   "outputs": [],
   "source": [
    "scatter_age_avg_user_price.figure.savefig(os.path.join(path,'4 Analysis', 'Visualizations', 'scatter_age_avg_user_price.dow.png'))"
   ]
  },
  {
   "cell_type": "code",
   "execution_count": null,
   "id": "92bd1496",
   "metadata": {},
   "outputs": [],
   "source": [
    "line_sample.figure.savefig(os.path.join(path,'4 Analysis', 'Visualizations', 'line_day_of_week_and_prices.dow.png'))"
   ]
  },
  {
   "cell_type": "code",
   "execution_count": null,
   "id": "37957bcd",
   "metadata": {},
   "outputs": [],
   "source": [
    "histogram_order_hour_of_day.figure.savefig(os.path.join(path,'4 Analysis', 'Visualizations', 'histogram_order_hour_of_day.dow.png'))"
   ]
  },
  {
   "cell_type": "code",
   "execution_count": null,
   "id": "165bfa0e",
   "metadata": {},
   "outputs": [],
   "source": [
    "bar_loyalty_flag.figure.savefig(os.path.join(path,'4 Analysis', 'Visualizations', 'bar_loyalty_flag.dow.png'))"
   ]
  },
  {
   "cell_type": "code",
   "execution_count": null,
   "id": "6b1027a6",
   "metadata": {},
   "outputs": [],
   "source": [
    "line_prices_v_hour_of_day_sample.figure.savefig(os.path.join(path,'4 Analysis', 'Visualizations', 'line_prices_v_hour_of_day_sample.dow.png'))"
   ]
  },
  {
   "cell_type": "code",
   "execution_count": null,
   "id": "dbe42692",
   "metadata": {},
   "outputs": [],
   "source": [
    "age_family_status_scatterplot.figure.savefig(os.path.join(path,'4 Analysis', 'Visualizations', 'age_family_status_scatterplot.dow.png'))"
   ]
  },
  {
   "cell_type": "code",
   "execution_count": null,
   "id": "4261f342",
   "metadata": {},
   "outputs": [],
   "source": [
    "line_age_dependants.figure.savefig(os.path.join(path,'4 Analysis', 'Visualizations', 'line_age_dependants.dow.png'))"
   ]
  },
  {
   "cell_type": "code",
   "execution_count": null,
   "id": "7508feb4",
   "metadata": {},
   "outputs": [],
   "source": [
    "age_income_scatterplot.figure.savefig(os.path.join(path,'4 Analysis', 'Visualizations', 'age_income_scatterplot.dow.png'))"
   ]
  },
  {
   "cell_type": "code",
   "execution_count": null,
   "id": "beb5018c",
   "metadata": {},
   "outputs": [],
   "source": [
    "sum_price_by_hour_bar.figure.savefig(os.path.join(path,'4 Analysis', 'Visualizations', 'bar_avg_price_by_hour.png'))"
   ]
  }
 ],
 "metadata": {
  "kernelspec": {
   "display_name": "Python 3",
   "language": "python",
   "name": "python3"
  },
  "language_info": {
   "codemirror_mode": {
    "name": "ipython",
    "version": 3
   },
   "file_extension": ".py",
   "mimetype": "text/x-python",
   "name": "python",
   "nbconvert_exporter": "python",
   "pygments_lexer": "ipython3",
   "version": "3.8.8"
  }
 },
 "nbformat": 4,
 "nbformat_minor": 5
}
