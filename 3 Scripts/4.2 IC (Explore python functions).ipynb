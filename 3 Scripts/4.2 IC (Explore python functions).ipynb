{
 "cells": [
  {
   "cell_type": "markdown",
   "id": "a095291b",
   "metadata": {},
   "source": [
    "# Table of Contents\n",
    "\n",
    "1) import libraries\n",
    "\n",
    "2) Explore python functions"
   ]
  },
  {
   "cell_type": "markdown",
   "id": "8e4448c3",
   "metadata": {},
   "source": [
    "## 1)"
   ]
  },
  {
   "cell_type": "code",
   "execution_count": 1,
   "id": "2e05ff88",
   "metadata": {},
   "outputs": [],
   "source": [
    "#import pandas and NumPy\n",
    "import pandas as pd\n",
    "import numpy as np"
   ]
  },
  {
   "cell_type": "markdown",
   "id": "518b6b3a",
   "metadata": {},
   "source": [
    "## 2) \n",
    "Explore python functions"
   ]
  },
  {
   "cell_type": "code",
   "execution_count": 15,
   "id": "9ca89269",
   "metadata": {},
   "outputs": [],
   "source": [
    "#code 3 different ways to reach 100 with numeric values adding or subracting\n",
    "x=41\n",
    "y=59\n",
    "w=10\n",
    "z=90\n",
    "a=110"
   ]
  },
  {
   "cell_type": "code",
   "execution_count": 16,
   "id": "c55bfffb",
   "metadata": {},
   "outputs": [
    {
     "data": {
      "text/plain": [
       "100"
      ]
     },
     "execution_count": 16,
     "metadata": {},
     "output_type": "execute_result"
    }
   ],
   "source": [
    "x+y"
   ]
  },
  {
   "cell_type": "code",
   "execution_count": 8,
   "id": "b374e872",
   "metadata": {},
   "outputs": [
    {
     "data": {
      "text/plain": [
       "100"
      ]
     },
     "execution_count": 8,
     "metadata": {},
     "output_type": "execute_result"
    }
   ],
   "source": [
    "w+z"
   ]
  },
  {
   "cell_type": "code",
   "execution_count": 10,
   "id": "272582e9",
   "metadata": {},
   "outputs": [
    {
     "data": {
      "text/plain": [
       "100"
      ]
     },
     "execution_count": 10,
     "metadata": {},
     "output_type": "execute_result"
    }
   ],
   "source": [
    "a-w"
   ]
  },
  {
   "cell_type": "code",
   "execution_count": 18,
   "id": "f4c82015",
   "metadata": {},
   "outputs": [],
   "source": [
    "#code 2 floating-point variables and divide them by each other\n",
    "p=4.9856\n",
    "o=9.3654"
   ]
  },
  {
   "cell_type": "code",
   "execution_count": 19,
   "id": "abb9ffd8",
   "metadata": {},
   "outputs": [
    {
     "data": {
      "text/plain": [
       "0.5323424520041856"
      ]
     },
     "execution_count": 19,
     "metadata": {},
     "output_type": "execute_result"
    }
   ],
   "source": [
    "p/o"
   ]
  },
  {
   "cell_type": "code",
   "execution_count": 20,
   "id": "48585aad",
   "metadata": {},
   "outputs": [],
   "source": [
    "#Construct a short word made of separate strings\n",
    "l='Crum'\n",
    "k='ple'"
   ]
  },
  {
   "cell_type": "code",
   "execution_count": 21,
   "id": "16702cb4",
   "metadata": {},
   "outputs": [
    {
     "data": {
      "text/plain": [
       "'Crumple'"
      ]
     },
     "execution_count": 21,
     "metadata": {},
     "output_type": "execute_result"
    }
   ],
   "source": [
    "l+k"
   ]
  },
  {
   "cell_type": "code",
   "execution_count": 31,
   "id": "bac5dccd",
   "metadata": {},
   "outputs": [],
   "source": [
    "#Construct 2 short sentences made of separate strings.\n",
    "b='In the beginning'\n",
    "v=' the Universe was created.'\n",
    "r=' This has made a lot of people very angry'\n",
    "t=' and been widely regarded as a bad move. '"
   ]
  },
  {
   "cell_type": "code",
   "execution_count": 29,
   "id": "dfe9529a",
   "metadata": {},
   "outputs": [
    {
     "data": {
      "text/plain": [
       "'In the beginning the Universe was created. This has made a lot of people very angry and been widely regarded as a bad move.'"
      ]
     },
     "execution_count": 29,
     "metadata": {},
     "output_type": "execute_result"
    }
   ],
   "source": [
    "b+v+r+t"
   ]
  },
  {
   "cell_type": "code",
   "execution_count": 32,
   "id": "8145c0d6",
   "metadata": {},
   "outputs": [
    {
     "data": {
      "text/plain": [
       "'In the beginning the Universe was created. This has made a lot of people very angry and been widely regarded as a bad move. In the beginning the Universe was created. This has made a lot of people very angry and been widely regarded as a bad move. In the beginning the Universe was created. This has made a lot of people very angry and been widely regarded as a bad move. In the beginning the Universe was created. This has made a lot of people very angry and been widely regarded as a bad move. In the beginning the Universe was created. This has made a lot of people very angry and been widely regarded as a bad move. In the beginning the Universe was created. This has made a lot of people very angry and been widely regarded as a bad move. In the beginning the Universe was created. This has made a lot of people very angry and been widely regarded as a bad move. In the beginning the Universe was created. This has made a lot of people very angry and been widely regarded as a bad move. In the beginning the Universe was created. This has made a lot of people very angry and been widely regarded as a bad move. In the beginning the Universe was created. This has made a lot of people very angry and been widely regarded as a bad move. In the beginning the Universe was created. This has made a lot of people very angry and been widely regarded as a bad move. In the beginning the Universe was created. This has made a lot of people very angry and been widely regarded as a bad move. In the beginning the Universe was created. This has made a lot of people very angry and been widely regarded as a bad move. In the beginning the Universe was created. This has made a lot of people very angry and been widely regarded as a bad move. In the beginning the Universe was created. This has made a lot of people very angry and been widely regarded as a bad move. In the beginning the Universe was created. This has made a lot of people very angry and been widely regarded as a bad move. In the beginning the Universe was created. This has made a lot of people very angry and been widely regarded as a bad move. In the beginning the Universe was created. This has made a lot of people very angry and been widely regarded as a bad move. In the beginning the Universe was created. This has made a lot of people very angry and been widely regarded as a bad move. In the beginning the Universe was created. This has made a lot of people very angry and been widely regarded as a bad move. In the beginning the Universe was created. This has made a lot of people very angry and been widely regarded as a bad move. In the beginning the Universe was created. This has made a lot of people very angry and been widely regarded as a bad move. In the beginning the Universe was created. This has made a lot of people very angry and been widely regarded as a bad move. In the beginning the Universe was created. This has made a lot of people very angry and been widely regarded as a bad move. In the beginning the Universe was created. This has made a lot of people very angry and been widely regarded as a bad move. In the beginning the Universe was created. This has made a lot of people very angry and been widely regarded as a bad move. In the beginning the Universe was created. This has made a lot of people very angry and been widely regarded as a bad move. In the beginning the Universe was created. This has made a lot of people very angry and been widely regarded as a bad move. In the beginning the Universe was created. This has made a lot of people very angry and been widely regarded as a bad move. In the beginning the Universe was created. This has made a lot of people very angry and been widely regarded as a bad move. In the beginning the Universe was created. This has made a lot of people very angry and been widely regarded as a bad move. In the beginning the Universe was created. This has made a lot of people very angry and been widely regarded as a bad move. In the beginning the Universe was created. This has made a lot of people very angry and been widely regarded as a bad move. In the beginning the Universe was created. This has made a lot of people very angry and been widely regarded as a bad move. In the beginning the Universe was created. This has made a lot of people very angry and been widely regarded as a bad move. In the beginning the Universe was created. This has made a lot of people very angry and been widely regarded as a bad move. In the beginning the Universe was created. This has made a lot of people very angry and been widely regarded as a bad move. In the beginning the Universe was created. This has made a lot of people very angry and been widely regarded as a bad move. In the beginning the Universe was created. This has made a lot of people very angry and been widely regarded as a bad move. In the beginning the Universe was created. This has made a lot of people very angry and been widely regarded as a bad move. In the beginning the Universe was created. This has made a lot of people very angry and been widely regarded as a bad move. In the beginning the Universe was created. This has made a lot of people very angry and been widely regarded as a bad move. In the beginning the Universe was created. This has made a lot of people very angry and been widely regarded as a bad move. In the beginning the Universe was created. This has made a lot of people very angry and been widely regarded as a bad move. In the beginning the Universe was created. This has made a lot of people very angry and been widely regarded as a bad move. In the beginning the Universe was created. This has made a lot of people very angry and been widely regarded as a bad move. In the beginning the Universe was created. This has made a lot of people very angry and been widely regarded as a bad move. In the beginning the Universe was created. This has made a lot of people very angry and been widely regarded as a bad move. In the beginning the Universe was created. This has made a lot of people very angry and been widely regarded as a bad move. In the beginning the Universe was created. This has made a lot of people very angry and been widely regarded as a bad move. In the beginning the Universe was created. This has made a lot of people very angry and been widely regarded as a bad move. In the beginning the Universe was created. This has made a lot of people very angry and been widely regarded as a bad move. In the beginning the Universe was created. This has made a lot of people very angry and been widely regarded as a bad move. In the beginning the Universe was created. This has made a lot of people very angry and been widely regarded as a bad move. In the beginning the Universe was created. This has made a lot of people very angry and been widely regarded as a bad move. In the beginning the Universe was created. This has made a lot of people very angry and been widely regarded as a bad move. In the beginning the Universe was created. This has made a lot of people very angry and been widely regarded as a bad move. In the beginning the Universe was created. This has made a lot of people very angry and been widely regarded as a bad move. In the beginning the Universe was created. This has made a lot of people very angry and been widely regarded as a bad move. In the beginning the Universe was created. This has made a lot of people very angry and been widely regarded as a bad move. In the beginning the Universe was created. This has made a lot of people very angry and been widely regarded as a bad move. In the beginning the Universe was created. This has made a lot of people very angry and been widely regarded as a bad move. In the beginning the Universe was created. This has made a lot of people very angry and been widely regarded as a bad move. In the beginning the Universe was created. This has made a lot of people very angry and been widely regarded as a bad move. In the beginning the Universe was created. This has made a lot of people very angry and been widely regarded as a bad move. In the beginning the Universe was created. This has made a lot of people very angry and been widely regarded as a bad move. In the beginning the Universe was created. This has made a lot of people very angry and been widely regarded as a bad move. In the beginning the Universe was created. This has made a lot of people very angry and been widely regarded as a bad move. In the beginning the Universe was created. This has made a lot of people very angry and been widely regarded as a bad move. In the beginning the Universe was created. This has made a lot of people very angry and been widely regarded as a bad move. In the beginning the Universe was created. This has made a lot of people very angry and been widely regarded as a bad move. In the beginning the Universe was created. This has made a lot of people very angry and been widely regarded as a bad move. In the beginning the Universe was created. This has made a lot of people very angry and been widely regarded as a bad move. In the beginning the Universe was created. This has made a lot of people very angry and been widely regarded as a bad move. In the beginning the Universe was created. This has made a lot of people very angry and been widely regarded as a bad move. In the beginning the Universe was created. This has made a lot of people very angry and been widely regarded as a bad move. In the beginning the Universe was created. This has made a lot of people very angry and been widely regarded as a bad move. In the beginning the Universe was created. This has made a lot of people very angry and been widely regarded as a bad move. In the beginning the Universe was created. This has made a lot of people very angry and been widely regarded as a bad move. In the beginning the Universe was created. This has made a lot of people very angry and been widely regarded as a bad move. In the beginning the Universe was created. This has made a lot of people very angry and been widely regarded as a bad move. In the beginning the Universe was created. This has made a lot of people very angry and been widely regarded as a bad move. In the beginning the Universe was created. This has made a lot of people very angry and been widely regarded as a bad move. In the beginning the Universe was created. This has made a lot of people very angry and been widely regarded as a bad move. In the beginning the Universe was created. This has made a lot of people very angry and been widely regarded as a bad move. In the beginning the Universe was created. This has made a lot of people very angry and been widely regarded as a bad move. In the beginning the Universe was created. This has made a lot of people very angry and been widely regarded as a bad move. In the beginning the Universe was created. This has made a lot of people very angry and been widely regarded as a bad move. In the beginning the Universe was created. This has made a lot of people very angry and been widely regarded as a bad move. In the beginning the Universe was created. This has made a lot of people very angry and been widely regarded as a bad move. In the beginning the Universe was created. This has made a lot of people very angry and been widely regarded as a bad move. In the beginning the Universe was created. This has made a lot of people very angry and been widely regarded as a bad move. In the beginning the Universe was created. This has made a lot of people very angry and been widely regarded as a bad move. In the beginning the Universe was created. This has made a lot of people very angry and been widely regarded as a bad move. In the beginning the Universe was created. This has made a lot of people very angry and been widely regarded as a bad move. In the beginning the Universe was created. This has made a lot of people very angry and been widely regarded as a bad move. In the beginning the Universe was created. This has made a lot of people very angry and been widely regarded as a bad move. In the beginning the Universe was created. This has made a lot of people very angry and been widely regarded as a bad move. In the beginning the Universe was created. This has made a lot of people very angry and been widely regarded as a bad move. In the beginning the Universe was created. This has made a lot of people very angry and been widely regarded as a bad move. '"
      ]
     },
     "execution_count": 32,
     "metadata": {},
     "output_type": "execute_result"
    }
   ],
   "source": [
    "#bonus. make a string appear 100 times\n",
    "(b+v+r+t)*100"
   ]
  }
 ],
 "metadata": {
  "kernelspec": {
   "display_name": "Python 3",
   "language": "python",
   "name": "python3"
  },
  "language_info": {
   "codemirror_mode": {
    "name": "ipython",
    "version": 3
   },
   "file_extension": ".py",
   "mimetype": "text/x-python",
   "name": "python",
   "nbconvert_exporter": "python",
   "pygments_lexer": "ipython3",
   "version": "3.8.8"
  }
 },
 "nbformat": 4,
 "nbformat_minor": 5
}
